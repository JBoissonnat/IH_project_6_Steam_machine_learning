{
 "cells": [
  {
   "cell_type": "code",
   "execution_count": 7,
   "metadata": {},
   "outputs": [],
   "source": [
    "import pandas as pd\n",
    "import numpy as np\n",
    "import matplotlib.pyplot as plt\n",
    "%matplotlib inline\n",
    "import seaborn as sns\n",
    "\n",
    "from datetime import date\n",
    "from datetime import datetime\n",
    "\n",
    "from scipy.stats import boxcox\n",
    "\n",
    "from sklearn.preprocessing import MultiLabelBinarizer\n",
    "from sklearn.model_selection import train_test_split\n",
    "from sklearn.feature_selection import RFE\n",
    "from sklearn.linear_model import LinearRegression\n",
    "from sklearn.preprocessing import StandardScaler\n",
    "\n",
    "from sklearn.linear_model import LogisticRegression\n",
    "from sklearn.svm import NuSVC\n",
    "from sklearn.ensemble import RandomForestClassifier\n",
    "from sklearn.neighbors import KNeighborsClassifier\n",
    "\n",
    "from sklearn.metrics import confusion_matrix\n",
    "from sklearn.metrics import accuracy_score\n",
    "from sklearn.metrics import precision_score\n",
    "from sklearn.metrics import roc_auc_score"
   ]
  },
  {
   "cell_type": "markdown",
   "metadata": {},
   "source": [
    "# Functions"
   ]
  },
  {
   "cell_type": "markdown",
   "metadata": {},
   "source": [
    "### list_unique() defnition"
   ]
  },
  {
   "cell_type": "code",
   "execution_count": 8,
   "metadata": {},
   "outputs": [],
   "source": [
    "def list_unique(col):\n",
    "    list_origin = list(col)\n",
    "    \n",
    "    for idx, items in enumerate(list_origin):\n",
    "        if \";\" in items:\n",
    "            elems=items.split(\";\")\n",
    "            list_origin[idx] = elems.pop(0)\n",
    "            for elem in elems:\n",
    "                list_origin.append(elem)\n",
    "                \n",
    "    res = list(set(list_origin))\n",
    "    \n",
    "    return res"
   ]
  },
  {
   "cell_type": "markdown",
   "metadata": {},
   "source": [
    "### mean_owners() defnition"
   ]
  },
  {
   "cell_type": "code",
   "execution_count": 9,
   "metadata": {},
   "outputs": [],
   "source": [
    "def mean_owners(str):\n",
    "    lst = str.split(\"-\")\n",
    "    return (int(lst[0])+int(lst[1]))/2"
   ]
  },
  {
   "cell_type": "markdown",
   "metadata": {},
   "source": [
    "### outliers_lim() definition"
   ]
  },
  {
   "cell_type": "code",
   "execution_count": 10,
   "metadata": {},
   "outputs": [],
   "source": [
    "def outliers_lim(column, dataset):\n",
    "    \n",
    "    Q1 = dataset[column].quantile(0.25)\n",
    "    Q3 = dataset[column].quantile(0.75)\n",
    "    IQR = Q3 - Q1\n",
    "\n",
    "    Outlierbottom = Q1 - IQR*1.5\n",
    "\n",
    "    Outliertop = Q3 + IQR*1.5\n",
    "    \n",
    "    print(column+\" outliers limits : below \"+str(Outlierbottom)+\" and above \"+str(Outliertop))\n",
    "    print(\"\\nMin, Max values : \"+str(dataset[column].loc[(dataset[column]<Outlierbottom) | (dataset[column]>Outliertop)].min())+\" \"+str(dataset[column].loc[(dataset[column]<Outlierbottom) | (dataset[column]>Outliertop)].max()))\n",
    "    print(\"\\nNb of outliers : \"+str(dataset[column].loc[(dataset[column]<Outlierbottom) | (dataset[column]>Outliertop)].count()))\n",
    "    \n",
    "    return Outlierbottom, Outliertop"
   ]
  },
  {
   "cell_type": "markdown",
   "metadata": {},
   "source": [
    "# Import and first look at the data"
   ]
  },
  {
   "cell_type": "code",
   "execution_count": 11,
   "metadata": {},
   "outputs": [],
   "source": [
    "path_data = r\"C:\\Users\\jeanb\\Desktop\\Cours\\Cours Ironhack\\Projets\\Projet_week_7\"\n",
    "data = pd.read_csv(path_data+\"/steam.csv\")"
   ]
  },
  {
   "cell_type": "code",
   "execution_count": 12,
   "metadata": {},
   "outputs": [
    {
     "data": {
      "text/html": [
       "<div>\n",
       "<style scoped>\n",
       "    .dataframe tbody tr th:only-of-type {\n",
       "        vertical-align: middle;\n",
       "    }\n",
       "\n",
       "    .dataframe tbody tr th {\n",
       "        vertical-align: top;\n",
       "    }\n",
       "\n",
       "    .dataframe thead th {\n",
       "        text-align: right;\n",
       "    }\n",
       "</style>\n",
       "<table border=\"1\" class=\"dataframe\">\n",
       "  <thead>\n",
       "    <tr style=\"text-align: right;\">\n",
       "      <th></th>\n",
       "      <th>appid</th>\n",
       "      <th>name</th>\n",
       "      <th>release_date</th>\n",
       "      <th>english</th>\n",
       "      <th>developer</th>\n",
       "      <th>publisher</th>\n",
       "      <th>platforms</th>\n",
       "      <th>required_age</th>\n",
       "      <th>categories</th>\n",
       "      <th>genres</th>\n",
       "      <th>steamspy_tags</th>\n",
       "      <th>achievements</th>\n",
       "      <th>positive_ratings</th>\n",
       "      <th>negative_ratings</th>\n",
       "      <th>average_playtime</th>\n",
       "      <th>median_playtime</th>\n",
       "      <th>owners</th>\n",
       "      <th>price</th>\n",
       "    </tr>\n",
       "  </thead>\n",
       "  <tbody>\n",
       "    <tr>\n",
       "      <td>0</td>\n",
       "      <td>10</td>\n",
       "      <td>Counter-Strike</td>\n",
       "      <td>2000-11-01</td>\n",
       "      <td>1</td>\n",
       "      <td>Valve</td>\n",
       "      <td>Valve</td>\n",
       "      <td>windows;mac;linux</td>\n",
       "      <td>0</td>\n",
       "      <td>Multi-player;Online Multi-Player;Local Multi-P...</td>\n",
       "      <td>Action</td>\n",
       "      <td>Action;FPS;Multiplayer</td>\n",
       "      <td>0</td>\n",
       "      <td>124534</td>\n",
       "      <td>3339</td>\n",
       "      <td>17612</td>\n",
       "      <td>317</td>\n",
       "      <td>10000000-20000000</td>\n",
       "      <td>7.19</td>\n",
       "    </tr>\n",
       "    <tr>\n",
       "      <td>1</td>\n",
       "      <td>20</td>\n",
       "      <td>Team Fortress Classic</td>\n",
       "      <td>1999-04-01</td>\n",
       "      <td>1</td>\n",
       "      <td>Valve</td>\n",
       "      <td>Valve</td>\n",
       "      <td>windows;mac;linux</td>\n",
       "      <td>0</td>\n",
       "      <td>Multi-player;Online Multi-Player;Local Multi-P...</td>\n",
       "      <td>Action</td>\n",
       "      <td>Action;FPS;Multiplayer</td>\n",
       "      <td>0</td>\n",
       "      <td>3318</td>\n",
       "      <td>633</td>\n",
       "      <td>277</td>\n",
       "      <td>62</td>\n",
       "      <td>5000000-10000000</td>\n",
       "      <td>3.99</td>\n",
       "    </tr>\n",
       "    <tr>\n",
       "      <td>2</td>\n",
       "      <td>30</td>\n",
       "      <td>Day of Defeat</td>\n",
       "      <td>2003-05-01</td>\n",
       "      <td>1</td>\n",
       "      <td>Valve</td>\n",
       "      <td>Valve</td>\n",
       "      <td>windows;mac;linux</td>\n",
       "      <td>0</td>\n",
       "      <td>Multi-player;Valve Anti-Cheat enabled</td>\n",
       "      <td>Action</td>\n",
       "      <td>FPS;World War II;Multiplayer</td>\n",
       "      <td>0</td>\n",
       "      <td>3416</td>\n",
       "      <td>398</td>\n",
       "      <td>187</td>\n",
       "      <td>34</td>\n",
       "      <td>5000000-10000000</td>\n",
       "      <td>3.99</td>\n",
       "    </tr>\n",
       "    <tr>\n",
       "      <td>3</td>\n",
       "      <td>40</td>\n",
       "      <td>Deathmatch Classic</td>\n",
       "      <td>2001-06-01</td>\n",
       "      <td>1</td>\n",
       "      <td>Valve</td>\n",
       "      <td>Valve</td>\n",
       "      <td>windows;mac;linux</td>\n",
       "      <td>0</td>\n",
       "      <td>Multi-player;Online Multi-Player;Local Multi-P...</td>\n",
       "      <td>Action</td>\n",
       "      <td>Action;FPS;Multiplayer</td>\n",
       "      <td>0</td>\n",
       "      <td>1273</td>\n",
       "      <td>267</td>\n",
       "      <td>258</td>\n",
       "      <td>184</td>\n",
       "      <td>5000000-10000000</td>\n",
       "      <td>3.99</td>\n",
       "    </tr>\n",
       "    <tr>\n",
       "      <td>4</td>\n",
       "      <td>50</td>\n",
       "      <td>Half-Life: Opposing Force</td>\n",
       "      <td>1999-11-01</td>\n",
       "      <td>1</td>\n",
       "      <td>Gearbox Software</td>\n",
       "      <td>Valve</td>\n",
       "      <td>windows;mac;linux</td>\n",
       "      <td>0</td>\n",
       "      <td>Single-player;Multi-player;Valve Anti-Cheat en...</td>\n",
       "      <td>Action</td>\n",
       "      <td>FPS;Action;Sci-fi</td>\n",
       "      <td>0</td>\n",
       "      <td>5250</td>\n",
       "      <td>288</td>\n",
       "      <td>624</td>\n",
       "      <td>415</td>\n",
       "      <td>5000000-10000000</td>\n",
       "      <td>3.99</td>\n",
       "    </tr>\n",
       "  </tbody>\n",
       "</table>\n",
       "</div>"
      ],
      "text/plain": [
       "   appid                       name release_date  english         developer  \\\n",
       "0     10             Counter-Strike   2000-11-01        1             Valve   \n",
       "1     20      Team Fortress Classic   1999-04-01        1             Valve   \n",
       "2     30              Day of Defeat   2003-05-01        1             Valve   \n",
       "3     40         Deathmatch Classic   2001-06-01        1             Valve   \n",
       "4     50  Half-Life: Opposing Force   1999-11-01        1  Gearbox Software   \n",
       "\n",
       "  publisher          platforms  required_age  \\\n",
       "0     Valve  windows;mac;linux             0   \n",
       "1     Valve  windows;mac;linux             0   \n",
       "2     Valve  windows;mac;linux             0   \n",
       "3     Valve  windows;mac;linux             0   \n",
       "4     Valve  windows;mac;linux             0   \n",
       "\n",
       "                                          categories  genres  \\\n",
       "0  Multi-player;Online Multi-Player;Local Multi-P...  Action   \n",
       "1  Multi-player;Online Multi-Player;Local Multi-P...  Action   \n",
       "2              Multi-player;Valve Anti-Cheat enabled  Action   \n",
       "3  Multi-player;Online Multi-Player;Local Multi-P...  Action   \n",
       "4  Single-player;Multi-player;Valve Anti-Cheat en...  Action   \n",
       "\n",
       "                  steamspy_tags  achievements  positive_ratings  \\\n",
       "0        Action;FPS;Multiplayer             0            124534   \n",
       "1        Action;FPS;Multiplayer             0              3318   \n",
       "2  FPS;World War II;Multiplayer             0              3416   \n",
       "3        Action;FPS;Multiplayer             0              1273   \n",
       "4             FPS;Action;Sci-fi             0              5250   \n",
       "\n",
       "   negative_ratings  average_playtime  median_playtime             owners  \\\n",
       "0              3339             17612              317  10000000-20000000   \n",
       "1               633               277               62   5000000-10000000   \n",
       "2               398               187               34   5000000-10000000   \n",
       "3               267               258              184   5000000-10000000   \n",
       "4               288               624              415   5000000-10000000   \n",
       "\n",
       "   price  \n",
       "0   7.19  \n",
       "1   3.99  \n",
       "2   3.99  \n",
       "3   3.99  \n",
       "4   3.99  "
      ]
     },
     "execution_count": 12,
     "metadata": {},
     "output_type": "execute_result"
    }
   ],
   "source": [
    "data.head()"
   ]
  },
  {
   "cell_type": "code",
   "execution_count": 13,
   "metadata": {},
   "outputs": [
    {
     "data": {
      "text/plain": [
       "(27075, 18)"
      ]
     },
     "execution_count": 13,
     "metadata": {},
     "output_type": "execute_result"
    }
   ],
   "source": [
    "data.shape"
   ]
  },
  {
   "cell_type": "code",
   "execution_count": 14,
   "metadata": {},
   "outputs": [
    {
     "name": "stdout",
     "output_type": "stream",
     "text": [
      "<class 'pandas.core.frame.DataFrame'>\n",
      "RangeIndex: 27075 entries, 0 to 27074\n",
      "Data columns (total 18 columns):\n",
      "appid               27075 non-null int64\n",
      "name                27075 non-null object\n",
      "release_date        27075 non-null object\n",
      "english             27075 non-null int64\n",
      "developer           27075 non-null object\n",
      "publisher           27075 non-null object\n",
      "platforms           27075 non-null object\n",
      "required_age        27075 non-null int64\n",
      "categories          27075 non-null object\n",
      "genres              27075 non-null object\n",
      "steamspy_tags       27075 non-null object\n",
      "achievements        27075 non-null int64\n",
      "positive_ratings    27075 non-null int64\n",
      "negative_ratings    27075 non-null int64\n",
      "average_playtime    27075 non-null int64\n",
      "median_playtime     27075 non-null int64\n",
      "owners              27075 non-null object\n",
      "price               27075 non-null float64\n",
      "dtypes: float64(1), int64(8), object(9)\n",
      "memory usage: 3.7+ MB\n"
     ]
    }
   ],
   "source": [
    "data.info()"
   ]
  },
  {
   "cell_type": "markdown",
   "metadata": {},
   "source": [
    "# Cleaning the dataset"
   ]
  },
  {
   "cell_type": "markdown",
   "metadata": {},
   "source": [
    "- Calculating age of the games (release_date)\n",
    "- Create dummies for platforms\n",
    "- Create dummies for required_age\n",
    "- Handling categories column\n",
    "- Create dummies for genres\n",
    "- Create positive/negative reviews column (test if nb positive ratings is superior or inferior to nb negative ratings) + total_ratings column\n",
    "- Create estimate owners column (mean between the 2 values of owners)\n",
    "- Drop appid, (name ?), release_date, developer, publisher, platforms; required age, genres, steamspy_tags, owners"
   ]
  },
  {
   "cell_type": "markdown",
   "metadata": {},
   "source": [
    "Checking columns for nan"
   ]
  },
  {
   "cell_type": "code",
   "execution_count": 15,
   "metadata": {},
   "outputs": [
    {
     "data": {
      "text/plain": [
       "appid               0\n",
       "name                0\n",
       "release_date        0\n",
       "english             0\n",
       "developer           0\n",
       "publisher           0\n",
       "platforms           0\n",
       "required_age        0\n",
       "categories          0\n",
       "genres              0\n",
       "steamspy_tags       0\n",
       "achievements        0\n",
       "positive_ratings    0\n",
       "negative_ratings    0\n",
       "average_playtime    0\n",
       "median_playtime     0\n",
       "owners              0\n",
       "price               0\n",
       "dtype: int64"
      ]
     },
     "execution_count": 15,
     "metadata": {},
     "output_type": "execute_result"
    }
   ],
   "source": [
    "data.isna().sum()"
   ]
  },
  {
   "cell_type": "markdown",
   "metadata": {},
   "source": [
    "### Calculating age of the games (release_date)"
   ]
  },
  {
   "cell_type": "code",
   "execution_count": 16,
   "metadata": {},
   "outputs": [],
   "source": [
    "def calculateAge(birthDate):\n",
    "    birthDate = datetime.strptime(birthDate, '%Y-%m-%d').date()\n",
    "    today = date.today() \n",
    "    age = today.year - birthDate.year - ((today.month, today.day) < (birthDate.month, birthDate.day)) \n",
    "  \n",
    "    return age"
   ]
  },
  {
   "cell_type": "code",
   "execution_count": 17,
   "metadata": {},
   "outputs": [],
   "source": [
    "data[\"game_age\"] = data.apply(lambda row : calculateAge(row[\"release_date\"]), axis=1)"
   ]
  },
  {
   "cell_type": "markdown",
   "metadata": {},
   "source": [
    "### Creating dummies for platforms"
   ]
  },
  {
   "cell_type": "markdown",
   "metadata": {},
   "source": [
    "Formating platforms column "
   ]
  },
  {
   "cell_type": "code",
   "execution_count": 18,
   "metadata": {},
   "outputs": [],
   "source": [
    "data[\"platforms\"] = data.apply(lambda row : row[\"platforms\"].split(\";\") , axis=1)"
   ]
  },
  {
   "cell_type": "markdown",
   "metadata": {},
   "source": [
    "Creating dummies for platforms"
   ]
  },
  {
   "cell_type": "code",
   "execution_count": 19,
   "metadata": {},
   "outputs": [],
   "source": [
    "mlb = MultiLabelBinarizer()\n",
    "platforms_dummies = pd.DataFrame(mlb.fit_transform(data.platforms),\n",
    "                          columns=mlb.classes_,\n",
    "                          index=data.index).add_prefix('platforms_')"
   ]
  },
  {
   "cell_type": "code",
   "execution_count": 20,
   "metadata": {},
   "outputs": [
    {
     "data": {
      "text/html": [
       "<div>\n",
       "<style scoped>\n",
       "    .dataframe tbody tr th:only-of-type {\n",
       "        vertical-align: middle;\n",
       "    }\n",
       "\n",
       "    .dataframe tbody tr th {\n",
       "        vertical-align: top;\n",
       "    }\n",
       "\n",
       "    .dataframe thead th {\n",
       "        text-align: right;\n",
       "    }\n",
       "</style>\n",
       "<table border=\"1\" class=\"dataframe\">\n",
       "  <thead>\n",
       "    <tr style=\"text-align: right;\">\n",
       "      <th></th>\n",
       "      <th>platforms_linux</th>\n",
       "      <th>platforms_mac</th>\n",
       "      <th>platforms_windows</th>\n",
       "    </tr>\n",
       "  </thead>\n",
       "  <tbody>\n",
       "    <tr>\n",
       "      <td>0</td>\n",
       "      <td>1</td>\n",
       "      <td>1</td>\n",
       "      <td>1</td>\n",
       "    </tr>\n",
       "    <tr>\n",
       "      <td>1</td>\n",
       "      <td>1</td>\n",
       "      <td>1</td>\n",
       "      <td>1</td>\n",
       "    </tr>\n",
       "    <tr>\n",
       "      <td>2</td>\n",
       "      <td>1</td>\n",
       "      <td>1</td>\n",
       "      <td>1</td>\n",
       "    </tr>\n",
       "    <tr>\n",
       "      <td>3</td>\n",
       "      <td>1</td>\n",
       "      <td>1</td>\n",
       "      <td>1</td>\n",
       "    </tr>\n",
       "    <tr>\n",
       "      <td>4</td>\n",
       "      <td>1</td>\n",
       "      <td>1</td>\n",
       "      <td>1</td>\n",
       "    </tr>\n",
       "    <tr>\n",
       "      <td>...</td>\n",
       "      <td>...</td>\n",
       "      <td>...</td>\n",
       "      <td>...</td>\n",
       "    </tr>\n",
       "    <tr>\n",
       "      <td>27070</td>\n",
       "      <td>0</td>\n",
       "      <td>0</td>\n",
       "      <td>1</td>\n",
       "    </tr>\n",
       "    <tr>\n",
       "      <td>27071</td>\n",
       "      <td>0</td>\n",
       "      <td>0</td>\n",
       "      <td>1</td>\n",
       "    </tr>\n",
       "    <tr>\n",
       "      <td>27072</td>\n",
       "      <td>0</td>\n",
       "      <td>0</td>\n",
       "      <td>1</td>\n",
       "    </tr>\n",
       "    <tr>\n",
       "      <td>27073</td>\n",
       "      <td>0</td>\n",
       "      <td>1</td>\n",
       "      <td>1</td>\n",
       "    </tr>\n",
       "    <tr>\n",
       "      <td>27074</td>\n",
       "      <td>0</td>\n",
       "      <td>1</td>\n",
       "      <td>1</td>\n",
       "    </tr>\n",
       "  </tbody>\n",
       "</table>\n",
       "<p>27075 rows × 3 columns</p>\n",
       "</div>"
      ],
      "text/plain": [
       "       platforms_linux  platforms_mac  platforms_windows\n",
       "0                    1              1                  1\n",
       "1                    1              1                  1\n",
       "2                    1              1                  1\n",
       "3                    1              1                  1\n",
       "4                    1              1                  1\n",
       "...                ...            ...                ...\n",
       "27070                0              0                  1\n",
       "27071                0              0                  1\n",
       "27072                0              0                  1\n",
       "27073                0              1                  1\n",
       "27074                0              1                  1\n",
       "\n",
       "[27075 rows x 3 columns]"
      ]
     },
     "execution_count": 20,
     "metadata": {},
     "output_type": "execute_result"
    }
   ],
   "source": [
    "platforms_dummies"
   ]
  },
  {
   "cell_type": "code",
   "execution_count": 21,
   "metadata": {},
   "outputs": [],
   "source": [
    "data=data.join(platforms_dummies)"
   ]
  },
  {
   "cell_type": "code",
   "execution_count": 22,
   "metadata": {},
   "outputs": [
    {
     "data": {
      "text/plain": [
       "(27075, 22)"
      ]
     },
     "execution_count": 22,
     "metadata": {},
     "output_type": "execute_result"
    }
   ],
   "source": [
    "data.shape"
   ]
  },
  {
   "cell_type": "markdown",
   "metadata": {},
   "source": [
    "### Create dummies for required_age"
   ]
  },
  {
   "cell_type": "code",
   "execution_count": 23,
   "metadata": {},
   "outputs": [],
   "source": [
    "data = pd.get_dummies(data=data, columns=[\"required_age\"], prefix=\"req_age\", prefix_sep='_', drop_first=True)"
   ]
  },
  {
   "cell_type": "code",
   "execution_count": 24,
   "metadata": {},
   "outputs": [
    {
     "data": {
      "text/html": [
       "<div>\n",
       "<style scoped>\n",
       "    .dataframe tbody tr th:only-of-type {\n",
       "        vertical-align: middle;\n",
       "    }\n",
       "\n",
       "    .dataframe tbody tr th {\n",
       "        vertical-align: top;\n",
       "    }\n",
       "\n",
       "    .dataframe thead th {\n",
       "        text-align: right;\n",
       "    }\n",
       "</style>\n",
       "<table border=\"1\" class=\"dataframe\">\n",
       "  <thead>\n",
       "    <tr style=\"text-align: right;\">\n",
       "      <th></th>\n",
       "      <th>appid</th>\n",
       "      <th>name</th>\n",
       "      <th>release_date</th>\n",
       "      <th>english</th>\n",
       "      <th>developer</th>\n",
       "      <th>publisher</th>\n",
       "      <th>platforms</th>\n",
       "      <th>categories</th>\n",
       "      <th>genres</th>\n",
       "      <th>steamspy_tags</th>\n",
       "      <th>...</th>\n",
       "      <th>price</th>\n",
       "      <th>game_age</th>\n",
       "      <th>platforms_linux</th>\n",
       "      <th>platforms_mac</th>\n",
       "      <th>platforms_windows</th>\n",
       "      <th>req_age_3</th>\n",
       "      <th>req_age_7</th>\n",
       "      <th>req_age_12</th>\n",
       "      <th>req_age_16</th>\n",
       "      <th>req_age_18</th>\n",
       "    </tr>\n",
       "  </thead>\n",
       "  <tbody>\n",
       "    <tr>\n",
       "      <td>0</td>\n",
       "      <td>10</td>\n",
       "      <td>Counter-Strike</td>\n",
       "      <td>2000-11-01</td>\n",
       "      <td>1</td>\n",
       "      <td>Valve</td>\n",
       "      <td>Valve</td>\n",
       "      <td>[windows, mac, linux]</td>\n",
       "      <td>Multi-player;Online Multi-Player;Local Multi-P...</td>\n",
       "      <td>Action</td>\n",
       "      <td>Action;FPS;Multiplayer</td>\n",
       "      <td>...</td>\n",
       "      <td>7.19</td>\n",
       "      <td>19</td>\n",
       "      <td>1</td>\n",
       "      <td>1</td>\n",
       "      <td>1</td>\n",
       "      <td>0</td>\n",
       "      <td>0</td>\n",
       "      <td>0</td>\n",
       "      <td>0</td>\n",
       "      <td>0</td>\n",
       "    </tr>\n",
       "    <tr>\n",
       "      <td>1</td>\n",
       "      <td>20</td>\n",
       "      <td>Team Fortress Classic</td>\n",
       "      <td>1999-04-01</td>\n",
       "      <td>1</td>\n",
       "      <td>Valve</td>\n",
       "      <td>Valve</td>\n",
       "      <td>[windows, mac, linux]</td>\n",
       "      <td>Multi-player;Online Multi-Player;Local Multi-P...</td>\n",
       "      <td>Action</td>\n",
       "      <td>Action;FPS;Multiplayer</td>\n",
       "      <td>...</td>\n",
       "      <td>3.99</td>\n",
       "      <td>21</td>\n",
       "      <td>1</td>\n",
       "      <td>1</td>\n",
       "      <td>1</td>\n",
       "      <td>0</td>\n",
       "      <td>0</td>\n",
       "      <td>0</td>\n",
       "      <td>0</td>\n",
       "      <td>0</td>\n",
       "    </tr>\n",
       "    <tr>\n",
       "      <td>2</td>\n",
       "      <td>30</td>\n",
       "      <td>Day of Defeat</td>\n",
       "      <td>2003-05-01</td>\n",
       "      <td>1</td>\n",
       "      <td>Valve</td>\n",
       "      <td>Valve</td>\n",
       "      <td>[windows, mac, linux]</td>\n",
       "      <td>Multi-player;Valve Anti-Cheat enabled</td>\n",
       "      <td>Action</td>\n",
       "      <td>FPS;World War II;Multiplayer</td>\n",
       "      <td>...</td>\n",
       "      <td>3.99</td>\n",
       "      <td>17</td>\n",
       "      <td>1</td>\n",
       "      <td>1</td>\n",
       "      <td>1</td>\n",
       "      <td>0</td>\n",
       "      <td>0</td>\n",
       "      <td>0</td>\n",
       "      <td>0</td>\n",
       "      <td>0</td>\n",
       "    </tr>\n",
       "    <tr>\n",
       "      <td>3</td>\n",
       "      <td>40</td>\n",
       "      <td>Deathmatch Classic</td>\n",
       "      <td>2001-06-01</td>\n",
       "      <td>1</td>\n",
       "      <td>Valve</td>\n",
       "      <td>Valve</td>\n",
       "      <td>[windows, mac, linux]</td>\n",
       "      <td>Multi-player;Online Multi-Player;Local Multi-P...</td>\n",
       "      <td>Action</td>\n",
       "      <td>Action;FPS;Multiplayer</td>\n",
       "      <td>...</td>\n",
       "      <td>3.99</td>\n",
       "      <td>18</td>\n",
       "      <td>1</td>\n",
       "      <td>1</td>\n",
       "      <td>1</td>\n",
       "      <td>0</td>\n",
       "      <td>0</td>\n",
       "      <td>0</td>\n",
       "      <td>0</td>\n",
       "      <td>0</td>\n",
       "    </tr>\n",
       "    <tr>\n",
       "      <td>4</td>\n",
       "      <td>50</td>\n",
       "      <td>Half-Life: Opposing Force</td>\n",
       "      <td>1999-11-01</td>\n",
       "      <td>1</td>\n",
       "      <td>Gearbox Software</td>\n",
       "      <td>Valve</td>\n",
       "      <td>[windows, mac, linux]</td>\n",
       "      <td>Single-player;Multi-player;Valve Anti-Cheat en...</td>\n",
       "      <td>Action</td>\n",
       "      <td>FPS;Action;Sci-fi</td>\n",
       "      <td>...</td>\n",
       "      <td>3.99</td>\n",
       "      <td>20</td>\n",
       "      <td>1</td>\n",
       "      <td>1</td>\n",
       "      <td>1</td>\n",
       "      <td>0</td>\n",
       "      <td>0</td>\n",
       "      <td>0</td>\n",
       "      <td>0</td>\n",
       "      <td>0</td>\n",
       "    </tr>\n",
       "  </tbody>\n",
       "</table>\n",
       "<p>5 rows × 26 columns</p>\n",
       "</div>"
      ],
      "text/plain": [
       "   appid                       name release_date  english         developer  \\\n",
       "0     10             Counter-Strike   2000-11-01        1             Valve   \n",
       "1     20      Team Fortress Classic   1999-04-01        1             Valve   \n",
       "2     30              Day of Defeat   2003-05-01        1             Valve   \n",
       "3     40         Deathmatch Classic   2001-06-01        1             Valve   \n",
       "4     50  Half-Life: Opposing Force   1999-11-01        1  Gearbox Software   \n",
       "\n",
       "  publisher              platforms  \\\n",
       "0     Valve  [windows, mac, linux]   \n",
       "1     Valve  [windows, mac, linux]   \n",
       "2     Valve  [windows, mac, linux]   \n",
       "3     Valve  [windows, mac, linux]   \n",
       "4     Valve  [windows, mac, linux]   \n",
       "\n",
       "                                          categories  genres  \\\n",
       "0  Multi-player;Online Multi-Player;Local Multi-P...  Action   \n",
       "1  Multi-player;Online Multi-Player;Local Multi-P...  Action   \n",
       "2              Multi-player;Valve Anti-Cheat enabled  Action   \n",
       "3  Multi-player;Online Multi-Player;Local Multi-P...  Action   \n",
       "4  Single-player;Multi-player;Valve Anti-Cheat en...  Action   \n",
       "\n",
       "                  steamspy_tags  ...  price  game_age  platforms_linux  \\\n",
       "0        Action;FPS;Multiplayer  ...   7.19        19                1   \n",
       "1        Action;FPS;Multiplayer  ...   3.99        21                1   \n",
       "2  FPS;World War II;Multiplayer  ...   3.99        17                1   \n",
       "3        Action;FPS;Multiplayer  ...   3.99        18                1   \n",
       "4             FPS;Action;Sci-fi  ...   3.99        20                1   \n",
       "\n",
       "   platforms_mac  platforms_windows req_age_3  req_age_7  req_age_12  \\\n",
       "0              1                  1         0          0           0   \n",
       "1              1                  1         0          0           0   \n",
       "2              1                  1         0          0           0   \n",
       "3              1                  1         0          0           0   \n",
       "4              1                  1         0          0           0   \n",
       "\n",
       "   req_age_16  req_age_18  \n",
       "0           0           0  \n",
       "1           0           0  \n",
       "2           0           0  \n",
       "3           0           0  \n",
       "4           0           0  \n",
       "\n",
       "[5 rows x 26 columns]"
      ]
     },
     "execution_count": 24,
     "metadata": {},
     "output_type": "execute_result"
    }
   ],
   "source": [
    "data.head()"
   ]
  },
  {
   "cell_type": "code",
   "execution_count": 25,
   "metadata": {},
   "outputs": [
    {
     "data": {
      "text/plain": [
       "(27075, 26)"
      ]
     },
     "execution_count": 25,
     "metadata": {},
     "output_type": "execute_result"
    }
   ],
   "source": [
    "data.shape"
   ]
  },
  {
   "cell_type": "markdown",
   "metadata": {},
   "source": [
    "### Creating dummies for categories"
   ]
  },
  {
   "cell_type": "markdown",
   "metadata": {},
   "source": [
    "Getting unique values for categories column"
   ]
  },
  {
   "cell_type": "code",
   "execution_count": 26,
   "metadata": {},
   "outputs": [],
   "source": [
    "unique_cat = list_unique(data.categories)"
   ]
  },
  {
   "cell_type": "code",
   "execution_count": 30,
   "metadata": {},
   "outputs": [],
   "source": [
    "unique_cat.sort()"
   ]
  },
  {
   "cell_type": "markdown",
   "metadata": {},
   "source": [
    "Creating categories dictionnary to map lists of categories column"
   ]
  },
  {
   "cell_type": "code",
   "execution_count": 31,
   "metadata": {},
   "outputs": [],
   "source": [
    "values = [\"Other\",\"Co-op\",\"Other\",\"Cross-Platform Multiplayer\",\"Controller\",\"In-App Purchases\",\"Other\",\"Other\",\"Local Co-op\",\"Local Multi-Player\",\"Online Multi-Player\",\"Mods\",\"Mods\",\"Multi-player\",\"Online Co-op'\",\"Online Multi-Player\",\n",
    "\"Controller\",\"Shared/Split Screen\",\"Single-player\",\"Other\",\"Other\",\"Other\",\"Other\",\"Other\",\"Other\",\"Mods\",\"VR\",\"VR\",\"Other\"]"
   ]
  },
  {
   "cell_type": "code",
   "execution_count": 33,
   "metadata": {},
   "outputs": [],
   "source": [
    "dict_cat = dict(zip(unique_cat, values))"
   ]
  },
  {
   "cell_type": "markdown",
   "metadata": {},
   "source": [
    "Formating categories column "
   ]
  },
  {
   "cell_type": "code",
   "execution_count": 36,
   "metadata": {},
   "outputs": [],
   "source": [
    "data[\"categories\"] = data.apply(lambda row : list(set(map(dict_cat.get,row[\"categories\"].split(\";\")))) , axis=1)"
   ]
  },
  {
   "cell_type": "code",
   "execution_count": 37,
   "metadata": {},
   "outputs": [],
   "source": [
    "mlb = MultiLabelBinarizer()\n",
    "cat_dummies = pd.DataFrame(mlb.fit_transform(data.categories),\n",
    "                          columns=mlb.classes_,\n",
    "                          index=data.index).add_prefix('categ_')"
   ]
  },
  {
   "cell_type": "code",
   "execution_count": 38,
   "metadata": {},
   "outputs": [
    {
     "data": {
      "text/html": [
       "<div>\n",
       "<style scoped>\n",
       "    .dataframe tbody tr th:only-of-type {\n",
       "        vertical-align: middle;\n",
       "    }\n",
       "\n",
       "    .dataframe tbody tr th {\n",
       "        vertical-align: top;\n",
       "    }\n",
       "\n",
       "    .dataframe thead th {\n",
       "        text-align: right;\n",
       "    }\n",
       "</style>\n",
       "<table border=\"1\" class=\"dataframe\">\n",
       "  <thead>\n",
       "    <tr style=\"text-align: right;\">\n",
       "      <th></th>\n",
       "      <th>categ_Co-op</th>\n",
       "      <th>categ_Controller</th>\n",
       "      <th>categ_Cross-Platform Multiplayer</th>\n",
       "      <th>categ_In-App Purchases</th>\n",
       "      <th>categ_Local Co-op</th>\n",
       "      <th>categ_Local Multi-Player</th>\n",
       "      <th>categ_Mods</th>\n",
       "      <th>categ_Multi-player</th>\n",
       "      <th>categ_Online Co-op'</th>\n",
       "      <th>categ_Online Multi-Player</th>\n",
       "      <th>categ_Other</th>\n",
       "      <th>categ_Shared/Split Screen</th>\n",
       "      <th>categ_Single-player</th>\n",
       "      <th>categ_VR</th>\n",
       "    </tr>\n",
       "  </thead>\n",
       "  <tbody>\n",
       "    <tr>\n",
       "      <td>0</td>\n",
       "      <td>0</td>\n",
       "      <td>0</td>\n",
       "      <td>0</td>\n",
       "      <td>0</td>\n",
       "      <td>0</td>\n",
       "      <td>1</td>\n",
       "      <td>0</td>\n",
       "      <td>1</td>\n",
       "      <td>0</td>\n",
       "      <td>1</td>\n",
       "      <td>1</td>\n",
       "      <td>0</td>\n",
       "      <td>0</td>\n",
       "      <td>0</td>\n",
       "    </tr>\n",
       "    <tr>\n",
       "      <td>1</td>\n",
       "      <td>0</td>\n",
       "      <td>0</td>\n",
       "      <td>0</td>\n",
       "      <td>0</td>\n",
       "      <td>0</td>\n",
       "      <td>1</td>\n",
       "      <td>0</td>\n",
       "      <td>1</td>\n",
       "      <td>0</td>\n",
       "      <td>1</td>\n",
       "      <td>1</td>\n",
       "      <td>0</td>\n",
       "      <td>0</td>\n",
       "      <td>0</td>\n",
       "    </tr>\n",
       "    <tr>\n",
       "      <td>2</td>\n",
       "      <td>0</td>\n",
       "      <td>0</td>\n",
       "      <td>0</td>\n",
       "      <td>0</td>\n",
       "      <td>0</td>\n",
       "      <td>0</td>\n",
       "      <td>0</td>\n",
       "      <td>1</td>\n",
       "      <td>0</td>\n",
       "      <td>0</td>\n",
       "      <td>1</td>\n",
       "      <td>0</td>\n",
       "      <td>0</td>\n",
       "      <td>0</td>\n",
       "    </tr>\n",
       "    <tr>\n",
       "      <td>3</td>\n",
       "      <td>0</td>\n",
       "      <td>0</td>\n",
       "      <td>0</td>\n",
       "      <td>0</td>\n",
       "      <td>0</td>\n",
       "      <td>1</td>\n",
       "      <td>0</td>\n",
       "      <td>1</td>\n",
       "      <td>0</td>\n",
       "      <td>1</td>\n",
       "      <td>1</td>\n",
       "      <td>0</td>\n",
       "      <td>0</td>\n",
       "      <td>0</td>\n",
       "    </tr>\n",
       "    <tr>\n",
       "      <td>4</td>\n",
       "      <td>0</td>\n",
       "      <td>0</td>\n",
       "      <td>0</td>\n",
       "      <td>0</td>\n",
       "      <td>0</td>\n",
       "      <td>0</td>\n",
       "      <td>0</td>\n",
       "      <td>1</td>\n",
       "      <td>0</td>\n",
       "      <td>0</td>\n",
       "      <td>1</td>\n",
       "      <td>0</td>\n",
       "      <td>1</td>\n",
       "      <td>0</td>\n",
       "    </tr>\n",
       "    <tr>\n",
       "      <td>...</td>\n",
       "      <td>...</td>\n",
       "      <td>...</td>\n",
       "      <td>...</td>\n",
       "      <td>...</td>\n",
       "      <td>...</td>\n",
       "      <td>...</td>\n",
       "      <td>...</td>\n",
       "      <td>...</td>\n",
       "      <td>...</td>\n",
       "      <td>...</td>\n",
       "      <td>...</td>\n",
       "      <td>...</td>\n",
       "      <td>...</td>\n",
       "      <td>...</td>\n",
       "    </tr>\n",
       "    <tr>\n",
       "      <td>27070</td>\n",
       "      <td>0</td>\n",
       "      <td>0</td>\n",
       "      <td>0</td>\n",
       "      <td>0</td>\n",
       "      <td>0</td>\n",
       "      <td>0</td>\n",
       "      <td>0</td>\n",
       "      <td>0</td>\n",
       "      <td>0</td>\n",
       "      <td>0</td>\n",
       "      <td>1</td>\n",
       "      <td>0</td>\n",
       "      <td>1</td>\n",
       "      <td>0</td>\n",
       "    </tr>\n",
       "    <tr>\n",
       "      <td>27071</td>\n",
       "      <td>0</td>\n",
       "      <td>0</td>\n",
       "      <td>0</td>\n",
       "      <td>0</td>\n",
       "      <td>0</td>\n",
       "      <td>0</td>\n",
       "      <td>0</td>\n",
       "      <td>0</td>\n",
       "      <td>0</td>\n",
       "      <td>0</td>\n",
       "      <td>0</td>\n",
       "      <td>0</td>\n",
       "      <td>1</td>\n",
       "      <td>0</td>\n",
       "    </tr>\n",
       "    <tr>\n",
       "      <td>27072</td>\n",
       "      <td>1</td>\n",
       "      <td>1</td>\n",
       "      <td>0</td>\n",
       "      <td>0</td>\n",
       "      <td>0</td>\n",
       "      <td>0</td>\n",
       "      <td>0</td>\n",
       "      <td>1</td>\n",
       "      <td>0</td>\n",
       "      <td>0</td>\n",
       "      <td>1</td>\n",
       "      <td>1</td>\n",
       "      <td>1</td>\n",
       "      <td>0</td>\n",
       "    </tr>\n",
       "    <tr>\n",
       "      <td>27073</td>\n",
       "      <td>0</td>\n",
       "      <td>0</td>\n",
       "      <td>0</td>\n",
       "      <td>0</td>\n",
       "      <td>0</td>\n",
       "      <td>0</td>\n",
       "      <td>0</td>\n",
       "      <td>0</td>\n",
       "      <td>0</td>\n",
       "      <td>0</td>\n",
       "      <td>1</td>\n",
       "      <td>0</td>\n",
       "      <td>1</td>\n",
       "      <td>0</td>\n",
       "    </tr>\n",
       "    <tr>\n",
       "      <td>27074</td>\n",
       "      <td>0</td>\n",
       "      <td>0</td>\n",
       "      <td>0</td>\n",
       "      <td>0</td>\n",
       "      <td>0</td>\n",
       "      <td>0</td>\n",
       "      <td>0</td>\n",
       "      <td>0</td>\n",
       "      <td>0</td>\n",
       "      <td>0</td>\n",
       "      <td>1</td>\n",
       "      <td>0</td>\n",
       "      <td>1</td>\n",
       "      <td>0</td>\n",
       "    </tr>\n",
       "  </tbody>\n",
       "</table>\n",
       "<p>27075 rows × 14 columns</p>\n",
       "</div>"
      ],
      "text/plain": [
       "       categ_Co-op  categ_Controller  categ_Cross-Platform Multiplayer  \\\n",
       "0                0                 0                                 0   \n",
       "1                0                 0                                 0   \n",
       "2                0                 0                                 0   \n",
       "3                0                 0                                 0   \n",
       "4                0                 0                                 0   \n",
       "...            ...               ...                               ...   \n",
       "27070            0                 0                                 0   \n",
       "27071            0                 0                                 0   \n",
       "27072            1                 1                                 0   \n",
       "27073            0                 0                                 0   \n",
       "27074            0                 0                                 0   \n",
       "\n",
       "       categ_In-App Purchases  categ_Local Co-op  categ_Local Multi-Player  \\\n",
       "0                           0                  0                         1   \n",
       "1                           0                  0                         1   \n",
       "2                           0                  0                         0   \n",
       "3                           0                  0                         1   \n",
       "4                           0                  0                         0   \n",
       "...                       ...                ...                       ...   \n",
       "27070                       0                  0                         0   \n",
       "27071                       0                  0                         0   \n",
       "27072                       0                  0                         0   \n",
       "27073                       0                  0                         0   \n",
       "27074                       0                  0                         0   \n",
       "\n",
       "       categ_Mods  categ_Multi-player  categ_Online Co-op'  \\\n",
       "0               0                   1                    0   \n",
       "1               0                   1                    0   \n",
       "2               0                   1                    0   \n",
       "3               0                   1                    0   \n",
       "4               0                   1                    0   \n",
       "...           ...                 ...                  ...   \n",
       "27070           0                   0                    0   \n",
       "27071           0                   0                    0   \n",
       "27072           0                   1                    0   \n",
       "27073           0                   0                    0   \n",
       "27074           0                   0                    0   \n",
       "\n",
       "       categ_Online Multi-Player  categ_Other  categ_Shared/Split Screen  \\\n",
       "0                              1            1                          0   \n",
       "1                              1            1                          0   \n",
       "2                              0            1                          0   \n",
       "3                              1            1                          0   \n",
       "4                              0            1                          0   \n",
       "...                          ...          ...                        ...   \n",
       "27070                          0            1                          0   \n",
       "27071                          0            0                          0   \n",
       "27072                          0            1                          1   \n",
       "27073                          0            1                          0   \n",
       "27074                          0            1                          0   \n",
       "\n",
       "       categ_Single-player  categ_VR  \n",
       "0                        0         0  \n",
       "1                        0         0  \n",
       "2                        0         0  \n",
       "3                        0         0  \n",
       "4                        1         0  \n",
       "...                    ...       ...  \n",
       "27070                    1         0  \n",
       "27071                    1         0  \n",
       "27072                    1         0  \n",
       "27073                    1         0  \n",
       "27074                    1         0  \n",
       "\n",
       "[27075 rows x 14 columns]"
      ]
     },
     "execution_count": 38,
     "metadata": {},
     "output_type": "execute_result"
    }
   ],
   "source": [
    "cat_dummies"
   ]
  },
  {
   "cell_type": "code",
   "execution_count": 39,
   "metadata": {},
   "outputs": [],
   "source": [
    "data=data.join(cat_dummies)"
   ]
  },
  {
   "cell_type": "code",
   "execution_count": 40,
   "metadata": {},
   "outputs": [
    {
     "data": {
      "text/plain": [
       "(27075, 40)"
      ]
     },
     "execution_count": 40,
     "metadata": {},
     "output_type": "execute_result"
    }
   ],
   "source": [
    "data.shape"
   ]
  },
  {
   "cell_type": "markdown",
   "metadata": {},
   "source": [
    "### Creating dummies genres"
   ]
  },
  {
   "cell_type": "markdown",
   "metadata": {},
   "source": [
    "Getting unique values for genres column"
   ]
  },
  {
   "cell_type": "code",
   "execution_count": 41,
   "metadata": {},
   "outputs": [],
   "source": [
    "unique_genres = list_unique(data.genres)"
   ]
  },
  {
   "cell_type": "code",
   "execution_count": 42,
   "metadata": {},
   "outputs": [],
   "source": [
    "unique_genres.sort()"
   ]
  },
  {
   "cell_type": "code",
   "execution_count": 43,
   "metadata": {},
   "outputs": [
    {
     "data": {
      "text/plain": [
       "29"
      ]
     },
     "execution_count": 43,
     "metadata": {},
     "output_type": "execute_result"
    }
   ],
   "source": [
    "len(unique_genres)"
   ]
  },
  {
   "cell_type": "code",
   "execution_count": 44,
   "metadata": {},
   "outputs": [],
   "source": [
    "values = [\"Other\",\"Action\",\"Adventure\",\"Other\",\"Other\",\"Casual\",\"Other\",\"Other\",\"Other\",\"Other\",\"Free to Play\",\"Other\",\"Other\",\"Indie\",\"Massively Multiplayer\",\"Other\",\"Other\",\"RPG\",\n",
    "         \"Racing\",\"Other\",\"Simulation\",\"Other\",\"Sports\",\"Strategy\",\"Other\",\"Other\",\"Other\",\"Other\",\"Other\"]"
   ]
  },
  {
   "cell_type": "code",
   "execution_count": 45,
   "metadata": {},
   "outputs": [],
   "source": [
    "dict_gen = dict(zip(unique_genres, values))"
   ]
  },
  {
   "cell_type": "code",
   "execution_count": 46,
   "metadata": {},
   "outputs": [
    {
     "data": {
      "text/plain": [
       "{'Accounting': 'Other',\n",
       " 'Action': 'Action',\n",
       " 'Adventure': 'Adventure',\n",
       " 'Animation & Modeling': 'Other',\n",
       " 'Audio Production': 'Other',\n",
       " 'Casual': 'Casual',\n",
       " 'Design & Illustration': 'Other',\n",
       " 'Documentary': 'Other',\n",
       " 'Early Access': 'Other',\n",
       " 'Education': 'Other',\n",
       " 'Free to Play': 'Free to Play',\n",
       " 'Game Development': 'Other',\n",
       " 'Gore': 'Other',\n",
       " 'Indie': 'Indie',\n",
       " 'Massively Multiplayer': 'Massively Multiplayer',\n",
       " 'Nudity': 'Other',\n",
       " 'Photo Editing': 'Other',\n",
       " 'RPG': 'RPG',\n",
       " 'Racing': 'Racing',\n",
       " 'Sexual Content': 'Other',\n",
       " 'Simulation': 'Simulation',\n",
       " 'Software Training': 'Other',\n",
       " 'Sports': 'Sports',\n",
       " 'Strategy': 'Strategy',\n",
       " 'Tutorial': 'Other',\n",
       " 'Utilities': 'Other',\n",
       " 'Video Production': 'Other',\n",
       " 'Violent': 'Other',\n",
       " 'Web Publishing': 'Other'}"
      ]
     },
     "execution_count": 46,
     "metadata": {},
     "output_type": "execute_result"
    }
   ],
   "source": [
    "dict_gen"
   ]
  },
  {
   "cell_type": "markdown",
   "metadata": {},
   "source": [
    "Formating genres column"
   ]
  },
  {
   "cell_type": "code",
   "execution_count": 47,
   "metadata": {},
   "outputs": [],
   "source": [
    "data[\"genres\"] = data.apply(lambda row : list(set(map(dict_gen.get,row[\"genres\"].split(\";\")))) , axis=1)"
   ]
  },
  {
   "cell_type": "code",
   "execution_count": 48,
   "metadata": {},
   "outputs": [],
   "source": [
    "gen_dummies = pd.DataFrame(mlb.fit_transform(data.genres),\n",
    "                          columns=mlb.classes_,\n",
    "                          index=data.index).add_prefix('gen_')"
   ]
  },
  {
   "cell_type": "code",
   "execution_count": 49,
   "metadata": {},
   "outputs": [
    {
     "data": {
      "text/html": [
       "<div>\n",
       "<style scoped>\n",
       "    .dataframe tbody tr th:only-of-type {\n",
       "        vertical-align: middle;\n",
       "    }\n",
       "\n",
       "    .dataframe tbody tr th {\n",
       "        vertical-align: top;\n",
       "    }\n",
       "\n",
       "    .dataframe thead th {\n",
       "        text-align: right;\n",
       "    }\n",
       "</style>\n",
       "<table border=\"1\" class=\"dataframe\">\n",
       "  <thead>\n",
       "    <tr style=\"text-align: right;\">\n",
       "      <th></th>\n",
       "      <th>gen_Action</th>\n",
       "      <th>gen_Adventure</th>\n",
       "      <th>gen_Casual</th>\n",
       "      <th>gen_Free to Play</th>\n",
       "      <th>gen_Indie</th>\n",
       "      <th>gen_Massively Multiplayer</th>\n",
       "      <th>gen_Other</th>\n",
       "      <th>gen_RPG</th>\n",
       "      <th>gen_Racing</th>\n",
       "      <th>gen_Simulation</th>\n",
       "      <th>gen_Sports</th>\n",
       "      <th>gen_Strategy</th>\n",
       "    </tr>\n",
       "  </thead>\n",
       "  <tbody>\n",
       "    <tr>\n",
       "      <td>0</td>\n",
       "      <td>1</td>\n",
       "      <td>0</td>\n",
       "      <td>0</td>\n",
       "      <td>0</td>\n",
       "      <td>0</td>\n",
       "      <td>0</td>\n",
       "      <td>0</td>\n",
       "      <td>0</td>\n",
       "      <td>0</td>\n",
       "      <td>0</td>\n",
       "      <td>0</td>\n",
       "      <td>0</td>\n",
       "    </tr>\n",
       "    <tr>\n",
       "      <td>1</td>\n",
       "      <td>1</td>\n",
       "      <td>0</td>\n",
       "      <td>0</td>\n",
       "      <td>0</td>\n",
       "      <td>0</td>\n",
       "      <td>0</td>\n",
       "      <td>0</td>\n",
       "      <td>0</td>\n",
       "      <td>0</td>\n",
       "      <td>0</td>\n",
       "      <td>0</td>\n",
       "      <td>0</td>\n",
       "    </tr>\n",
       "    <tr>\n",
       "      <td>2</td>\n",
       "      <td>1</td>\n",
       "      <td>0</td>\n",
       "      <td>0</td>\n",
       "      <td>0</td>\n",
       "      <td>0</td>\n",
       "      <td>0</td>\n",
       "      <td>0</td>\n",
       "      <td>0</td>\n",
       "      <td>0</td>\n",
       "      <td>0</td>\n",
       "      <td>0</td>\n",
       "      <td>0</td>\n",
       "    </tr>\n",
       "    <tr>\n",
       "      <td>3</td>\n",
       "      <td>1</td>\n",
       "      <td>0</td>\n",
       "      <td>0</td>\n",
       "      <td>0</td>\n",
       "      <td>0</td>\n",
       "      <td>0</td>\n",
       "      <td>0</td>\n",
       "      <td>0</td>\n",
       "      <td>0</td>\n",
       "      <td>0</td>\n",
       "      <td>0</td>\n",
       "      <td>0</td>\n",
       "    </tr>\n",
       "    <tr>\n",
       "      <td>4</td>\n",
       "      <td>1</td>\n",
       "      <td>0</td>\n",
       "      <td>0</td>\n",
       "      <td>0</td>\n",
       "      <td>0</td>\n",
       "      <td>0</td>\n",
       "      <td>0</td>\n",
       "      <td>0</td>\n",
       "      <td>0</td>\n",
       "      <td>0</td>\n",
       "      <td>0</td>\n",
       "      <td>0</td>\n",
       "    </tr>\n",
       "    <tr>\n",
       "      <td>...</td>\n",
       "      <td>...</td>\n",
       "      <td>...</td>\n",
       "      <td>...</td>\n",
       "      <td>...</td>\n",
       "      <td>...</td>\n",
       "      <td>...</td>\n",
       "      <td>...</td>\n",
       "      <td>...</td>\n",
       "      <td>...</td>\n",
       "      <td>...</td>\n",
       "      <td>...</td>\n",
       "      <td>...</td>\n",
       "    </tr>\n",
       "    <tr>\n",
       "      <td>27070</td>\n",
       "      <td>0</td>\n",
       "      <td>1</td>\n",
       "      <td>1</td>\n",
       "      <td>0</td>\n",
       "      <td>1</td>\n",
       "      <td>0</td>\n",
       "      <td>0</td>\n",
       "      <td>0</td>\n",
       "      <td>0</td>\n",
       "      <td>0</td>\n",
       "      <td>0</td>\n",
       "      <td>0</td>\n",
       "    </tr>\n",
       "    <tr>\n",
       "      <td>27071</td>\n",
       "      <td>1</td>\n",
       "      <td>1</td>\n",
       "      <td>0</td>\n",
       "      <td>0</td>\n",
       "      <td>1</td>\n",
       "      <td>0</td>\n",
       "      <td>0</td>\n",
       "      <td>0</td>\n",
       "      <td>0</td>\n",
       "      <td>0</td>\n",
       "      <td>0</td>\n",
       "      <td>0</td>\n",
       "    </tr>\n",
       "    <tr>\n",
       "      <td>27072</td>\n",
       "      <td>1</td>\n",
       "      <td>0</td>\n",
       "      <td>1</td>\n",
       "      <td>0</td>\n",
       "      <td>1</td>\n",
       "      <td>0</td>\n",
       "      <td>0</td>\n",
       "      <td>0</td>\n",
       "      <td>0</td>\n",
       "      <td>0</td>\n",
       "      <td>0</td>\n",
       "      <td>0</td>\n",
       "    </tr>\n",
       "    <tr>\n",
       "      <td>27073</td>\n",
       "      <td>0</td>\n",
       "      <td>1</td>\n",
       "      <td>1</td>\n",
       "      <td>0</td>\n",
       "      <td>1</td>\n",
       "      <td>0</td>\n",
       "      <td>0</td>\n",
       "      <td>0</td>\n",
       "      <td>0</td>\n",
       "      <td>0</td>\n",
       "      <td>0</td>\n",
       "      <td>0</td>\n",
       "    </tr>\n",
       "    <tr>\n",
       "      <td>27074</td>\n",
       "      <td>0</td>\n",
       "      <td>1</td>\n",
       "      <td>1</td>\n",
       "      <td>0</td>\n",
       "      <td>1</td>\n",
       "      <td>0</td>\n",
       "      <td>0</td>\n",
       "      <td>0</td>\n",
       "      <td>0</td>\n",
       "      <td>0</td>\n",
       "      <td>0</td>\n",
       "      <td>0</td>\n",
       "    </tr>\n",
       "  </tbody>\n",
       "</table>\n",
       "<p>27075 rows × 12 columns</p>\n",
       "</div>"
      ],
      "text/plain": [
       "       gen_Action  gen_Adventure  gen_Casual  gen_Free to Play  gen_Indie  \\\n",
       "0               1              0           0                 0          0   \n",
       "1               1              0           0                 0          0   \n",
       "2               1              0           0                 0          0   \n",
       "3               1              0           0                 0          0   \n",
       "4               1              0           0                 0          0   \n",
       "...           ...            ...         ...               ...        ...   \n",
       "27070           0              1           1                 0          1   \n",
       "27071           1              1           0                 0          1   \n",
       "27072           1              0           1                 0          1   \n",
       "27073           0              1           1                 0          1   \n",
       "27074           0              1           1                 0          1   \n",
       "\n",
       "       gen_Massively Multiplayer  gen_Other  gen_RPG  gen_Racing  \\\n",
       "0                              0          0        0           0   \n",
       "1                              0          0        0           0   \n",
       "2                              0          0        0           0   \n",
       "3                              0          0        0           0   \n",
       "4                              0          0        0           0   \n",
       "...                          ...        ...      ...         ...   \n",
       "27070                          0          0        0           0   \n",
       "27071                          0          0        0           0   \n",
       "27072                          0          0        0           0   \n",
       "27073                          0          0        0           0   \n",
       "27074                          0          0        0           0   \n",
       "\n",
       "       gen_Simulation  gen_Sports  gen_Strategy  \n",
       "0                   0           0             0  \n",
       "1                   0           0             0  \n",
       "2                   0           0             0  \n",
       "3                   0           0             0  \n",
       "4                   0           0             0  \n",
       "...               ...         ...           ...  \n",
       "27070               0           0             0  \n",
       "27071               0           0             0  \n",
       "27072               0           0             0  \n",
       "27073               0           0             0  \n",
       "27074               0           0             0  \n",
       "\n",
       "[27075 rows x 12 columns]"
      ]
     },
     "execution_count": 49,
     "metadata": {},
     "output_type": "execute_result"
    }
   ],
   "source": [
    "gen_dummies"
   ]
  },
  {
   "cell_type": "code",
   "execution_count": 50,
   "metadata": {},
   "outputs": [],
   "source": [
    "data=data.join(gen_dummies)"
   ]
  },
  {
   "cell_type": "code",
   "execution_count": 51,
   "metadata": {},
   "outputs": [
    {
     "data": {
      "text/plain": [
       "(27075, 52)"
      ]
     },
     "execution_count": 51,
     "metadata": {},
     "output_type": "execute_result"
    }
   ],
   "source": [
    "data.shape"
   ]
  },
  {
   "cell_type": "markdown",
   "metadata": {},
   "source": [
    "### Creating reviews column (1 if more positive ratings, 0 if negative ratings) + total_ratings column"
   ]
  },
  {
   "cell_type": "code",
   "execution_count": 52,
   "metadata": {},
   "outputs": [],
   "source": [
    "data[\"reviews\"] = data.apply(lambda row : 1 if row.positive_ratings > row.negative_ratings else 0, axis=1)"
   ]
  },
  {
   "cell_type": "code",
   "execution_count": 53,
   "metadata": {},
   "outputs": [],
   "source": [
    "data[\"tot_ratings\"] = data.apply(lambda row : row.positive_ratings+row.negative_ratings, axis=1)"
   ]
  },
  {
   "cell_type": "code",
   "execution_count": 54,
   "metadata": {},
   "outputs": [
    {
     "data": {
      "text/plain": [
       "(27075, 54)"
      ]
     },
     "execution_count": 54,
     "metadata": {},
     "output_type": "execute_result"
    }
   ],
   "source": [
    "data.shape"
   ]
  },
  {
   "cell_type": "code",
   "execution_count": 55,
   "metadata": {},
   "outputs": [
    {
     "data": {
      "text/html": [
       "<div>\n",
       "<style scoped>\n",
       "    .dataframe tbody tr th:only-of-type {\n",
       "        vertical-align: middle;\n",
       "    }\n",
       "\n",
       "    .dataframe tbody tr th {\n",
       "        vertical-align: top;\n",
       "    }\n",
       "\n",
       "    .dataframe thead th {\n",
       "        text-align: right;\n",
       "    }\n",
       "</style>\n",
       "<table border=\"1\" class=\"dataframe\">\n",
       "  <thead>\n",
       "    <tr style=\"text-align: right;\">\n",
       "      <th></th>\n",
       "      <th>appid</th>\n",
       "      <th>name</th>\n",
       "      <th>release_date</th>\n",
       "      <th>english</th>\n",
       "      <th>developer</th>\n",
       "      <th>publisher</th>\n",
       "      <th>platforms</th>\n",
       "      <th>categories</th>\n",
       "      <th>genres</th>\n",
       "      <th>steamspy_tags</th>\n",
       "      <th>...</th>\n",
       "      <th>gen_Indie</th>\n",
       "      <th>gen_Massively Multiplayer</th>\n",
       "      <th>gen_Other</th>\n",
       "      <th>gen_RPG</th>\n",
       "      <th>gen_Racing</th>\n",
       "      <th>gen_Simulation</th>\n",
       "      <th>gen_Sports</th>\n",
       "      <th>gen_Strategy</th>\n",
       "      <th>reviews</th>\n",
       "      <th>tot_ratings</th>\n",
       "    </tr>\n",
       "  </thead>\n",
       "  <tbody>\n",
       "    <tr>\n",
       "      <td>0</td>\n",
       "      <td>10</td>\n",
       "      <td>Counter-Strike</td>\n",
       "      <td>2000-11-01</td>\n",
       "      <td>1</td>\n",
       "      <td>Valve</td>\n",
       "      <td>Valve</td>\n",
       "      <td>[windows, mac, linux]</td>\n",
       "      <td>[Other, Local Multi-Player, Multi-player, Onli...</td>\n",
       "      <td>[Action]</td>\n",
       "      <td>Action;FPS;Multiplayer</td>\n",
       "      <td>...</td>\n",
       "      <td>0</td>\n",
       "      <td>0</td>\n",
       "      <td>0</td>\n",
       "      <td>0</td>\n",
       "      <td>0</td>\n",
       "      <td>0</td>\n",
       "      <td>0</td>\n",
       "      <td>0</td>\n",
       "      <td>1</td>\n",
       "      <td>127873</td>\n",
       "    </tr>\n",
       "    <tr>\n",
       "      <td>1</td>\n",
       "      <td>20</td>\n",
       "      <td>Team Fortress Classic</td>\n",
       "      <td>1999-04-01</td>\n",
       "      <td>1</td>\n",
       "      <td>Valve</td>\n",
       "      <td>Valve</td>\n",
       "      <td>[windows, mac, linux]</td>\n",
       "      <td>[Other, Local Multi-Player, Multi-player, Onli...</td>\n",
       "      <td>[Action]</td>\n",
       "      <td>Action;FPS;Multiplayer</td>\n",
       "      <td>...</td>\n",
       "      <td>0</td>\n",
       "      <td>0</td>\n",
       "      <td>0</td>\n",
       "      <td>0</td>\n",
       "      <td>0</td>\n",
       "      <td>0</td>\n",
       "      <td>0</td>\n",
       "      <td>0</td>\n",
       "      <td>1</td>\n",
       "      <td>3951</td>\n",
       "    </tr>\n",
       "    <tr>\n",
       "      <td>2</td>\n",
       "      <td>30</td>\n",
       "      <td>Day of Defeat</td>\n",
       "      <td>2003-05-01</td>\n",
       "      <td>1</td>\n",
       "      <td>Valve</td>\n",
       "      <td>Valve</td>\n",
       "      <td>[windows, mac, linux]</td>\n",
       "      <td>[Multi-player, Other]</td>\n",
       "      <td>[Action]</td>\n",
       "      <td>FPS;World War II;Multiplayer</td>\n",
       "      <td>...</td>\n",
       "      <td>0</td>\n",
       "      <td>0</td>\n",
       "      <td>0</td>\n",
       "      <td>0</td>\n",
       "      <td>0</td>\n",
       "      <td>0</td>\n",
       "      <td>0</td>\n",
       "      <td>0</td>\n",
       "      <td>1</td>\n",
       "      <td>3814</td>\n",
       "    </tr>\n",
       "    <tr>\n",
       "      <td>3</td>\n",
       "      <td>40</td>\n",
       "      <td>Deathmatch Classic</td>\n",
       "      <td>2001-06-01</td>\n",
       "      <td>1</td>\n",
       "      <td>Valve</td>\n",
       "      <td>Valve</td>\n",
       "      <td>[windows, mac, linux]</td>\n",
       "      <td>[Other, Local Multi-Player, Multi-player, Onli...</td>\n",
       "      <td>[Action]</td>\n",
       "      <td>Action;FPS;Multiplayer</td>\n",
       "      <td>...</td>\n",
       "      <td>0</td>\n",
       "      <td>0</td>\n",
       "      <td>0</td>\n",
       "      <td>0</td>\n",
       "      <td>0</td>\n",
       "      <td>0</td>\n",
       "      <td>0</td>\n",
       "      <td>0</td>\n",
       "      <td>1</td>\n",
       "      <td>1540</td>\n",
       "    </tr>\n",
       "    <tr>\n",
       "      <td>4</td>\n",
       "      <td>50</td>\n",
       "      <td>Half-Life: Opposing Force</td>\n",
       "      <td>1999-11-01</td>\n",
       "      <td>1</td>\n",
       "      <td>Gearbox Software</td>\n",
       "      <td>Valve</td>\n",
       "      <td>[windows, mac, linux]</td>\n",
       "      <td>[Single-player, Multi-player, Other]</td>\n",
       "      <td>[Action]</td>\n",
       "      <td>FPS;Action;Sci-fi</td>\n",
       "      <td>...</td>\n",
       "      <td>0</td>\n",
       "      <td>0</td>\n",
       "      <td>0</td>\n",
       "      <td>0</td>\n",
       "      <td>0</td>\n",
       "      <td>0</td>\n",
       "      <td>0</td>\n",
       "      <td>0</td>\n",
       "      <td>1</td>\n",
       "      <td>5538</td>\n",
       "    </tr>\n",
       "    <tr>\n",
       "      <td>...</td>\n",
       "      <td>...</td>\n",
       "      <td>...</td>\n",
       "      <td>...</td>\n",
       "      <td>...</td>\n",
       "      <td>...</td>\n",
       "      <td>...</td>\n",
       "      <td>...</td>\n",
       "      <td>...</td>\n",
       "      <td>...</td>\n",
       "      <td>...</td>\n",
       "      <td>...</td>\n",
       "      <td>...</td>\n",
       "      <td>...</td>\n",
       "      <td>...</td>\n",
       "      <td>...</td>\n",
       "      <td>...</td>\n",
       "      <td>...</td>\n",
       "      <td>...</td>\n",
       "      <td>...</td>\n",
       "      <td>...</td>\n",
       "      <td>...</td>\n",
       "    </tr>\n",
       "    <tr>\n",
       "      <td>26899</td>\n",
       "      <td>1046030</td>\n",
       "      <td>ISLANDERS</td>\n",
       "      <td>2019-04-04</td>\n",
       "      <td>1</td>\n",
       "      <td>GrizzlyGames</td>\n",
       "      <td>GrizzlyGames</td>\n",
       "      <td>[windows]</td>\n",
       "      <td>[Single-player, Other]</td>\n",
       "      <td>[Strategy, Indie, Casual]</td>\n",
       "      <td>Strategy;Indie;City Builder</td>\n",
       "      <td>...</td>\n",
       "      <td>1</td>\n",
       "      <td>0</td>\n",
       "      <td>0</td>\n",
       "      <td>0</td>\n",
       "      <td>0</td>\n",
       "      <td>0</td>\n",
       "      <td>0</td>\n",
       "      <td>1</td>\n",
       "      <td>1</td>\n",
       "      <td>1567</td>\n",
       "    </tr>\n",
       "    <tr>\n",
       "      <td>26951</td>\n",
       "      <td>1049800</td>\n",
       "      <td>BLOCKADE Classic</td>\n",
       "      <td>2019-04-01</td>\n",
       "      <td>1</td>\n",
       "      <td>Novalink</td>\n",
       "      <td>Novalink</td>\n",
       "      <td>[windows]</td>\n",
       "      <td>[In-App Purchases, Online Multi-Player]</td>\n",
       "      <td>[Other, Free to Play, Indie, Action, Massively...</td>\n",
       "      <td>Early Access;Free to Play;Action</td>\n",
       "      <td>...</td>\n",
       "      <td>1</td>\n",
       "      <td>1</td>\n",
       "      <td>1</td>\n",
       "      <td>0</td>\n",
       "      <td>0</td>\n",
       "      <td>0</td>\n",
       "      <td>0</td>\n",
       "      <td>0</td>\n",
       "      <td>1</td>\n",
       "      <td>397</td>\n",
       "    </tr>\n",
       "    <tr>\n",
       "      <td>26973</td>\n",
       "      <td>1051310</td>\n",
       "      <td>Paper Dolls: Original / 纸人：第一章</td>\n",
       "      <td>2019-04-19</td>\n",
       "      <td>1</td>\n",
       "      <td>Beijing Litchi Culture Media Co., Ltd.</td>\n",
       "      <td>Gamera Game</td>\n",
       "      <td>[windows]</td>\n",
       "      <td>[Single-player, Controller, Other]</td>\n",
       "      <td>[Indie, Action, Adventure]</td>\n",
       "      <td>Adventure;Action;Indie</td>\n",
       "      <td>...</td>\n",
       "      <td>1</td>\n",
       "      <td>0</td>\n",
       "      <td>0</td>\n",
       "      <td>0</td>\n",
       "      <td>0</td>\n",
       "      <td>0</td>\n",
       "      <td>0</td>\n",
       "      <td>0</td>\n",
       "      <td>1</td>\n",
       "      <td>324</td>\n",
       "    </tr>\n",
       "    <tr>\n",
       "      <td>26981</td>\n",
       "      <td>1052070</td>\n",
       "      <td>Burning Daylight</td>\n",
       "      <td>2019-04-19</td>\n",
       "      <td>1</td>\n",
       "      <td>Burning Daylight Team</td>\n",
       "      <td>Burning Daylight Team</td>\n",
       "      <td>[windows]</td>\n",
       "      <td>[Single-player]</td>\n",
       "      <td>[Indie, Adventure, Free to Play]</td>\n",
       "      <td>Free to Play;Adventure;Indie</td>\n",
       "      <td>...</td>\n",
       "      <td>1</td>\n",
       "      <td>0</td>\n",
       "      <td>0</td>\n",
       "      <td>0</td>\n",
       "      <td>0</td>\n",
       "      <td>0</td>\n",
       "      <td>0</td>\n",
       "      <td>0</td>\n",
       "      <td>1</td>\n",
       "      <td>767</td>\n",
       "    </tr>\n",
       "    <tr>\n",
       "      <td>27034</td>\n",
       "      <td>1057690</td>\n",
       "      <td>Sin Slayers: The First Sin</td>\n",
       "      <td>2019-04-11</td>\n",
       "      <td>1</td>\n",
       "      <td>goonswarm</td>\n",
       "      <td>Black Tower Entertainment</td>\n",
       "      <td>[windows]</td>\n",
       "      <td>[Single-player, Controller]</td>\n",
       "      <td>[Free to Play, Indie, Adventure, RPG, Strategy]</td>\n",
       "      <td>RPG;Indie;Adventure</td>\n",
       "      <td>...</td>\n",
       "      <td>1</td>\n",
       "      <td>0</td>\n",
       "      <td>0</td>\n",
       "      <td>1</td>\n",
       "      <td>0</td>\n",
       "      <td>0</td>\n",
       "      <td>0</td>\n",
       "      <td>1</td>\n",
       "      <td>1</td>\n",
       "      <td>130</td>\n",
       "    </tr>\n",
       "  </tbody>\n",
       "</table>\n",
       "<p>8762 rows × 54 columns</p>\n",
       "</div>"
      ],
      "text/plain": [
       "         appid                            name release_date  english  \\\n",
       "0           10                  Counter-Strike   2000-11-01        1   \n",
       "1           20           Team Fortress Classic   1999-04-01        1   \n",
       "2           30                   Day of Defeat   2003-05-01        1   \n",
       "3           40              Deathmatch Classic   2001-06-01        1   \n",
       "4           50       Half-Life: Opposing Force   1999-11-01        1   \n",
       "...        ...                             ...          ...      ...   \n",
       "26899  1046030                       ISLANDERS   2019-04-04        1   \n",
       "26951  1049800                BLOCKADE Classic   2019-04-01        1   \n",
       "26973  1051310  Paper Dolls: Original / 纸人：第一章   2019-04-19        1   \n",
       "26981  1052070                Burning Daylight   2019-04-19        1   \n",
       "27034  1057690      Sin Slayers: The First Sin   2019-04-11        1   \n",
       "\n",
       "                                    developer                  publisher  \\\n",
       "0                                       Valve                      Valve   \n",
       "1                                       Valve                      Valve   \n",
       "2                                       Valve                      Valve   \n",
       "3                                       Valve                      Valve   \n",
       "4                            Gearbox Software                      Valve   \n",
       "...                                       ...                        ...   \n",
       "26899                            GrizzlyGames               GrizzlyGames   \n",
       "26951                                Novalink                   Novalink   \n",
       "26973  Beijing Litchi Culture Media Co., Ltd.                Gamera Game   \n",
       "26981                   Burning Daylight Team      Burning Daylight Team   \n",
       "27034                               goonswarm  Black Tower Entertainment   \n",
       "\n",
       "                   platforms  \\\n",
       "0      [windows, mac, linux]   \n",
       "1      [windows, mac, linux]   \n",
       "2      [windows, mac, linux]   \n",
       "3      [windows, mac, linux]   \n",
       "4      [windows, mac, linux]   \n",
       "...                      ...   \n",
       "26899              [windows]   \n",
       "26951              [windows]   \n",
       "26973              [windows]   \n",
       "26981              [windows]   \n",
       "27034              [windows]   \n",
       "\n",
       "                                              categories  \\\n",
       "0      [Other, Local Multi-Player, Multi-player, Onli...   \n",
       "1      [Other, Local Multi-Player, Multi-player, Onli...   \n",
       "2                                  [Multi-player, Other]   \n",
       "3      [Other, Local Multi-Player, Multi-player, Onli...   \n",
       "4                   [Single-player, Multi-player, Other]   \n",
       "...                                                  ...   \n",
       "26899                             [Single-player, Other]   \n",
       "26951            [In-App Purchases, Online Multi-Player]   \n",
       "26973                 [Single-player, Controller, Other]   \n",
       "26981                                    [Single-player]   \n",
       "27034                        [Single-player, Controller]   \n",
       "\n",
       "                                                  genres  \\\n",
       "0                                               [Action]   \n",
       "1                                               [Action]   \n",
       "2                                               [Action]   \n",
       "3                                               [Action]   \n",
       "4                                               [Action]   \n",
       "...                                                  ...   \n",
       "26899                          [Strategy, Indie, Casual]   \n",
       "26951  [Other, Free to Play, Indie, Action, Massively...   \n",
       "26973                         [Indie, Action, Adventure]   \n",
       "26981                   [Indie, Adventure, Free to Play]   \n",
       "27034    [Free to Play, Indie, Adventure, RPG, Strategy]   \n",
       "\n",
       "                          steamspy_tags  ...  gen_Indie  \\\n",
       "0                Action;FPS;Multiplayer  ...          0   \n",
       "1                Action;FPS;Multiplayer  ...          0   \n",
       "2          FPS;World War II;Multiplayer  ...          0   \n",
       "3                Action;FPS;Multiplayer  ...          0   \n",
       "4                     FPS;Action;Sci-fi  ...          0   \n",
       "...                                 ...  ...        ...   \n",
       "26899       Strategy;Indie;City Builder  ...          1   \n",
       "26951  Early Access;Free to Play;Action  ...          1   \n",
       "26973            Adventure;Action;Indie  ...          1   \n",
       "26981      Free to Play;Adventure;Indie  ...          1   \n",
       "27034               RPG;Indie;Adventure  ...          1   \n",
       "\n",
       "       gen_Massively Multiplayer  gen_Other  gen_RPG  gen_Racing  \\\n",
       "0                              0          0        0           0   \n",
       "1                              0          0        0           0   \n",
       "2                              0          0        0           0   \n",
       "3                              0          0        0           0   \n",
       "4                              0          0        0           0   \n",
       "...                          ...        ...      ...         ...   \n",
       "26899                          0          0        0           0   \n",
       "26951                          1          1        0           0   \n",
       "26973                          0          0        0           0   \n",
       "26981                          0          0        0           0   \n",
       "27034                          0          0        1           0   \n",
       "\n",
       "      gen_Simulation  gen_Sports  gen_Strategy  reviews  tot_ratings  \n",
       "0                  0           0             0        1       127873  \n",
       "1                  0           0             0        1         3951  \n",
       "2                  0           0             0        1         3814  \n",
       "3                  0           0             0        1         1540  \n",
       "4                  0           0             0        1         5538  \n",
       "...              ...         ...           ...      ...          ...  \n",
       "26899              0           0             1        1         1567  \n",
       "26951              0           0             0        1          397  \n",
       "26973              0           0             0        1          324  \n",
       "26981              0           0             0        1          767  \n",
       "27034              0           0             1        1          130  \n",
       "\n",
       "[8762 rows x 54 columns]"
      ]
     },
     "execution_count": 55,
     "metadata": {},
     "output_type": "execute_result"
    }
   ],
   "source": [
    "data[data.tot_ratings >= 100]"
   ]
  },
  {
   "cell_type": "markdown",
   "metadata": {},
   "source": [
    "### Creating estimate owners column"
   ]
  },
  {
   "cell_type": "code",
   "execution_count": 56,
   "metadata": {},
   "outputs": [],
   "source": [
    "data[\"estim_owners\"] = data.apply(lambda row : mean_owners(row[\"owners\"]), axis=1)"
   ]
  },
  {
   "cell_type": "code",
   "execution_count": 57,
   "metadata": {},
   "outputs": [
    {
     "data": {
      "text/html": [
       "<div>\n",
       "<style scoped>\n",
       "    .dataframe tbody tr th:only-of-type {\n",
       "        vertical-align: middle;\n",
       "    }\n",
       "\n",
       "    .dataframe tbody tr th {\n",
       "        vertical-align: top;\n",
       "    }\n",
       "\n",
       "    .dataframe thead th {\n",
       "        text-align: right;\n",
       "    }\n",
       "</style>\n",
       "<table border=\"1\" class=\"dataframe\">\n",
       "  <thead>\n",
       "    <tr style=\"text-align: right;\">\n",
       "      <th></th>\n",
       "      <th>appid</th>\n",
       "      <th>name</th>\n",
       "      <th>release_date</th>\n",
       "      <th>english</th>\n",
       "      <th>developer</th>\n",
       "      <th>publisher</th>\n",
       "      <th>platforms</th>\n",
       "      <th>categories</th>\n",
       "      <th>genres</th>\n",
       "      <th>steamspy_tags</th>\n",
       "      <th>...</th>\n",
       "      <th>gen_Massively Multiplayer</th>\n",
       "      <th>gen_Other</th>\n",
       "      <th>gen_RPG</th>\n",
       "      <th>gen_Racing</th>\n",
       "      <th>gen_Simulation</th>\n",
       "      <th>gen_Sports</th>\n",
       "      <th>gen_Strategy</th>\n",
       "      <th>reviews</th>\n",
       "      <th>tot_ratings</th>\n",
       "      <th>estim_owners</th>\n",
       "    </tr>\n",
       "  </thead>\n",
       "  <tbody>\n",
       "    <tr>\n",
       "      <td>0</td>\n",
       "      <td>10</td>\n",
       "      <td>Counter-Strike</td>\n",
       "      <td>2000-11-01</td>\n",
       "      <td>1</td>\n",
       "      <td>Valve</td>\n",
       "      <td>Valve</td>\n",
       "      <td>[windows, mac, linux]</td>\n",
       "      <td>[Other, Local Multi-Player, Multi-player, Onli...</td>\n",
       "      <td>[Action]</td>\n",
       "      <td>Action;FPS;Multiplayer</td>\n",
       "      <td>...</td>\n",
       "      <td>0</td>\n",
       "      <td>0</td>\n",
       "      <td>0</td>\n",
       "      <td>0</td>\n",
       "      <td>0</td>\n",
       "      <td>0</td>\n",
       "      <td>0</td>\n",
       "      <td>1</td>\n",
       "      <td>127873</td>\n",
       "      <td>15000000.0</td>\n",
       "    </tr>\n",
       "    <tr>\n",
       "      <td>1</td>\n",
       "      <td>20</td>\n",
       "      <td>Team Fortress Classic</td>\n",
       "      <td>1999-04-01</td>\n",
       "      <td>1</td>\n",
       "      <td>Valve</td>\n",
       "      <td>Valve</td>\n",
       "      <td>[windows, mac, linux]</td>\n",
       "      <td>[Other, Local Multi-Player, Multi-player, Onli...</td>\n",
       "      <td>[Action]</td>\n",
       "      <td>Action;FPS;Multiplayer</td>\n",
       "      <td>...</td>\n",
       "      <td>0</td>\n",
       "      <td>0</td>\n",
       "      <td>0</td>\n",
       "      <td>0</td>\n",
       "      <td>0</td>\n",
       "      <td>0</td>\n",
       "      <td>0</td>\n",
       "      <td>1</td>\n",
       "      <td>3951</td>\n",
       "      <td>7500000.0</td>\n",
       "    </tr>\n",
       "    <tr>\n",
       "      <td>2</td>\n",
       "      <td>30</td>\n",
       "      <td>Day of Defeat</td>\n",
       "      <td>2003-05-01</td>\n",
       "      <td>1</td>\n",
       "      <td>Valve</td>\n",
       "      <td>Valve</td>\n",
       "      <td>[windows, mac, linux]</td>\n",
       "      <td>[Multi-player, Other]</td>\n",
       "      <td>[Action]</td>\n",
       "      <td>FPS;World War II;Multiplayer</td>\n",
       "      <td>...</td>\n",
       "      <td>0</td>\n",
       "      <td>0</td>\n",
       "      <td>0</td>\n",
       "      <td>0</td>\n",
       "      <td>0</td>\n",
       "      <td>0</td>\n",
       "      <td>0</td>\n",
       "      <td>1</td>\n",
       "      <td>3814</td>\n",
       "      <td>7500000.0</td>\n",
       "    </tr>\n",
       "    <tr>\n",
       "      <td>3</td>\n",
       "      <td>40</td>\n",
       "      <td>Deathmatch Classic</td>\n",
       "      <td>2001-06-01</td>\n",
       "      <td>1</td>\n",
       "      <td>Valve</td>\n",
       "      <td>Valve</td>\n",
       "      <td>[windows, mac, linux]</td>\n",
       "      <td>[Other, Local Multi-Player, Multi-player, Onli...</td>\n",
       "      <td>[Action]</td>\n",
       "      <td>Action;FPS;Multiplayer</td>\n",
       "      <td>...</td>\n",
       "      <td>0</td>\n",
       "      <td>0</td>\n",
       "      <td>0</td>\n",
       "      <td>0</td>\n",
       "      <td>0</td>\n",
       "      <td>0</td>\n",
       "      <td>0</td>\n",
       "      <td>1</td>\n",
       "      <td>1540</td>\n",
       "      <td>7500000.0</td>\n",
       "    </tr>\n",
       "    <tr>\n",
       "      <td>4</td>\n",
       "      <td>50</td>\n",
       "      <td>Half-Life: Opposing Force</td>\n",
       "      <td>1999-11-01</td>\n",
       "      <td>1</td>\n",
       "      <td>Gearbox Software</td>\n",
       "      <td>Valve</td>\n",
       "      <td>[windows, mac, linux]</td>\n",
       "      <td>[Single-player, Multi-player, Other]</td>\n",
       "      <td>[Action]</td>\n",
       "      <td>FPS;Action;Sci-fi</td>\n",
       "      <td>...</td>\n",
       "      <td>0</td>\n",
       "      <td>0</td>\n",
       "      <td>0</td>\n",
       "      <td>0</td>\n",
       "      <td>0</td>\n",
       "      <td>0</td>\n",
       "      <td>0</td>\n",
       "      <td>1</td>\n",
       "      <td>5538</td>\n",
       "      <td>7500000.0</td>\n",
       "    </tr>\n",
       "  </tbody>\n",
       "</table>\n",
       "<p>5 rows × 55 columns</p>\n",
       "</div>"
      ],
      "text/plain": [
       "   appid                       name release_date  english         developer  \\\n",
       "0     10             Counter-Strike   2000-11-01        1             Valve   \n",
       "1     20      Team Fortress Classic   1999-04-01        1             Valve   \n",
       "2     30              Day of Defeat   2003-05-01        1             Valve   \n",
       "3     40         Deathmatch Classic   2001-06-01        1             Valve   \n",
       "4     50  Half-Life: Opposing Force   1999-11-01        1  Gearbox Software   \n",
       "\n",
       "  publisher              platforms  \\\n",
       "0     Valve  [windows, mac, linux]   \n",
       "1     Valve  [windows, mac, linux]   \n",
       "2     Valve  [windows, mac, linux]   \n",
       "3     Valve  [windows, mac, linux]   \n",
       "4     Valve  [windows, mac, linux]   \n",
       "\n",
       "                                          categories    genres  \\\n",
       "0  [Other, Local Multi-Player, Multi-player, Onli...  [Action]   \n",
       "1  [Other, Local Multi-Player, Multi-player, Onli...  [Action]   \n",
       "2                              [Multi-player, Other]  [Action]   \n",
       "3  [Other, Local Multi-Player, Multi-player, Onli...  [Action]   \n",
       "4               [Single-player, Multi-player, Other]  [Action]   \n",
       "\n",
       "                  steamspy_tags  ...  gen_Massively Multiplayer  gen_Other  \\\n",
       "0        Action;FPS;Multiplayer  ...                          0          0   \n",
       "1        Action;FPS;Multiplayer  ...                          0          0   \n",
       "2  FPS;World War II;Multiplayer  ...                          0          0   \n",
       "3        Action;FPS;Multiplayer  ...                          0          0   \n",
       "4             FPS;Action;Sci-fi  ...                          0          0   \n",
       "\n",
       "   gen_RPG  gen_Racing  gen_Simulation gen_Sports  gen_Strategy  reviews  \\\n",
       "0        0           0               0          0             0        1   \n",
       "1        0           0               0          0             0        1   \n",
       "2        0           0               0          0             0        1   \n",
       "3        0           0               0          0             0        1   \n",
       "4        0           0               0          0             0        1   \n",
       "\n",
       "   tot_ratings  estim_owners  \n",
       "0       127873    15000000.0  \n",
       "1         3951     7500000.0  \n",
       "2         3814     7500000.0  \n",
       "3         1540     7500000.0  \n",
       "4         5538     7500000.0  \n",
       "\n",
       "[5 rows x 55 columns]"
      ]
     },
     "execution_count": 57,
     "metadata": {},
     "output_type": "execute_result"
    }
   ],
   "source": [
    "data.head()"
   ]
  },
  {
   "cell_type": "code",
   "execution_count": 58,
   "metadata": {},
   "outputs": [
    {
     "data": {
      "text/plain": [
       "Index(['appid', 'name', 'release_date', 'english', 'developer', 'publisher',\n",
       "       'platforms', 'categories', 'genres', 'steamspy_tags', 'achievements',\n",
       "       'positive_ratings', 'negative_ratings', 'average_playtime',\n",
       "       'median_playtime', 'owners', 'price', 'game_age', 'platforms_linux',\n",
       "       'platforms_mac', 'platforms_windows', 'req_age_3', 'req_age_7',\n",
       "       'req_age_12', 'req_age_16', 'req_age_18', 'categ_Co-op',\n",
       "       'categ_Controller', 'categ_Cross-Platform Multiplayer',\n",
       "       'categ_In-App Purchases', 'categ_Local Co-op',\n",
       "       'categ_Local Multi-Player', 'categ_Mods', 'categ_Multi-player',\n",
       "       'categ_Online Co-op'', 'categ_Online Multi-Player', 'categ_Other',\n",
       "       'categ_Shared/Split Screen', 'categ_Single-player', 'categ_VR',\n",
       "       'gen_Action', 'gen_Adventure', 'gen_Casual', 'gen_Free to Play',\n",
       "       'gen_Indie', 'gen_Massively Multiplayer', 'gen_Other', 'gen_RPG',\n",
       "       'gen_Racing', 'gen_Simulation', 'gen_Sports', 'gen_Strategy', 'reviews',\n",
       "       'tot_ratings', 'estim_owners'],\n",
       "      dtype='object')"
      ]
     },
     "execution_count": 58,
     "metadata": {},
     "output_type": "execute_result"
    }
   ],
   "source": [
    "data.columns"
   ]
  },
  {
   "cell_type": "code",
   "execution_count": 59,
   "metadata": {},
   "outputs": [
    {
     "data": {
      "text/plain": [
       "1    26564\n",
       "0      511\n",
       "Name: english, dtype: int64"
      ]
     },
     "execution_count": 59,
     "metadata": {},
     "output_type": "execute_result"
    }
   ],
   "source": [
    "data.english.value_counts()"
   ]
  },
  {
   "cell_type": "code",
   "execution_count": 60,
   "metadata": {},
   "outputs": [
    {
     "data": {
      "text/plain": [
       "1    21923\n",
       "0     5152\n",
       "Name: reviews, dtype: int64"
      ]
     },
     "execution_count": 60,
     "metadata": {},
     "output_type": "execute_result"
    }
   ],
   "source": [
    "data.reviews.value_counts()"
   ]
  },
  {
   "cell_type": "markdown",
   "metadata": {},
   "source": [
    "### Dropping several columns"
   ]
  },
  {
   "cell_type": "code",
   "execution_count": 61,
   "metadata": {},
   "outputs": [],
   "source": [
    "data = data.drop([\"appid\",\"release_date\",\"developer\",\"publisher\",\"platforms\",\"categories\",\"genres\",\"steamspy_tags\",\"owners\"], axis=1)"
   ]
  },
  {
   "cell_type": "code",
   "execution_count": 62,
   "metadata": {},
   "outputs": [
    {
     "name": "stdout",
     "output_type": "stream",
     "text": [
      "<class 'pandas.core.frame.DataFrame'>\n",
      "RangeIndex: 27075 entries, 0 to 27074\n",
      "Data columns (total 46 columns):\n",
      "name                                27075 non-null object\n",
      "english                             27075 non-null int64\n",
      "achievements                        27075 non-null int64\n",
      "positive_ratings                    27075 non-null int64\n",
      "negative_ratings                    27075 non-null int64\n",
      "average_playtime                    27075 non-null int64\n",
      "median_playtime                     27075 non-null int64\n",
      "price                               27075 non-null float64\n",
      "game_age                            27075 non-null int64\n",
      "platforms_linux                     27075 non-null int32\n",
      "platforms_mac                       27075 non-null int32\n",
      "platforms_windows                   27075 non-null int32\n",
      "req_age_3                           27075 non-null uint8\n",
      "req_age_7                           27075 non-null uint8\n",
      "req_age_12                          27075 non-null uint8\n",
      "req_age_16                          27075 non-null uint8\n",
      "req_age_18                          27075 non-null uint8\n",
      "categ_Co-op                         27075 non-null int32\n",
      "categ_Controller                    27075 non-null int32\n",
      "categ_Cross-Platform Multiplayer    27075 non-null int32\n",
      "categ_In-App Purchases              27075 non-null int32\n",
      "categ_Local Co-op                   27075 non-null int32\n",
      "categ_Local Multi-Player            27075 non-null int32\n",
      "categ_Mods                          27075 non-null int32\n",
      "categ_Multi-player                  27075 non-null int32\n",
      "categ_Online Co-op'                 27075 non-null int32\n",
      "categ_Online Multi-Player           27075 non-null int32\n",
      "categ_Other                         27075 non-null int32\n",
      "categ_Shared/Split Screen           27075 non-null int32\n",
      "categ_Single-player                 27075 non-null int32\n",
      "categ_VR                            27075 non-null int32\n",
      "gen_Action                          27075 non-null int32\n",
      "gen_Adventure                       27075 non-null int32\n",
      "gen_Casual                          27075 non-null int32\n",
      "gen_Free to Play                    27075 non-null int32\n",
      "gen_Indie                           27075 non-null int32\n",
      "gen_Massively Multiplayer           27075 non-null int32\n",
      "gen_Other                           27075 non-null int32\n",
      "gen_RPG                             27075 non-null int32\n",
      "gen_Racing                          27075 non-null int32\n",
      "gen_Simulation                      27075 non-null int32\n",
      "gen_Sports                          27075 non-null int32\n",
      "gen_Strategy                        27075 non-null int32\n",
      "reviews                             27075 non-null int64\n",
      "tot_ratings                         27075 non-null int64\n",
      "estim_owners                        27075 non-null float64\n",
      "dtypes: float64(2), int32(29), int64(9), object(1), uint8(5)\n",
      "memory usage: 5.6+ MB\n"
     ]
    }
   ],
   "source": [
    "data.info()"
   ]
  },
  {
   "cell_type": "code",
   "execution_count": 63,
   "metadata": {},
   "outputs": [
    {
     "data": {
      "text/plain": [
       "Index(['name', 'english', 'achievements', 'positive_ratings',\n",
       "       'negative_ratings', 'average_playtime', 'median_playtime', 'price',\n",
       "       'game_age', 'platforms_linux', 'platforms_mac', 'platforms_windows',\n",
       "       'req_age_3', 'req_age_7', 'req_age_12', 'req_age_16', 'req_age_18',\n",
       "       'categ_Co-op', 'categ_Controller', 'categ_Cross-Platform Multiplayer',\n",
       "       'categ_In-App Purchases', 'categ_Local Co-op',\n",
       "       'categ_Local Multi-Player', 'categ_Mods', 'categ_Multi-player',\n",
       "       'categ_Online Co-op'', 'categ_Online Multi-Player', 'categ_Other',\n",
       "       'categ_Shared/Split Screen', 'categ_Single-player', 'categ_VR',\n",
       "       'gen_Action', 'gen_Adventure', 'gen_Casual', 'gen_Free to Play',\n",
       "       'gen_Indie', 'gen_Massively Multiplayer', 'gen_Other', 'gen_RPG',\n",
       "       'gen_Racing', 'gen_Simulation', 'gen_Sports', 'gen_Strategy', 'reviews',\n",
       "       'tot_ratings', 'estim_owners'],\n",
       "      dtype='object')"
      ]
     },
     "execution_count": 63,
     "metadata": {},
     "output_type": "execute_result"
    }
   ],
   "source": [
    "data.columns"
   ]
  },
  {
   "cell_type": "markdown",
   "metadata": {},
   "source": [
    "### Descriptive Stats"
   ]
  },
  {
   "cell_type": "code",
   "execution_count": 64,
   "metadata": {},
   "outputs": [],
   "source": [
    "def stat_col(col):\n",
    "    \n",
    "    return data[col][(data[col] == 1) & (data.reviews == 1)].count() / data[col][(data[col] == 1)].count()\n",
    "    "
   ]
  },
  {
   "cell_type": "code",
   "execution_count": 65,
   "metadata": {},
   "outputs": [],
   "source": [
    "gen_names = list(data.columns[31:43])"
   ]
  },
  {
   "cell_type": "code",
   "execution_count": 66,
   "metadata": {},
   "outputs": [
    {
     "data": {
      "text/plain": [
       "['gen_Action',\n",
       " 'gen_Adventure',\n",
       " 'gen_Casual',\n",
       " 'gen_Free to Play',\n",
       " 'gen_Indie',\n",
       " 'gen_Massively Multiplayer',\n",
       " 'gen_Other',\n",
       " 'gen_RPG',\n",
       " 'gen_Racing',\n",
       " 'gen_Simulation',\n",
       " 'gen_Sports',\n",
       " 'gen_Strategy']"
      ]
     },
     "execution_count": 66,
     "metadata": {},
     "output_type": "execute_result"
    }
   ],
   "source": [
    "gen_names"
   ]
  },
  {
   "cell_type": "code",
   "execution_count": 67,
   "metadata": {},
   "outputs": [],
   "source": [
    "pos_rev = []\n",
    "for i in gen_names:\n",
    "    pos_rev.append(stat_col(i))"
   ]
  },
  {
   "cell_type": "code",
   "execution_count": 68,
   "metadata": {},
   "outputs": [
    {
     "data": {
      "text/plain": [
       "[0.8013105939679073,\n",
       " 0.8123006379585327,\n",
       " 0.7907933398628796,\n",
       " 0.8485915492957746,\n",
       " 0.8145306626847227,\n",
       " 0.7275242047026279,\n",
       " 0.7718787878787878,\n",
       " 0.8332173509626537,\n",
       " 0.7548828125,\n",
       " 0.7474008471313054,\n",
       " 0.7579425113464447,\n",
       " 0.8019820850009529]"
      ]
     },
     "execution_count": 68,
     "metadata": {},
     "output_type": "execute_result"
    }
   ],
   "source": [
    "pos_rev"
   ]
  },
  {
   "cell_type": "code",
   "execution_count": 69,
   "metadata": {},
   "outputs": [],
   "source": [
    "df_genre = pd.DataFrame({\"pos_rev\":pos_rev},gen_names)"
   ]
  },
  {
   "cell_type": "code",
   "execution_count": 70,
   "metadata": {},
   "outputs": [],
   "source": [
    "df_genre[\"neg_rev\"] = 1-df_genre.pos_rev"
   ]
  },
  {
   "cell_type": "code",
   "execution_count": 71,
   "metadata": {},
   "outputs": [
    {
     "data": {
      "text/plain": [
       "<matplotlib.axes._subplots.AxesSubplot at 0x20e39954988>"
      ]
     },
     "execution_count": 71,
     "metadata": {},
     "output_type": "execute_result"
    },
    {
     "data": {
      "image/png": "[encoded data removed]",
      "text/plain": [
       "<Figure size 1440x720 with 2 Axes>"
      ]
     },
     "metadata": {
      "needs_background": "light"
     },
     "output_type": "display_data"
    }
   ],
   "source": [
    "plt.figure(figsize=(20,10))\n",
    "plt.title(\"Percentage of positive/negative reviews by genre\", size=15)\n",
    "sns.heatmap(df_genre.sort_values(by=\"pos_rev\", ascending=False), annot = True)"
   ]
  },
  {
   "cell_type": "code",
   "execution_count": 72,
   "metadata": {},
   "outputs": [],
   "source": [
    "cat_names = list(data.columns[17:31])"
   ]
  },
  {
   "cell_type": "code",
   "execution_count": 73,
   "metadata": {},
   "outputs": [],
   "source": [
    "pos_rev2 = []\n",
    "for i in cat_names:\n",
    "    pos_rev2.append(stat_col(i))"
   ]
  },
  {
   "cell_type": "code",
   "execution_count": 74,
   "metadata": {},
   "outputs": [
    {
     "data": {
      "text/plain": [
       "[0.862870424171993,\n",
       " 0.8725035303611055,\n",
       " 0.8649398704902868,\n",
       " 0.7913043478260869,\n",
       " 0.8961284230406044,\n",
       " 0.871826625386997,\n",
       " 0.9208472686733556,\n",
       " 0.8361852038248616,\n",
       " 0.8487394957983193,\n",
       " 0.8297389330306469,\n",
       " 0.8555555555555555,\n",
       " 0.8847583643122676,\n",
       " 0.811005530025703,\n",
       " 0.8503937007874016]"
      ]
     },
     "execution_count": 74,
     "metadata": {},
     "output_type": "execute_result"
    }
   ],
   "source": [
    "pos_rev2"
   ]
  },
  {
   "cell_type": "code",
   "execution_count": 75,
   "metadata": {},
   "outputs": [],
   "source": [
    "df_cat = pd.DataFrame({\"pos_rev\":pos_rev2},cat_names)"
   ]
  },
  {
   "cell_type": "code",
   "execution_count": 78,
   "metadata": {},
   "outputs": [],
   "source": [
    "df_cat[\"neg_rev\"] = 1-df_cat.pos_rev"
   ]
  },
  {
   "cell_type": "code",
   "execution_count": 80,
   "metadata": {},
   "outputs": [
    {
     "data": {
      "text/plain": [
       "<matplotlib.axes._subplots.AxesSubplot at 0x20e3bf0b988>"
      ]
     },
     "execution_count": 80,
     "metadata": {},
     "output_type": "execute_result"
    },
    {
     "data": {
      "image/png": "[encoded data removed]",
      "text/plain": [
       "<Figure size 1440x720 with 2 Axes>"
      ]
     },
     "metadata": {
      "needs_background": "light"
     },
     "output_type": "display_data"
    }
   ],
   "source": [
    "plt.figure(figsize=(20,10))\n",
    "plt.title(\"Percentage of positive/negative reviews by categories\", size=15)\n",
    "sns.heatmap(df_cat.sort_values(by=\"pos_rev\", ascending=False), annot = True)"
   ]
  },
  {
   "cell_type": "markdown",
   "metadata": {},
   "source": [
    "### Checking normality of numeric columns"
   ]
  },
  {
   "cell_type": "code",
   "execution_count": 81,
   "metadata": {},
   "outputs": [
    {
     "data": {
      "text/plain": [
       "array([<matplotlib.axes._subplots.AxesSubplot object at 0x0000020E3D7D2248>],\n",
       "      dtype=object)"
      ]
     },
     "execution_count": 81,
     "metadata": {},
     "output_type": "execute_result"
    },
    {
     "data": {
      "image/png": "[encoded data removed]",
      "text/plain": [
       "<Figure size 1440x720 with 9 Axes>"
      ]
     },
     "metadata": {
      "needs_background": "light"
     },
     "output_type": "display_data"
    }
   ],
   "source": [
    "fig, axes = plt.subplots(3, 3, figsize =(20,10))\n",
    "\n",
    "data.hist('achievements', bins=100, ax=axes[0][0])\n",
    "data.hist('positive_ratings', bins=100, ax=axes[0][1])\n",
    "data.hist('negative_ratings', bins=100, ax=axes[0][2])\n",
    "\n",
    "data.hist('tot_ratings', bins=100, ax=axes[1][0])\n",
    "data.hist('price', bins=100, ax=axes[1][1])\n",
    "data.hist('average_playtime', bins=100, ax=axes[1][2])\n",
    "\n",
    "data.hist('median_playtime', bins=100, ax=axes[2][0])\n",
    "data.hist('game_age', bins=100, ax=axes[2][1])\n",
    "data.hist('estim_owners', bins=100, ax=axes[2][2])"
   ]
  },
  {
   "cell_type": "code",
   "execution_count": 82,
   "metadata": {},
   "outputs": [
    {
     "data": {
      "text/plain": [
       "Text(0, 0.5, 'Occurence of nb achievements')"
      ]
     },
     "execution_count": 82,
     "metadata": {},
     "output_type": "execute_result"
    },
    {
     "data": {
      "image/png": "[encoded data removed]",
      "text/plain": [
       "<Figure size 504x360 with 1 Axes>"
      ]
     },
     "metadata": {
      "needs_background": "light"
     },
     "output_type": "display_data"
    }
   ],
   "source": [
    "data.positive_ratings.hist(bins=100, figsize=(7,5), color = \"red\")\n",
    "plt.xlabel('Number of achievements')\n",
    "plt.ylabel('Occurence of nb achievements')"
   ]
  },
  {
   "cell_type": "markdown",
   "metadata": {},
   "source": [
    "### Converting numerical columns to normal distribution"
   ]
  },
  {
   "cell_type": "markdown",
   "metadata": {},
   "source": [
    "Selecting numerical columns"
   ]
  },
  {
   "cell_type": "code",
   "execution_count": 83,
   "metadata": {},
   "outputs": [],
   "source": [
    "data_numerical = data[[\"name\",\"achievements\",\"positive_ratings\",\"negative_ratings\",\"tot_ratings\",\"price\",\"average_playtime\",\"median_playtime\",\"game_age\",\"estim_owners\"]]"
   ]
  },
  {
   "cell_type": "code",
   "execution_count": 84,
   "metadata": {},
   "outputs": [
    {
     "data": {
      "text/html": [
       "<div>\n",
       "<style scoped>\n",
       "    .dataframe tbody tr th:only-of-type {\n",
       "        vertical-align: middle;\n",
       "    }\n",
       "\n",
       "    .dataframe tbody tr th {\n",
       "        vertical-align: top;\n",
       "    }\n",
       "\n",
       "    .dataframe thead th {\n",
       "        text-align: right;\n",
       "    }\n",
       "</style>\n",
       "<table border=\"1\" class=\"dataframe\">\n",
       "  <thead>\n",
       "    <tr style=\"text-align: right;\">\n",
       "      <th></th>\n",
       "      <th>achievements</th>\n",
       "      <th>positive_ratings</th>\n",
       "      <th>negative_ratings</th>\n",
       "      <th>tot_ratings</th>\n",
       "      <th>price</th>\n",
       "      <th>average_playtime</th>\n",
       "      <th>median_playtime</th>\n",
       "      <th>game_age</th>\n",
       "      <th>estim_owners</th>\n",
       "    </tr>\n",
       "  </thead>\n",
       "  <tbody>\n",
       "    <tr>\n",
       "      <td>count</td>\n",
       "      <td>27075.000000</td>\n",
       "      <td>2.707500e+04</td>\n",
       "      <td>27075.000000</td>\n",
       "      <td>2.707500e+04</td>\n",
       "      <td>27075.000000</td>\n",
       "      <td>27075.000000</td>\n",
       "      <td>27075.00000</td>\n",
       "      <td>27075.000000</td>\n",
       "      <td>2.707500e+04</td>\n",
       "    </tr>\n",
       "    <tr>\n",
       "      <td>mean</td>\n",
       "      <td>45.248864</td>\n",
       "      <td>1.000559e+03</td>\n",
       "      <td>211.027147</td>\n",
       "      <td>1.211586e+03</td>\n",
       "      <td>6.078193</td>\n",
       "      <td>149.804949</td>\n",
       "      <td>146.05603</td>\n",
       "      <td>2.875420</td>\n",
       "      <td>1.340905e+05</td>\n",
       "    </tr>\n",
       "    <tr>\n",
       "      <td>std</td>\n",
       "      <td>352.670281</td>\n",
       "      <td>1.898872e+04</td>\n",
       "      <td>4284.938531</td>\n",
       "      <td>2.242909e+04</td>\n",
       "      <td>7.874922</td>\n",
       "      <td>1827.038141</td>\n",
       "      <td>2353.88008</td>\n",
       "      <td>2.130405</td>\n",
       "      <td>1.328089e+06</td>\n",
       "    </tr>\n",
       "    <tr>\n",
       "      <td>min</td>\n",
       "      <td>0.000000</td>\n",
       "      <td>0.000000e+00</td>\n",
       "      <td>0.000000</td>\n",
       "      <td>1.000000e+00</td>\n",
       "      <td>0.000000</td>\n",
       "      <td>0.000000</td>\n",
       "      <td>0.00000</td>\n",
       "      <td>1.000000</td>\n",
       "      <td>1.000000e+04</td>\n",
       "    </tr>\n",
       "    <tr>\n",
       "      <td>25%</td>\n",
       "      <td>0.000000</td>\n",
       "      <td>6.000000e+00</td>\n",
       "      <td>2.000000</td>\n",
       "      <td>1.000000e+01</td>\n",
       "      <td>1.690000</td>\n",
       "      <td>0.000000</td>\n",
       "      <td>0.00000</td>\n",
       "      <td>1.000000</td>\n",
       "      <td>1.000000e+04</td>\n",
       "    </tr>\n",
       "    <tr>\n",
       "      <td>50%</td>\n",
       "      <td>7.000000</td>\n",
       "      <td>2.400000e+01</td>\n",
       "      <td>9.000000</td>\n",
       "      <td>3.600000e+01</td>\n",
       "      <td>3.990000</td>\n",
       "      <td>0.000000</td>\n",
       "      <td>0.00000</td>\n",
       "      <td>2.000000</td>\n",
       "      <td>1.000000e+04</td>\n",
       "    </tr>\n",
       "    <tr>\n",
       "      <td>75%</td>\n",
       "      <td>23.000000</td>\n",
       "      <td>1.260000e+02</td>\n",
       "      <td>42.000000</td>\n",
       "      <td>1.760000e+02</td>\n",
       "      <td>7.190000</td>\n",
       "      <td>0.000000</td>\n",
       "      <td>0.00000</td>\n",
       "      <td>4.000000</td>\n",
       "      <td>3.500000e+04</td>\n",
       "    </tr>\n",
       "    <tr>\n",
       "      <td>max</td>\n",
       "      <td>9821.000000</td>\n",
       "      <td>2.644404e+06</td>\n",
       "      <td>487076.000000</td>\n",
       "      <td>3.046717e+06</td>\n",
       "      <td>421.990000</td>\n",
       "      <td>190625.000000</td>\n",
       "      <td>190625.00000</td>\n",
       "      <td>22.000000</td>\n",
       "      <td>1.500000e+08</td>\n",
       "    </tr>\n",
       "  </tbody>\n",
       "</table>\n",
       "</div>"
      ],
      "text/plain": [
       "       achievements  positive_ratings  negative_ratings   tot_ratings  \\\n",
       "count  27075.000000      2.707500e+04      27075.000000  2.707500e+04   \n",
       "mean      45.248864      1.000559e+03        211.027147  1.211586e+03   \n",
       "std      352.670281      1.898872e+04       4284.938531  2.242909e+04   \n",
       "min        0.000000      0.000000e+00          0.000000  1.000000e+00   \n",
       "25%        0.000000      6.000000e+00          2.000000  1.000000e+01   \n",
       "50%        7.000000      2.400000e+01          9.000000  3.600000e+01   \n",
       "75%       23.000000      1.260000e+02         42.000000  1.760000e+02   \n",
       "max     9821.000000      2.644404e+06     487076.000000  3.046717e+06   \n",
       "\n",
       "              price  average_playtime  median_playtime      game_age  \\\n",
       "count  27075.000000      27075.000000      27075.00000  27075.000000   \n",
       "mean       6.078193        149.804949        146.05603      2.875420   \n",
       "std        7.874922       1827.038141       2353.88008      2.130405   \n",
       "min        0.000000          0.000000          0.00000      1.000000   \n",
       "25%        1.690000          0.000000          0.00000      1.000000   \n",
       "50%        3.990000          0.000000          0.00000      2.000000   \n",
       "75%        7.190000          0.000000          0.00000      4.000000   \n",
       "max      421.990000     190625.000000     190625.00000     22.000000   \n",
       "\n",
       "       estim_owners  \n",
       "count  2.707500e+04  \n",
       "mean   1.340905e+05  \n",
       "std    1.328089e+06  \n",
       "min    1.000000e+04  \n",
       "25%    1.000000e+04  \n",
       "50%    1.000000e+04  \n",
       "75%    3.500000e+04  \n",
       "max    1.500000e+08  "
      ]
     },
     "execution_count": 84,
     "metadata": {},
     "output_type": "execute_result"
    }
   ],
   "source": [
    "data_numerical.describe()"
   ]
  },
  {
   "cell_type": "markdown",
   "metadata": {},
   "source": [
    "Creating log columns"
   ]
  },
  {
   "cell_type": "code",
   "execution_count": 85,
   "metadata": {},
   "outputs": [
    {
     "name": "stderr",
     "output_type": "stream",
     "text": [
      "C:\\Users\\jeanb\\Anaconda3\\lib\\site-packages\\pandas\\core\\generic.py:5208: SettingWithCopyWarning: \n",
      "A value is trying to be set on a copy of a slice from a DataFrame.\n",
      "Try using .loc[row_indexer,col_indexer] = value instead\n",
      "\n",
      "See the caveats in the documentation: http://pandas.pydata.org/pandas-docs/stable/user_guide/indexing.html#returning-a-view-versus-a-copy\n",
      "  self[name] = value\n"
     ]
    }
   ],
   "source": [
    "data_numerical.achievements = data_numerical.achievements+1\n",
    "data_numerical.positive_ratings = data_numerical.positive_ratings+1\n",
    "data_numerical.negative_ratings = data_numerical.negative_ratings+1\n",
    "data_numerical.price = data_numerical.price+1\n",
    "data_numerical.average_playtime = data_numerical.average_playtime+1\n",
    "data_numerical.median_playtime = data_numerical.median_playtime+1"
   ]
  },
  {
   "cell_type": "code",
   "execution_count": 86,
   "metadata": {},
   "outputs": [
    {
     "name": "stderr",
     "output_type": "stream",
     "text": [
      "C:\\Users\\jeanb\\Anaconda3\\lib\\site-packages\\ipykernel_launcher.py:1: SettingWithCopyWarning: \n",
      "A value is trying to be set on a copy of a slice from a DataFrame.\n",
      "Try using .loc[row_indexer,col_indexer] = value instead\n",
      "\n",
      "See the caveats in the documentation: http://pandas.pydata.org/pandas-docs/stable/user_guide/indexing.html#returning-a-view-versus-a-copy\n",
      "  \"\"\"Entry point for launching an IPython kernel.\n",
      "C:\\Users\\jeanb\\Anaconda3\\lib\\site-packages\\ipykernel_launcher.py:2: SettingWithCopyWarning: \n",
      "A value is trying to be set on a copy of a slice from a DataFrame.\n",
      "Try using .loc[row_indexer,col_indexer] = value instead\n",
      "\n",
      "See the caveats in the documentation: http://pandas.pydata.org/pandas-docs/stable/user_guide/indexing.html#returning-a-view-versus-a-copy\n",
      "  \n",
      "C:\\Users\\jeanb\\Anaconda3\\lib\\site-packages\\ipykernel_launcher.py:3: SettingWithCopyWarning: \n",
      "A value is trying to be set on a copy of a slice from a DataFrame.\n",
      "Try using .loc[row_indexer,col_indexer] = value instead\n",
      "\n",
      "See the caveats in the documentation: http://pandas.pydata.org/pandas-docs/stable/user_guide/indexing.html#returning-a-view-versus-a-copy\n",
      "  This is separate from the ipykernel package so we can avoid doing imports until\n",
      "C:\\Users\\jeanb\\Anaconda3\\lib\\site-packages\\ipykernel_launcher.py:4: SettingWithCopyWarning: \n",
      "A value is trying to be set on a copy of a slice from a DataFrame.\n",
      "Try using .loc[row_indexer,col_indexer] = value instead\n",
      "\n",
      "See the caveats in the documentation: http://pandas.pydata.org/pandas-docs/stable/user_guide/indexing.html#returning-a-view-versus-a-copy\n",
      "  after removing the cwd from sys.path.\n",
      "C:\\Users\\jeanb\\Anaconda3\\lib\\site-packages\\ipykernel_launcher.py:5: SettingWithCopyWarning: \n",
      "A value is trying to be set on a copy of a slice from a DataFrame.\n",
      "Try using .loc[row_indexer,col_indexer] = value instead\n",
      "\n",
      "See the caveats in the documentation: http://pandas.pydata.org/pandas-docs/stable/user_guide/indexing.html#returning-a-view-versus-a-copy\n",
      "  \"\"\"\n",
      "C:\\Users\\jeanb\\Anaconda3\\lib\\site-packages\\ipykernel_launcher.py:6: SettingWithCopyWarning: \n",
      "A value is trying to be set on a copy of a slice from a DataFrame.\n",
      "Try using .loc[row_indexer,col_indexer] = value instead\n",
      "\n",
      "See the caveats in the documentation: http://pandas.pydata.org/pandas-docs/stable/user_guide/indexing.html#returning-a-view-versus-a-copy\n",
      "  \n",
      "C:\\Users\\jeanb\\Anaconda3\\lib\\site-packages\\ipykernel_launcher.py:7: SettingWithCopyWarning: \n",
      "A value is trying to be set on a copy of a slice from a DataFrame.\n",
      "Try using .loc[row_indexer,col_indexer] = value instead\n",
      "\n",
      "See the caveats in the documentation: http://pandas.pydata.org/pandas-docs/stable/user_guide/indexing.html#returning-a-view-versus-a-copy\n",
      "  import sys\n",
      "C:\\Users\\jeanb\\Anaconda3\\lib\\site-packages\\ipykernel_launcher.py:8: SettingWithCopyWarning: \n",
      "A value is trying to be set on a copy of a slice from a DataFrame.\n",
      "Try using .loc[row_indexer,col_indexer] = value instead\n",
      "\n",
      "See the caveats in the documentation: http://pandas.pydata.org/pandas-docs/stable/user_guide/indexing.html#returning-a-view-versus-a-copy\n",
      "  \n",
      "C:\\Users\\jeanb\\Anaconda3\\lib\\site-packages\\ipykernel_launcher.py:9: SettingWithCopyWarning: \n",
      "A value is trying to be set on a copy of a slice from a DataFrame.\n",
      "Try using .loc[row_indexer,col_indexer] = value instead\n",
      "\n",
      "See the caveats in the documentation: http://pandas.pydata.org/pandas-docs/stable/user_guide/indexing.html#returning-a-view-versus-a-copy\n",
      "  if __name__ == '__main__':\n"
     ]
    }
   ],
   "source": [
    "data_numerical[\"achievements_log\"] = boxcox(data_numerical.achievements, 0)\n",
    "data_numerical[\"positive_ratings_log\"] = boxcox(data_numerical.positive_ratings, 0)\n",
    "data_numerical[\"negative_ratings_log\"] = boxcox(data_numerical.negative_ratings, 0)\n",
    "data_numerical[\"tot_ratings_log\"] = boxcox(data_numerical.tot_ratings, 0)\n",
    "data_numerical[\"price_log\"] = boxcox(data_numerical.price, 0)\n",
    "data_numerical[\"average_playtime_log\"] = boxcox(data_numerical.average_playtime, 0)\n",
    "data_numerical[\"median_playtime_log\"] = boxcox(data_numerical.median_playtime, 0)\n",
    "data_numerical[\"game_age_log\"] = boxcox(data_numerical.game_age, 0)\n",
    "data_numerical[\"estim_owners_log\"] = boxcox(data_numerical.estim_owners, 0)"
   ]
  },
  {
   "cell_type": "markdown",
   "metadata": {},
   "source": [
    "Plotting the histograms with log columns"
   ]
  },
  {
   "cell_type": "code",
   "execution_count": 87,
   "metadata": {},
   "outputs": [
    {
     "data": {
      "text/plain": [
       "array([<matplotlib.axes._subplots.AxesSubplot object at 0x0000020E3FEDB488>],\n",
       "      dtype=object)"
      ]
     },
     "execution_count": 87,
     "metadata": {},
     "output_type": "execute_result"
    },
    {
     "data": {
      "image/png": "[encoded data removed]",
      "text/plain": [
       "<Figure size 1440x720 with 9 Axes>"
      ]
     },
     "metadata": {
      "needs_background": "light"
     },
     "output_type": "display_data"
    }
   ],
   "source": [
    "fig, axes = plt.subplots(3, 3, figsize =(20,10))\n",
    "\n",
    "data_numerical.hist('achievements_log', bins=100, ax=axes[0][0])\n",
    "data_numerical.hist('positive_ratings_log', bins=100, ax=axes[0][1])\n",
    "data_numerical.hist('negative_ratings_log', bins=100, ax=axes[0][2])\n",
    "\n",
    "data_numerical.hist('tot_ratings_log', bins=100, ax=axes[1][0])\n",
    "data_numerical.hist('price_log', bins=100, ax=axes[1][1])\n",
    "data_numerical.hist('average_playtime_log', bins=100, ax=axes[1][2])\n",
    "\n",
    "data_numerical.hist('median_playtime_log', bins=100, ax=axes[2][0])\n",
    "data_numerical.hist('game_age_log', bins=100, ax=axes[2][1])\n",
    "data_numerical.hist('estim_owners_log', bins=100, ax=axes[2][2])"
   ]
  },
  {
   "cell_type": "markdown",
   "metadata": {},
   "source": [
    "### Checking outliers for numeric columns"
   ]
  },
  {
   "cell_type": "markdown",
   "metadata": {},
   "source": [
    "Orginal columns"
   ]
  },
  {
   "cell_type": "code",
   "execution_count": 90,
   "metadata": {
    "jupyter": {
     "source_hidden": true
    }
   },
   "outputs": [
    {
     "data": {
      "image/png": "[encoded data removed]",
      "text/plain": [
       "<Figure size 1224x864 with 9 Axes>"
      ]
     },
     "metadata": {
      "needs_background": "light"
     },
     "output_type": "display_data"
    }
   ],
   "source": [
    "fig, axs = plt.subplots(3,3, figsize = (17,12))\n",
    "\n",
    "axs[0][0].boxplot(data.achievements)\n",
    "axs[0][0].set_title(\"achievements\")\n",
    "\n",
    "axs[0][1].boxplot(data.positive_ratings)\n",
    "axs[0][1].set_title(\"positive_ratings\")\n",
    "\n",
    "axs[0][2].boxplot(data.negative_ratings)\n",
    "axs[0][2].set_title(\"negative_ratings\")\n",
    "\n",
    "axs[1][0].boxplot(data.tot_ratings)\n",
    "axs[1][0].set_title(\"tot_ratings\")\n",
    "\n",
    "axs[1][1].boxplot(data.price)\n",
    "axs[1][1].set_title(\"price\")\n",
    "\n",
    "axs[1][2].boxplot(data.average_playtime)\n",
    "axs[1][2].set_title(\"average_playtime\")\n",
    "\n",
    "axs[2][0].boxplot(data.median_playtime)\n",
    "axs[2][0].set_title(\"median_playtime\")\n",
    "\n",
    "axs[2][1].boxplot(data.game_age)\n",
    "axs[2][1].set_title(\"game_age\")\n",
    "\n",
    "axs[2][2].boxplot(data.estim_owners)\n",
    "axs[2][2].set_title(\"estim_owners\")\n",
    "\n",
    "\n",
    "plt.show()"
   ]
  },
  {
   "cell_type": "markdown",
   "metadata": {},
   "source": [
    "Loged columns"
   ]
  },
  {
   "cell_type": "code",
   "execution_count": 91,
   "metadata": {
    "jupyter": {
     "source_hidden": true
    }
   },
   "outputs": [
    {
     "data": {
      "image/png": "[encoded data removed]",
      "text/plain": [
       "<Figure size 1224x864 with 9 Axes>"
      ]
     },
     "metadata": {
      "needs_background": "light"
     },
     "output_type": "display_data"
    }
   ],
   "source": [
    "fig, axs = plt.subplots(3,3, figsize = (17,12))\n",
    "\n",
    "axs[0][0].boxplot(data_numerical.achievements_log)\n",
    "axs[0][0].set_title(\"achievements_log\")\n",
    "\n",
    "axs[0][1].boxplot(data_numerical.positive_ratings_log)\n",
    "axs[0][1].set_title(\"positive_ratings_log\")\n",
    "\n",
    "axs[0][2].boxplot(data_numerical.negative_ratings_log)\n",
    "axs[0][2].set_title(\"negative_ratings_log\")\n",
    "\n",
    "axs[1][0].boxplot(data_numerical.tot_ratings_log)\n",
    "axs[1][0].set_title(\"tot_ratings_log\")\n",
    "\n",
    "axs[1][1].boxplot(data_numerical.price_log)\n",
    "axs[1][1].set_title(\"price_log\")\n",
    "\n",
    "axs[1][2].boxplot(data_numerical.average_playtime_log)\n",
    "axs[1][2].set_title(\"average_playtime_log\")\n",
    "\n",
    "axs[2][0].boxplot(data_numerical.median_playtime_log)\n",
    "axs[2][0].set_title(\"median_playtime_log\")\n",
    "\n",
    "axs[2][1].boxplot(data_numerical.game_age_log)\n",
    "axs[2][1].set_title(\"game_age_log\")\n",
    "\n",
    "axs[2][2].boxplot(data_numerical.estim_owners_log)\n",
    "axs[2][2].set_title(\"estim_owners_log\")\n",
    "\n",
    "\n",
    "plt.show()"
   ]
  },
  {
   "cell_type": "code",
   "execution_count": 92,
   "metadata": {
    "jupyter": {
     "source_hidden": true
    }
   },
   "outputs": [
    {
     "data": {
      "text/html": [
       "<div>\n",
       "<style scoped>\n",
       "    .dataframe tbody tr th:only-of-type {\n",
       "        vertical-align: middle;\n",
       "    }\n",
       "\n",
       "    .dataframe tbody tr th {\n",
       "        vertical-align: top;\n",
       "    }\n",
       "\n",
       "    .dataframe thead th {\n",
       "        text-align: right;\n",
       "    }\n",
       "</style>\n",
       "<table border=\"1\" class=\"dataframe\">\n",
       "  <thead>\n",
       "    <tr style=\"text-align: right;\">\n",
       "      <th></th>\n",
       "      <th>name</th>\n",
       "      <th>english</th>\n",
       "      <th>achievements</th>\n",
       "      <th>positive_ratings</th>\n",
       "      <th>negative_ratings</th>\n",
       "      <th>average_playtime</th>\n",
       "      <th>median_playtime</th>\n",
       "      <th>price</th>\n",
       "      <th>game_age</th>\n",
       "      <th>platforms_linux</th>\n",
       "      <th>...</th>\n",
       "      <th>gen_Massively Multiplayer</th>\n",
       "      <th>gen_Other</th>\n",
       "      <th>gen_RPG</th>\n",
       "      <th>gen_Racing</th>\n",
       "      <th>gen_Simulation</th>\n",
       "      <th>gen_Sports</th>\n",
       "      <th>gen_Strategy</th>\n",
       "      <th>reviews</th>\n",
       "      <th>tot_ratings</th>\n",
       "      <th>estim_owners</th>\n",
       "    </tr>\n",
       "  </thead>\n",
       "  <tbody>\n",
       "    <tr>\n",
       "      <td>19</td>\n",
       "      <td>Team Fortress 2</td>\n",
       "      <td>1</td>\n",
       "      <td>520</td>\n",
       "      <td>515879</td>\n",
       "      <td>34036</td>\n",
       "      <td>8495</td>\n",
       "      <td>623</td>\n",
       "      <td>0.00</td>\n",
       "      <td>12</td>\n",
       "      <td>1</td>\n",
       "      <td>...</td>\n",
       "      <td>0</td>\n",
       "      <td>0</td>\n",
       "      <td>0</td>\n",
       "      <td>0</td>\n",
       "      <td>0</td>\n",
       "      <td>0</td>\n",
       "      <td>0</td>\n",
       "      <td>1</td>\n",
       "      <td>549915</td>\n",
       "      <td>35000000.0</td>\n",
       "    </tr>\n",
       "    <tr>\n",
       "      <td>22</td>\n",
       "      <td>Dota 2</td>\n",
       "      <td>1</td>\n",
       "      <td>0</td>\n",
       "      <td>863507</td>\n",
       "      <td>142079</td>\n",
       "      <td>23944</td>\n",
       "      <td>801</td>\n",
       "      <td>0.00</td>\n",
       "      <td>6</td>\n",
       "      <td>1</td>\n",
       "      <td>...</td>\n",
       "      <td>0</td>\n",
       "      <td>0</td>\n",
       "      <td>0</td>\n",
       "      <td>0</td>\n",
       "      <td>0</td>\n",
       "      <td>0</td>\n",
       "      <td>1</td>\n",
       "      <td>1</td>\n",
       "      <td>1005586</td>\n",
       "      <td>150000000.0</td>\n",
       "    </tr>\n",
       "    <tr>\n",
       "      <td>25</td>\n",
       "      <td>Counter-Strike: Global Offensive</td>\n",
       "      <td>1</td>\n",
       "      <td>167</td>\n",
       "      <td>2644404</td>\n",
       "      <td>402313</td>\n",
       "      <td>22494</td>\n",
       "      <td>6502</td>\n",
       "      <td>0.00</td>\n",
       "      <td>7</td>\n",
       "      <td>1</td>\n",
       "      <td>...</td>\n",
       "      <td>0</td>\n",
       "      <td>0</td>\n",
       "      <td>0</td>\n",
       "      <td>0</td>\n",
       "      <td>0</td>\n",
       "      <td>0</td>\n",
       "      <td>0</td>\n",
       "      <td>1</td>\n",
       "      <td>3046717</td>\n",
       "      <td>75000000.0</td>\n",
       "    </tr>\n",
       "    <tr>\n",
       "      <td>1634</td>\n",
       "      <td>Warframe</td>\n",
       "      <td>1</td>\n",
       "      <td>187</td>\n",
       "      <td>226541</td>\n",
       "      <td>20268</td>\n",
       "      <td>5845</td>\n",
       "      <td>394</td>\n",
       "      <td>0.00</td>\n",
       "      <td>7</td>\n",
       "      <td>0</td>\n",
       "      <td>...</td>\n",
       "      <td>0</td>\n",
       "      <td>0</td>\n",
       "      <td>0</td>\n",
       "      <td>0</td>\n",
       "      <td>0</td>\n",
       "      <td>0</td>\n",
       "      <td>0</td>\n",
       "      <td>1</td>\n",
       "      <td>246809</td>\n",
       "      <td>35000000.0</td>\n",
       "    </tr>\n",
       "    <tr>\n",
       "      <td>3362</td>\n",
       "      <td>Unturned</td>\n",
       "      <td>1</td>\n",
       "      <td>46</td>\n",
       "      <td>292574</td>\n",
       "      <td>31482</td>\n",
       "      <td>3248</td>\n",
       "      <td>413</td>\n",
       "      <td>0.00</td>\n",
       "      <td>2</td>\n",
       "      <td>1</td>\n",
       "      <td>...</td>\n",
       "      <td>0</td>\n",
       "      <td>0</td>\n",
       "      <td>0</td>\n",
       "      <td>0</td>\n",
       "      <td>0</td>\n",
       "      <td>0</td>\n",
       "      <td>0</td>\n",
       "      <td>1</td>\n",
       "      <td>324056</td>\n",
       "      <td>35000000.0</td>\n",
       "    </tr>\n",
       "    <tr>\n",
       "      <td>12836</td>\n",
       "      <td>PLAYERUNKNOWN'S BATTLEGROUNDS</td>\n",
       "      <td>1</td>\n",
       "      <td>37</td>\n",
       "      <td>496184</td>\n",
       "      <td>487076</td>\n",
       "      <td>22938</td>\n",
       "      <td>12434</td>\n",
       "      <td>26.99</td>\n",
       "      <td>2</td>\n",
       "      <td>0</td>\n",
       "      <td>...</td>\n",
       "      <td>1</td>\n",
       "      <td>0</td>\n",
       "      <td>0</td>\n",
       "      <td>0</td>\n",
       "      <td>0</td>\n",
       "      <td>0</td>\n",
       "      <td>0</td>\n",
       "      <td>1</td>\n",
       "      <td>983260</td>\n",
       "      <td>75000000.0</td>\n",
       "    </tr>\n",
       "  </tbody>\n",
       "</table>\n",
       "<p>6 rows × 46 columns</p>\n",
       "</div>"
      ],
      "text/plain": [
       "                                   name  english  achievements  \\\n",
       "19                      Team Fortress 2        1           520   \n",
       "22                               Dota 2        1             0   \n",
       "25     Counter-Strike: Global Offensive        1           167   \n",
       "1634                           Warframe        1           187   \n",
       "3362                           Unturned        1            46   \n",
       "12836     PLAYERUNKNOWN'S BATTLEGROUNDS        1            37   \n",
       "\n",
       "       positive_ratings  negative_ratings  average_playtime  median_playtime  \\\n",
       "19               515879             34036              8495              623   \n",
       "22               863507            142079             23944              801   \n",
       "25              2644404            402313             22494             6502   \n",
       "1634             226541             20268              5845              394   \n",
       "3362             292574             31482              3248              413   \n",
       "12836            496184            487076             22938            12434   \n",
       "\n",
       "       price  game_age  platforms_linux  ...  gen_Massively Multiplayer  \\\n",
       "19      0.00        12                1  ...                          0   \n",
       "22      0.00         6                1  ...                          0   \n",
       "25      0.00         7                1  ...                          0   \n",
       "1634    0.00         7                0  ...                          0   \n",
       "3362    0.00         2                1  ...                          0   \n",
       "12836  26.99         2                0  ...                          1   \n",
       "\n",
       "       gen_Other  gen_RPG  gen_Racing  gen_Simulation  gen_Sports  \\\n",
       "19             0        0           0               0           0   \n",
       "22             0        0           0               0           0   \n",
       "25             0        0           0               0           0   \n",
       "1634           0        0           0               0           0   \n",
       "3362           0        0           0               0           0   \n",
       "12836          0        0           0               0           0   \n",
       "\n",
       "       gen_Strategy  reviews  tot_ratings  estim_owners  \n",
       "19                0        1       549915    35000000.0  \n",
       "22                1        1      1005586   150000000.0  \n",
       "25                0        1      3046717    75000000.0  \n",
       "1634              0        1       246809    35000000.0  \n",
       "3362              0        1       324056    35000000.0  \n",
       "12836             0        1       983260    75000000.0  \n",
       "\n",
       "[6 rows x 46 columns]"
      ]
     },
     "execution_count": 92,
     "metadata": {},
     "output_type": "execute_result"
    }
   ],
   "source": [
    "data[data.achievements>6000] # LOGistICAL 12604\n",
    "data[data.positive_ratings>1000000] # CS:GO 25\n",
    "data[data.negative_ratings>200000] # CS:GO 25 / PUBG 12836\n",
    "data[data.tot_ratings>1500000] # CS:GO 25\n",
    "data[data.price>200] # Houdini Indie 10034 / GameMaker Studio 2 UWP 13062 / ADR-Labelling Game 21105\n",
    "data[data.average_playtime>100000] # The Abbey of Crime Extensum 9201\n",
    "data[data.median_playtime>100000] # The Banner Saga: Factions 1478 / The Secret of Tremendous Corporation 6014 / The Abbey of Crime Extensum 9201\n",
    "data[data.estim_owners>15000000] # Team Fortress 2 19 / Dota 2 22 / CS:GO 25 / Warframe 1634 / Unturned 3362 / PUBG 12836"
   ]
  },
  {
   "cell_type": "code",
   "execution_count": 93,
   "metadata": {},
   "outputs": [
    {
     "name": "stdout",
     "output_type": "stream",
     "text": [
      "achievements_log outliers limits : below -4.767080745521919 and above 7.945134575869865\n",
      "\n",
      "Min, Max values : 7.9658927350845286 9.19238004659919\n",
      "\n",
      "Nb of outliers : 135\n"
     ]
    }
   ],
   "source": [
    "ob_achievements, ot_achievements = outliers_lim(\"achievements_log\", data_numerical)"
   ]
  },
  {
   "cell_type": "code",
   "execution_count": 94,
   "metadata": {},
   "outputs": [
    {
     "name": "stdout",
     "output_type": "stream",
     "text": [
      "positive_ratings_log outliers limits : below -2.401505257049603 and above 9.191602492563508\n",
      "\n",
      "Min, Max values : 9.191972714617998 14.787956645227853\n",
      "\n",
      "Nb of outliers : 419\n"
     ]
    }
   ],
   "source": [
    "ob_pos_rat, ot_pos_rat = outliers_lim(\"positive_ratings_log\", data_numerical)"
   ]
  },
  {
   "cell_type": "code",
   "execution_count": 95,
   "metadata": {},
   "outputs": [
    {
     "name": "stdout",
     "output_type": "stream",
     "text": [
      "negative_ratings_log outliers limits : below -2.8952694518700692 and above 7.755081856231742\n",
      "\n",
      "Min, Max values : 7.757051142032013 13.096177500449475\n",
      "\n",
      "Nb of outliers : 339\n"
     ]
    }
   ],
   "source": [
    "ob_neg_rat, ot_neg_rat = outliers_lim(\"negative_ratings_log\", data_numerical)"
   ]
  },
  {
   "cell_type": "code",
   "execution_count": 96,
   "metadata": {},
   "outputs": [
    {
     "name": "stdout",
     "output_type": "stream",
     "text": [
      "tot_ratings_log outliers limits : below -1.9992632600721123 and above 9.47233234810431\n",
      "\n",
      "Min, Max values : 9.47677327138879 14.929575175413502\n",
      "\n",
      "Nb of outliers : 383\n"
     ]
    }
   ],
   "source": [
    "ob_tot_rat, ot_tot_rat = outliers_lim(\"tot_ratings_log\", data_numerical)"
   ]
  },
  {
   "cell_type": "code",
   "execution_count": 97,
   "metadata": {},
   "outputs": [
    {
     "name": "stdout",
     "output_type": "stream",
     "text": [
      "price_log outliers limits : below -0.6805178627630983 and above 3.7729729542418244\n",
      "\n",
      "Min, Max values : 3.824284091120139 6.047348538104894\n",
      "\n",
      "Nb of outliers : 111\n"
     ]
    }
   ],
   "source": [
    "ob_price, ot_price = outliers_lim(\"price_log\", data_numerical)"
   ]
  },
  {
   "cell_type": "code",
   "execution_count": 98,
   "metadata": {},
   "outputs": [
    {
     "name": "stdout",
     "output_type": "stream",
     "text": [
      "average_playtime_log outliers limits : below 0.0 and above 0.0\n",
      "\n",
      "Min, Max values : 0.6931471805599453 12.158068672231693\n",
      "\n",
      "Nb of outliers : 6170\n"
     ]
    }
   ],
   "source": [
    "ob_avg_playt, ot_avg_playt = outliers_lim(\"average_playtime_log\", data_numerical)"
   ]
  },
  {
   "cell_type": "code",
   "execution_count": 99,
   "metadata": {},
   "outputs": [
    {
     "name": "stdout",
     "output_type": "stream",
     "text": [
      "median_playtime_log outliers limits : below 0.0 and above 0.0\n",
      "\n",
      "Min, Max values : 0.6931471805599453 12.158068672231693\n",
      "\n",
      "Nb of outliers : 6170\n"
     ]
    }
   ],
   "source": [
    "ob_med_playt, ot_med_playt = outliers_lim(\"median_playtime_log\", data_numerical)"
   ]
  },
  {
   "cell_type": "code",
   "execution_count": 100,
   "metadata": {},
   "outputs": [
    {
     "name": "stdout",
     "output_type": "stream",
     "text": [
      "game_age_log outliers limits : below -2.0794415416798357 and above 3.465735902799726\n",
      "\n",
      "Min, Max values : nan nan\n",
      "\n",
      "Nb of outliers : 0\n"
     ]
    }
   ],
   "source": [
    "ob_game_age, ot_game_age = outliers_lim(\"game_age_log\", data_numerical)"
   ]
  },
  {
   "cell_type": "code",
   "execution_count": 101,
   "metadata": {},
   "outputs": [
    {
     "name": "stdout",
     "output_type": "stream",
     "text": [
      "estim_owners_log outliers limits : below 7.331195919233134 and above 12.3422477932146\n",
      "\n",
      "Min, Max values : 12.765688433465597 18.82614585206053\n",
      "\n",
      "Nb of outliers : 2339\n"
     ]
    }
   ],
   "source": [
    "ob_est_own, ot_est_own = outliers_lim(\"estim_owners_log\", data_numerical)"
   ]
  },
  {
   "cell_type": "markdown",
   "metadata": {},
   "source": [
    "### Creation of log columns to data"
   ]
  },
  {
   "cell_type": "code",
   "execution_count": 102,
   "metadata": {},
   "outputs": [],
   "source": [
    "data.achievements = data.achievements+1\n",
    "data.positive_ratings = data.positive_ratings+1\n",
    "data.negative_ratings = data.negative_ratings+1\n",
    "data.price = data.price+1\n",
    "data.average_playtime = data.average_playtime+1\n",
    "data.median_playtime = data.median_playtime+1"
   ]
  },
  {
   "cell_type": "code",
   "execution_count": 103,
   "metadata": {},
   "outputs": [],
   "source": [
    "data[\"achievements_log\"] = boxcox(data.achievements, 0)\n",
    "data[\"positive_ratings_log\"] = boxcox(data.positive_ratings, 0)\n",
    "data[\"negative_ratings_log\"] = boxcox(data.negative_ratings, 0)\n",
    "data[\"tot_ratings_log\"] = boxcox(data.tot_ratings, 0)\n",
    "data[\"price_log\"] = boxcox(data.price, 0)\n",
    "data[\"average_playtime_log\"] = boxcox(data.average_playtime, 0)\n",
    "data[\"median_playtime_log\"] = boxcox(data.median_playtime, 0)\n",
    "data[\"game_age_log\"] = boxcox(data.game_age, 0)\n",
    "data[\"estim_owners_log\"] = boxcox(data.estim_owners, 0)"
   ]
  },
  {
   "cell_type": "code",
   "execution_count": 104,
   "metadata": {},
   "outputs": [],
   "source": [
    "data = data.drop([\"achievements\",\"positive_ratings\",\"negative_ratings\",\"tot_ratings\",\"price\",\"average_playtime\",\"median_playtime\",\"game_age\",\"estim_owners\"], axis=1)"
   ]
  },
  {
   "cell_type": "code",
   "execution_count": 105,
   "metadata": {},
   "outputs": [
    {
     "data": {
      "text/plain": [
       "Index(['name', 'english', 'platforms_linux', 'platforms_mac',\n",
       "       'platforms_windows', 'req_age_3', 'req_age_7', 'req_age_12',\n",
       "       'req_age_16', 'req_age_18', 'categ_Co-op', 'categ_Controller',\n",
       "       'categ_Cross-Platform Multiplayer', 'categ_In-App Purchases',\n",
       "       'categ_Local Co-op', 'categ_Local Multi-Player', 'categ_Mods',\n",
       "       'categ_Multi-player', 'categ_Online Co-op'',\n",
       "       'categ_Online Multi-Player', 'categ_Other', 'categ_Shared/Split Screen',\n",
       "       'categ_Single-player', 'categ_VR', 'gen_Action', 'gen_Adventure',\n",
       "       'gen_Casual', 'gen_Free to Play', 'gen_Indie',\n",
       "       'gen_Massively Multiplayer', 'gen_Other', 'gen_RPG', 'gen_Racing',\n",
       "       'gen_Simulation', 'gen_Sports', 'gen_Strategy', 'reviews',\n",
       "       'achievements_log', 'positive_ratings_log', 'negative_ratings_log',\n",
       "       'tot_ratings_log', 'price_log', 'average_playtime_log',\n",
       "       'median_playtime_log', 'game_age_log', 'estim_owners_log'],\n",
       "      dtype='object')"
      ]
     },
     "execution_count": 105,
     "metadata": {},
     "output_type": "execute_result"
    }
   ],
   "source": [
    "data.columns"
   ]
  },
  {
   "cell_type": "markdown",
   "metadata": {},
   "source": [
    "### Creation of outliers columns"
   ]
  },
  {
   "cell_type": "code",
   "execution_count": 106,
   "metadata": {},
   "outputs": [],
   "source": [
    "data[\"ach_outliers\"] = data.apply(lambda row : 0 if ob_achievements<row.achievements_log<ot_achievements  else 1, axis=1)\n",
    "data[\"pos_rat_outliers\"] = data.apply(lambda row : 0 if ob_pos_rat<row.positive_ratings_log<ot_pos_rat  else 1, axis=1)\n",
    "data[\"neg_rat_outliers\"] = data.apply(lambda row : 0 if ob_neg_rat<row.negative_ratings_log<ot_neg_rat  else 1, axis=1)\n",
    "data[\"tot_rat_outliers\"] = data.apply(lambda row : 0 if ob_tot_rat<row.tot_ratings_log<ot_tot_rat  else 1, axis=1)\n",
    "data[\"price_outliers\"] = data.apply(lambda row : 0 if ob_price<row.price_log<ot_price  else 1, axis=1)\n",
    "data[\"avg_playt_outliers\"] = data.apply(lambda row : 0 if ob_avg_playt<row.average_playtime_log<ot_avg_playt  else 1, axis=1)\n",
    "data[\"med_playt_outliers\"] = data.apply(lambda row : 0 if ob_med_playt<row.median_playtime_log<ot_med_playt  else 1, axis=1)\n",
    "data[\"game_age_outliers\"] = data.apply(lambda row : 0 if ob_game_age<row.game_age_log<ot_game_age  else 1, axis=1)\n",
    "data[\"est_own_outliers\"] = data.apply(lambda row : 0 if ob_est_own<row.estim_owners_log<ot_est_own  else 1, axis=1)"
   ]
  },
  {
   "cell_type": "markdown",
   "metadata": {},
   "source": [
    "### Handling Multicollinearity"
   ]
  },
  {
   "cell_type": "code",
   "execution_count": 118,
   "metadata": {},
   "outputs": [
    {
     "data": {
      "text/plain": [
       "<matplotlib.axes._subplots.AxesSubplot at 0x20e3c445a48>"
      ]
     },
     "execution_count": 118,
     "metadata": {},
     "output_type": "execute_result"
    },
    {
     "data": {
      "image/png": "[encoded data removed]",
      "text/plain": [
       "<Figure size 1440x1080 with 2 Axes>"
      ]
     },
     "metadata": {
      "needs_background": "light"
     },
     "output_type": "display_data"
    }
   ],
   "source": [
    "plt.figure(figsize=(20,15))\n",
    "sns.heatmap(data.corr())"
   ]
  },
  {
   "cell_type": "code",
   "execution_count": 101,
   "metadata": {},
   "outputs": [],
   "source": [
    "dropped_columns = [\"positive_ratings_log\",\"median_playtime_log\",\"negative_ratings_log\",\"estim_owners_log\",\"pos_rat_outliers\",\"neg_rat_outliers\",\"avg_playt_outliers\"\n",
    "                  ,\"med_playt_outliers\",\"game_age_outliers\"]"
   ]
  },
  {
   "cell_type": "code",
   "execution_count": 117,
   "metadata": {},
   "outputs": [],
   "source": [
    "data = data.drop(\"game_age_outliers\", axis=1)"
   ]
  },
  {
   "cell_type": "code",
   "execution_count": 119,
   "metadata": {},
   "outputs": [],
   "source": [
    "data = data.drop(\"name\", axis=1)"
   ]
  },
  {
   "cell_type": "code",
   "execution_count": 120,
   "metadata": {},
   "outputs": [
    {
     "data": {
      "text/plain": [
       "Index(['english', 'platforms_linux', 'platforms_mac', 'platforms_windows',\n",
       "       'req_age_3', 'req_age_7', 'req_age_12', 'req_age_16', 'req_age_18',\n",
       "       'categ_Co-op', 'categ_Controller', 'categ_Cross-Platform Multiplayer',\n",
       "       'categ_In-App Purchases', 'categ_Local Co-op',\n",
       "       'categ_Local Multi-Player', 'categ_Mods', 'categ_Multi-player',\n",
       "       'categ_Online Co-op'', 'categ_Online Multi-Player', 'categ_Other',\n",
       "       'categ_Shared/Split Screen', 'categ_Single-player', 'categ_VR',\n",
       "       'gen_Action', 'gen_Adventure', 'gen_Casual', 'gen_Free to Play',\n",
       "       'gen_Indie', 'gen_Massively Multiplayer', 'gen_Other', 'gen_RPG',\n",
       "       'gen_Racing', 'gen_Simulation', 'gen_Sports', 'gen_Strategy', 'reviews',\n",
       "       'achievements_log', 'tot_ratings_log', 'price_log',\n",
       "       'average_playtime_log', 'game_age_log', 'ach_outliers',\n",
       "       'tot_rat_outliers', 'price_outliers', 'est_own_outliers'],\n",
       "      dtype='object')"
      ]
     },
     "execution_count": 120,
     "metadata": {},
     "output_type": "execute_result"
    }
   ],
   "source": [
    "data.columns"
   ]
  },
  {
   "cell_type": "code",
   "execution_count": 121,
   "metadata": {},
   "outputs": [
    {
     "data": {
      "text/plain": [
       "(27075, 45)"
      ]
     },
     "execution_count": 121,
     "metadata": {},
     "output_type": "execute_result"
    }
   ],
   "source": [
    "data.shape"
   ]
  },
  {
   "cell_type": "code",
   "execution_count": 122,
   "metadata": {},
   "outputs": [],
   "source": [
    "data_clean = data.copy()"
   ]
  },
  {
   "cell_type": "code",
   "execution_count": 123,
   "metadata": {},
   "outputs": [
    {
     "data": {
      "text/html": [
       "<div>\n",
       "<style scoped>\n",
       "    .dataframe tbody tr th:only-of-type {\n",
       "        vertical-align: middle;\n",
       "    }\n",
       "\n",
       "    .dataframe tbody tr th {\n",
       "        vertical-align: top;\n",
       "    }\n",
       "\n",
       "    .dataframe thead th {\n",
       "        text-align: right;\n",
       "    }\n",
       "</style>\n",
       "<table border=\"1\" class=\"dataframe\">\n",
       "  <thead>\n",
       "    <tr style=\"text-align: right;\">\n",
       "      <th></th>\n",
       "      <th>english</th>\n",
       "      <th>platforms_linux</th>\n",
       "      <th>platforms_mac</th>\n",
       "      <th>platforms_windows</th>\n",
       "      <th>req_age_3</th>\n",
       "      <th>req_age_7</th>\n",
       "      <th>req_age_12</th>\n",
       "      <th>req_age_16</th>\n",
       "      <th>req_age_18</th>\n",
       "      <th>categ_Co-op</th>\n",
       "      <th>...</th>\n",
       "      <th>reviews</th>\n",
       "      <th>achievements_log</th>\n",
       "      <th>tot_ratings_log</th>\n",
       "      <th>price_log</th>\n",
       "      <th>average_playtime_log</th>\n",
       "      <th>game_age_log</th>\n",
       "      <th>ach_outliers</th>\n",
       "      <th>tot_rat_outliers</th>\n",
       "      <th>price_outliers</th>\n",
       "      <th>est_own_outliers</th>\n",
       "    </tr>\n",
       "  </thead>\n",
       "  <tbody>\n",
       "    <tr>\n",
       "      <td>0</td>\n",
       "      <td>1</td>\n",
       "      <td>1</td>\n",
       "      <td>1</td>\n",
       "      <td>1</td>\n",
       "      <td>0</td>\n",
       "      <td>0</td>\n",
       "      <td>0</td>\n",
       "      <td>0</td>\n",
       "      <td>0</td>\n",
       "      <td>0</td>\n",
       "      <td>...</td>\n",
       "      <td>1</td>\n",
       "      <td>0.000000</td>\n",
       "      <td>11.758793</td>\n",
       "      <td>2.102914</td>\n",
       "      <td>9.776393</td>\n",
       "      <td>2.944439</td>\n",
       "      <td>0</td>\n",
       "      <td>1</td>\n",
       "      <td>0</td>\n",
       "      <td>1</td>\n",
       "    </tr>\n",
       "    <tr>\n",
       "      <td>1</td>\n",
       "      <td>1</td>\n",
       "      <td>1</td>\n",
       "      <td>1</td>\n",
       "      <td>1</td>\n",
       "      <td>0</td>\n",
       "      <td>0</td>\n",
       "      <td>0</td>\n",
       "      <td>0</td>\n",
       "      <td>0</td>\n",
       "      <td>0</td>\n",
       "      <td>...</td>\n",
       "      <td>1</td>\n",
       "      <td>0.000000</td>\n",
       "      <td>8.281724</td>\n",
       "      <td>1.607436</td>\n",
       "      <td>5.627621</td>\n",
       "      <td>3.044522</td>\n",
       "      <td>0</td>\n",
       "      <td>0</td>\n",
       "      <td>0</td>\n",
       "      <td>1</td>\n",
       "    </tr>\n",
       "    <tr>\n",
       "      <td>2</td>\n",
       "      <td>1</td>\n",
       "      <td>1</td>\n",
       "      <td>1</td>\n",
       "      <td>1</td>\n",
       "      <td>0</td>\n",
       "      <td>0</td>\n",
       "      <td>0</td>\n",
       "      <td>0</td>\n",
       "      <td>0</td>\n",
       "      <td>0</td>\n",
       "      <td>...</td>\n",
       "      <td>1</td>\n",
       "      <td>0.000000</td>\n",
       "      <td>8.246434</td>\n",
       "      <td>1.607436</td>\n",
       "      <td>5.236442</td>\n",
       "      <td>2.833213</td>\n",
       "      <td>0</td>\n",
       "      <td>0</td>\n",
       "      <td>0</td>\n",
       "      <td>1</td>\n",
       "    </tr>\n",
       "    <tr>\n",
       "      <td>3</td>\n",
       "      <td>1</td>\n",
       "      <td>1</td>\n",
       "      <td>1</td>\n",
       "      <td>1</td>\n",
       "      <td>0</td>\n",
       "      <td>0</td>\n",
       "      <td>0</td>\n",
       "      <td>0</td>\n",
       "      <td>0</td>\n",
       "      <td>0</td>\n",
       "      <td>...</td>\n",
       "      <td>1</td>\n",
       "      <td>0.000000</td>\n",
       "      <td>7.339538</td>\n",
       "      <td>1.607436</td>\n",
       "      <td>5.556828</td>\n",
       "      <td>2.890372</td>\n",
       "      <td>0</td>\n",
       "      <td>0</td>\n",
       "      <td>0</td>\n",
       "      <td>1</td>\n",
       "    </tr>\n",
       "    <tr>\n",
       "      <td>4</td>\n",
       "      <td>1</td>\n",
       "      <td>1</td>\n",
       "      <td>1</td>\n",
       "      <td>1</td>\n",
       "      <td>0</td>\n",
       "      <td>0</td>\n",
       "      <td>0</td>\n",
       "      <td>0</td>\n",
       "      <td>0</td>\n",
       "      <td>0</td>\n",
       "      <td>...</td>\n",
       "      <td>1</td>\n",
       "      <td>0.000000</td>\n",
       "      <td>8.619389</td>\n",
       "      <td>1.607436</td>\n",
       "      <td>6.437752</td>\n",
       "      <td>2.995732</td>\n",
       "      <td>0</td>\n",
       "      <td>0</td>\n",
       "      <td>0</td>\n",
       "      <td>1</td>\n",
       "    </tr>\n",
       "    <tr>\n",
       "      <td>...</td>\n",
       "      <td>...</td>\n",
       "      <td>...</td>\n",
       "      <td>...</td>\n",
       "      <td>...</td>\n",
       "      <td>...</td>\n",
       "      <td>...</td>\n",
       "      <td>...</td>\n",
       "      <td>...</td>\n",
       "      <td>...</td>\n",
       "      <td>...</td>\n",
       "      <td>...</td>\n",
       "      <td>...</td>\n",
       "      <td>...</td>\n",
       "      <td>...</td>\n",
       "      <td>...</td>\n",
       "      <td>...</td>\n",
       "      <td>...</td>\n",
       "      <td>...</td>\n",
       "      <td>...</td>\n",
       "      <td>...</td>\n",
       "      <td>...</td>\n",
       "    </tr>\n",
       "    <tr>\n",
       "      <td>27070</td>\n",
       "      <td>1</td>\n",
       "      <td>0</td>\n",
       "      <td>0</td>\n",
       "      <td>1</td>\n",
       "      <td>0</td>\n",
       "      <td>0</td>\n",
       "      <td>0</td>\n",
       "      <td>0</td>\n",
       "      <td>0</td>\n",
       "      <td>0</td>\n",
       "      <td>...</td>\n",
       "      <td>1</td>\n",
       "      <td>2.079442</td>\n",
       "      <td>1.098612</td>\n",
       "      <td>1.128171</td>\n",
       "      <td>0.000000</td>\n",
       "      <td>0.000000</td>\n",
       "      <td>0</td>\n",
       "      <td>0</td>\n",
       "      <td>0</td>\n",
       "      <td>0</td>\n",
       "    </tr>\n",
       "    <tr>\n",
       "      <td>27071</td>\n",
       "      <td>1</td>\n",
       "      <td>0</td>\n",
       "      <td>0</td>\n",
       "      <td>1</td>\n",
       "      <td>0</td>\n",
       "      <td>0</td>\n",
       "      <td>0</td>\n",
       "      <td>0</td>\n",
       "      <td>0</td>\n",
       "      <td>0</td>\n",
       "      <td>...</td>\n",
       "      <td>1</td>\n",
       "      <td>0.000000</td>\n",
       "      <td>2.197225</td>\n",
       "      <td>0.989541</td>\n",
       "      <td>0.000000</td>\n",
       "      <td>0.000000</td>\n",
       "      <td>0</td>\n",
       "      <td>0</td>\n",
       "      <td>0</td>\n",
       "      <td>0</td>\n",
       "    </tr>\n",
       "    <tr>\n",
       "      <td>27072</td>\n",
       "      <td>1</td>\n",
       "      <td>0</td>\n",
       "      <td>0</td>\n",
       "      <td>1</td>\n",
       "      <td>0</td>\n",
       "      <td>0</td>\n",
       "      <td>0</td>\n",
       "      <td>0</td>\n",
       "      <td>0</td>\n",
       "      <td>1</td>\n",
       "      <td>...</td>\n",
       "      <td>0</td>\n",
       "      <td>3.218876</td>\n",
       "      <td>0.000000</td>\n",
       "      <td>1.607436</td>\n",
       "      <td>0.000000</td>\n",
       "      <td>0.000000</td>\n",
       "      <td>0</td>\n",
       "      <td>0</td>\n",
       "      <td>0</td>\n",
       "      <td>0</td>\n",
       "    </tr>\n",
       "    <tr>\n",
       "      <td>27073</td>\n",
       "      <td>1</td>\n",
       "      <td>0</td>\n",
       "      <td>1</td>\n",
       "      <td>1</td>\n",
       "      <td>0</td>\n",
       "      <td>0</td>\n",
       "      <td>0</td>\n",
       "      <td>0</td>\n",
       "      <td>0</td>\n",
       "      <td>0</td>\n",
       "      <td>...</td>\n",
       "      <td>1</td>\n",
       "      <td>0.000000</td>\n",
       "      <td>0.693147</td>\n",
       "      <td>1.822935</td>\n",
       "      <td>0.000000</td>\n",
       "      <td>0.000000</td>\n",
       "      <td>0</td>\n",
       "      <td>0</td>\n",
       "      <td>0</td>\n",
       "      <td>0</td>\n",
       "    </tr>\n",
       "    <tr>\n",
       "      <td>27074</td>\n",
       "      <td>1</td>\n",
       "      <td>0</td>\n",
       "      <td>1</td>\n",
       "      <td>1</td>\n",
       "      <td>0</td>\n",
       "      <td>0</td>\n",
       "      <td>0</td>\n",
       "      <td>0</td>\n",
       "      <td>0</td>\n",
       "      <td>0</td>\n",
       "      <td>...</td>\n",
       "      <td>1</td>\n",
       "      <td>0.000000</td>\n",
       "      <td>1.386294</td>\n",
       "      <td>1.822935</td>\n",
       "      <td>0.000000</td>\n",
       "      <td>0.000000</td>\n",
       "      <td>0</td>\n",
       "      <td>0</td>\n",
       "      <td>0</td>\n",
       "      <td>0</td>\n",
       "    </tr>\n",
       "  </tbody>\n",
       "</table>\n",
       "<p>27075 rows × 45 columns</p>\n",
       "</div>"
      ],
      "text/plain": [
       "       english  platforms_linux  platforms_mac  platforms_windows  req_age_3  \\\n",
       "0            1                1              1                  1          0   \n",
       "1            1                1              1                  1          0   \n",
       "2            1                1              1                  1          0   \n",
       "3            1                1              1                  1          0   \n",
       "4            1                1              1                  1          0   \n",
       "...        ...              ...            ...                ...        ...   \n",
       "27070        1                0              0                  1          0   \n",
       "27071        1                0              0                  1          0   \n",
       "27072        1                0              0                  1          0   \n",
       "27073        1                0              1                  1          0   \n",
       "27074        1                0              1                  1          0   \n",
       "\n",
       "       req_age_7  req_age_12  req_age_16  req_age_18  categ_Co-op  ...  \\\n",
       "0              0           0           0           0            0  ...   \n",
       "1              0           0           0           0            0  ...   \n",
       "2              0           0           0           0            0  ...   \n",
       "3              0           0           0           0            0  ...   \n",
       "4              0           0           0           0            0  ...   \n",
       "...          ...         ...         ...         ...          ...  ...   \n",
       "27070          0           0           0           0            0  ...   \n",
       "27071          0           0           0           0            0  ...   \n",
       "27072          0           0           0           0            1  ...   \n",
       "27073          0           0           0           0            0  ...   \n",
       "27074          0           0           0           0            0  ...   \n",
       "\n",
       "       reviews  achievements_log  tot_ratings_log  price_log  \\\n",
       "0            1          0.000000        11.758793   2.102914   \n",
       "1            1          0.000000         8.281724   1.607436   \n",
       "2            1          0.000000         8.246434   1.607436   \n",
       "3            1          0.000000         7.339538   1.607436   \n",
       "4            1          0.000000         8.619389   1.607436   \n",
       "...        ...               ...              ...        ...   \n",
       "27070        1          2.079442         1.098612   1.128171   \n",
       "27071        1          0.000000         2.197225   0.989541   \n",
       "27072        0          3.218876         0.000000   1.607436   \n",
       "27073        1          0.000000         0.693147   1.822935   \n",
       "27074        1          0.000000         1.386294   1.822935   \n",
       "\n",
       "       average_playtime_log  game_age_log  ach_outliers  tot_rat_outliers  \\\n",
       "0                  9.776393      2.944439             0                 1   \n",
       "1                  5.627621      3.044522             0                 0   \n",
       "2                  5.236442      2.833213             0                 0   \n",
       "3                  5.556828      2.890372             0                 0   \n",
       "4                  6.437752      2.995732             0                 0   \n",
       "...                     ...           ...           ...               ...   \n",
       "27070              0.000000      0.000000             0                 0   \n",
       "27071              0.000000      0.000000             0                 0   \n",
       "27072              0.000000      0.000000             0                 0   \n",
       "27073              0.000000      0.000000             0                 0   \n",
       "27074              0.000000      0.000000             0                 0   \n",
       "\n",
       "       price_outliers  est_own_outliers  \n",
       "0                   0                 1  \n",
       "1                   0                 1  \n",
       "2                   0                 1  \n",
       "3                   0                 1  \n",
       "4                   0                 1  \n",
       "...               ...               ...  \n",
       "27070               0                 0  \n",
       "27071               0                 0  \n",
       "27072               0                 0  \n",
       "27073               0                 0  \n",
       "27074               0                 0  \n",
       "\n",
       "[27075 rows x 45 columns]"
      ]
     },
     "execution_count": 123,
     "metadata": {},
     "output_type": "execute_result"
    }
   ],
   "source": [
    "data_clean"
   ]
  },
  {
   "cell_type": "code",
   "execution_count": 124,
   "metadata": {},
   "outputs": [
    {
     "data": {
      "text/plain": [
       "1    21923\n",
       "0     5152\n",
       "Name: reviews, dtype: int64"
      ]
     },
     "execution_count": 124,
     "metadata": {},
     "output_type": "execute_result"
    }
   ],
   "source": [
    "data_clean.reviews.value_counts()"
   ]
  },
  {
   "cell_type": "markdown",
   "metadata": {},
   "source": [
    "## MODELS (1st version with data_clean)"
   ]
  },
  {
   "cell_type": "markdown",
   "metadata": {},
   "source": [
    "### Train, test, split"
   ]
  },
  {
   "cell_type": "code",
   "execution_count": 117,
   "metadata": {},
   "outputs": [],
   "source": [
    "X_train, X_test, y_train, y_test = train_test_split(data_clean.drop(\"reviews\", axis=1),\n",
    "                                                   data_clean.reviews.astype(int),\n",
    "                                                   test_size=1/3,\n",
    "                                                   random_state=42,\n",
    "                                                   stratify=data_clean.reviews.astype(int))"
   ]
  },
  {
   "cell_type": "markdown",
   "metadata": {},
   "source": [
    "### Logitsic Regression"
   ]
  },
  {
   "cell_type": "code",
   "execution_count": 118,
   "metadata": {},
   "outputs": [
    {
     "name": "stderr",
     "output_type": "stream",
     "text": [
      "C:\\Users\\jeanb\\Anaconda3\\lib\\site-packages\\sklearn\\linear_model\\logistic.py:432: FutureWarning: Default solver will be changed to 'lbfgs' in 0.22. Specify a solver to silence this warning.\n",
      "  FutureWarning)\n"
     ]
    },
    {
     "name": "stdout",
     "output_type": "stream",
     "text": [
      "[[ 129 1588]\n",
      " [ 132 7176]]\n",
      "0.8094182825484765\n",
      "0.8188041989958923\n",
      "0.528534322571637\n"
     ]
    }
   ],
   "source": [
    "lr_1 = LogisticRegression()\n",
    "lr_1.fit(X_train, y_train)\n",
    "\n",
    "pred_lr_1 = lr_1.predict(X_test)\n",
    "\n",
    "cm_lr_1 = confusion_matrix(y_test, pred_lr_1)\n",
    "print(cm_lr_1)\n",
    "acc_lr_1 = accuracy_score(y_test, pred_lr_1)\n",
    "print(acc_lr_1)\n",
    "prec_lr_1 = precision_score(y_test, pred_lr_1)\n",
    "print(prec_lr_1)\n",
    "ras_lr_1 = roc_auc_score(y_test, pred_lr_1)\n",
    "print(ras_lr_1)"
   ]
  },
  {
   "cell_type": "markdown",
   "metadata": {},
   "source": [
    "### NuSVC (Nu Support Vector Machine/Classifier)"
   ]
  },
  {
   "cell_type": "code",
   "execution_count": 119,
   "metadata": {},
   "outputs": [
    {
     "name": "stderr",
     "output_type": "stream",
     "text": [
      "C:\\Users\\jeanb\\Anaconda3\\lib\\site-packages\\sklearn\\svm\\base.py:193: FutureWarning: The default value of gamma will change from 'auto' to 'scale' in version 0.22 to account better for unscaled features. Set gamma explicitly to 'auto' or 'scale' to avoid this warning.\n",
      "  \"avoid this warning.\", FutureWarning)\n"
     ]
    },
    {
     "name": "stdout",
     "output_type": "stream",
     "text": [
      "[[ 383 1334]\n",
      " [ 611 6697]]\n",
      "0.7844875346260388\n",
      "0.8338936620595193\n",
      "0.5697282383990354\n"
     ]
    }
   ],
   "source": [
    "nusvm_1 = NuSVC(nu=0.3)\n",
    "nusvm_1.fit(X_train, y_train)\n",
    "\n",
    "pred_nusvm_1 = nusvm_1.predict(X_test)\n",
    "\n",
    "cm_nusvm_1 = confusion_matrix(y_test, pred_nusvm_1)\n",
    "print(cm_nusvm_1)\n",
    "acc_nusvm_1 = accuracy_score(y_test, pred_nusvm_1)\n",
    "print(acc_nusvm_1)\n",
    "prec_nusvm_1 = precision_score(y_test, pred_nusvm_1)\n",
    "print(prec_nusvm_1)\n",
    "ras_nusvm_1 = roc_auc_score(y_test, pred_nusvm_1)\n",
    "print(ras_nusvm_1)"
   ]
  },
  {
   "cell_type": "markdown",
   "metadata": {},
   "source": [
    "### Random Forest"
   ]
  },
  {
   "cell_type": "code",
   "execution_count": 120,
   "metadata": {},
   "outputs": [
    {
     "name": "stderr",
     "output_type": "stream",
     "text": [
      "C:\\Users\\jeanb\\Anaconda3\\lib\\site-packages\\sklearn\\ensemble\\forest.py:245: FutureWarning: The default value of n_estimators will change from 10 in version 0.20 to 100 in 0.22.\n",
      "  \"10 in version 0.20 to 100 in 0.22.\", FutureWarning)\n"
     ]
    },
    {
     "name": "stdout",
     "output_type": "stream",
     "text": [
      "[[ 459 1258]\n",
      " [ 659 6649]]\n",
      "0.787590027700831\n",
      "0.8409004679398002\n",
      "0.5885757910766446\n"
     ]
    }
   ],
   "source": [
    "rf_1 = RandomForestClassifier()\n",
    "rf_1.fit(X_train, y_train)\n",
    "\n",
    "pred_rf_1 = rf_1.predict(X_test)\n",
    "\n",
    "cm_rf_1 = confusion_matrix(y_test, pred_rf_1)\n",
    "print(cm_rf_1)\n",
    "acc_rf_1 = accuracy_score(y_test, pred_rf_1)\n",
    "print(acc_rf_1)\n",
    "prec_rf_1 = precision_score(y_test, pred_rf_1)\n",
    "print(prec_rf_1)\n",
    "ras_rf_1 = roc_auc_score(y_test, pred_rf_1)\n",
    "print(ras_rf_1)"
   ]
  },
  {
   "cell_type": "markdown",
   "metadata": {},
   "source": [
    "### KNN (KNeighborsClassifier)"
   ]
  },
  {
   "cell_type": "code",
   "execution_count": 121,
   "metadata": {},
   "outputs": [
    {
     "name": "stdout",
     "output_type": "stream",
     "text": [
      "[[ 270 1447]\n",
      " [ 260 7048]]\n",
      "0.8108587257617729\n",
      "0.829664508534432\n",
      "0.5608367849245081\n"
     ]
    }
   ],
   "source": [
    "knn_1 = KNeighborsClassifier(n_neighbors=19, weights=\"distance\")\n",
    "knn_1.fit(X_train, y_train)\n",
    "\n",
    "pred_knn_1 = knn_1.predict(X_test)\n",
    "\n",
    "cm_knn_1 = confusion_matrix(y_test, pred_knn_1)\n",
    "print(cm_knn_1)\n",
    "acc_knn_1 = accuracy_score(y_test, pred_knn_1)\n",
    "print(acc_knn_1)\n",
    "prec_knn_1 = precision_score(y_test, pred_knn_1)\n",
    "print(prec_knn_1)\n",
    "ras_knn_1 = roc_auc_score(y_test, pred_knn_1)\n",
    "print(ras_knn_1)"
   ]
  },
  {
   "cell_type": "markdown",
   "metadata": {},
   "source": [
    "### RFE"
   ]
  },
  {
   "cell_type": "code",
   "execution_count": 125,
   "metadata": {},
   "outputs": [],
   "source": [
    "X = data_clean.drop(\"reviews\", axis=1)\n",
    "y = data_clean.reviews"
   ]
  },
  {
   "cell_type": "code",
   "execution_count": 126,
   "metadata": {},
   "outputs": [],
   "source": [
    "estimator = LinearRegression()"
   ]
  },
  {
   "cell_type": "code",
   "execution_count": 127,
   "metadata": {},
   "outputs": [],
   "source": [
    "selector = RFE(estimator)"
   ]
  },
  {
   "cell_type": "code",
   "execution_count": 128,
   "metadata": {},
   "outputs": [
    {
     "data": {
      "text/plain": [
       "RFE(estimator=LinearRegression(copy_X=True, fit_intercept=True, n_jobs=None,\n",
       "                               normalize=False),\n",
       "    n_features_to_select=None, step=1, verbose=0)"
      ]
     },
     "execution_count": 128,
     "metadata": {},
     "output_type": "execute_result"
    }
   ],
   "source": [
    "selector.fit(X,y)"
   ]
  },
  {
   "cell_type": "code",
   "execution_count": 129,
   "metadata": {},
   "outputs": [],
   "source": [
    "rfe_select = list(X.columns[selector.support_])"
   ]
  },
  {
   "cell_type": "code",
   "execution_count": 130,
   "metadata": {},
   "outputs": [
    {
     "data": {
      "text/plain": [
       "['english',\n",
       " 'platforms_linux',\n",
       " 'platforms_mac',\n",
       " 'platforms_windows',\n",
       " 'req_age_3',\n",
       " 'req_age_12',\n",
       " 'req_age_16',\n",
       " 'req_age_18',\n",
       " 'categ_Controller',\n",
       " 'categ_In-App Purchases',\n",
       " 'categ_Local Multi-Player',\n",
       " 'categ_Shared/Split Screen',\n",
       " 'gen_Action',\n",
       " 'gen_Free to Play',\n",
       " 'gen_Massively Multiplayer',\n",
       " 'gen_Racing',\n",
       " 'gen_Simulation',\n",
       " 'tot_ratings_log',\n",
       " 'game_age_log',\n",
       " 'tot_rat_outliers',\n",
       " 'price_outliers',\n",
       " 'est_own_outliers']"
      ]
     },
     "execution_count": 130,
     "metadata": {},
     "output_type": "execute_result"
    }
   ],
   "source": [
    "rfe_select"
   ]
  },
  {
   "cell_type": "code",
   "execution_count": 131,
   "metadata": {},
   "outputs": [],
   "source": [
    "data_clean2 = data_clean[rfe_select]"
   ]
  },
  {
   "cell_type": "code",
   "execution_count": 132,
   "metadata": {},
   "outputs": [
    {
     "name": "stderr",
     "output_type": "stream",
     "text": [
      "C:\\Users\\jeanb\\Anaconda3\\lib\\site-packages\\ipykernel_launcher.py:1: SettingWithCopyWarning: \n",
      "A value is trying to be set on a copy of a slice from a DataFrame.\n",
      "Try using .loc[row_indexer,col_indexer] = value instead\n",
      "\n",
      "See the caveats in the documentation: http://pandas.pydata.org/pandas-docs/stable/user_guide/indexing.html#returning-a-view-versus-a-copy\n",
      "  \"\"\"Entry point for launching an IPython kernel.\n"
     ]
    }
   ],
   "source": [
    "data_clean2[\"reviews\"] = data_clean.reviews"
   ]
  },
  {
   "cell_type": "code",
   "execution_count": 133,
   "metadata": {},
   "outputs": [
    {
     "data": {
      "text/plain": [
       "Index(['english', 'platforms_linux', 'platforms_mac', 'platforms_windows',\n",
       "       'req_age_3', 'req_age_12', 'req_age_16', 'req_age_18',\n",
       "       'categ_Controller', 'categ_In-App Purchases',\n",
       "       'categ_Local Multi-Player', 'categ_Shared/Split Screen', 'gen_Action',\n",
       "       'gen_Free to Play', 'gen_Massively Multiplayer', 'gen_Racing',\n",
       "       'gen_Simulation', 'tot_ratings_log', 'game_age_log', 'tot_rat_outliers',\n",
       "       'price_outliers', 'est_own_outliers', 'reviews'],\n",
       "      dtype='object')"
      ]
     },
     "execution_count": 133,
     "metadata": {},
     "output_type": "execute_result"
    }
   ],
   "source": [
    "data_clean2.columns"
   ]
  },
  {
   "cell_type": "code",
   "execution_count": null,
   "metadata": {},
   "outputs": [],
   "source": []
  },
  {
   "cell_type": "markdown",
   "metadata": {},
   "source": [
    "## MODELS (2nd version with data_clean2, RFE)"
   ]
  },
  {
   "cell_type": "markdown",
   "metadata": {},
   "source": [
    "### Train, test, split"
   ]
  },
  {
   "cell_type": "code",
   "execution_count": 132,
   "metadata": {},
   "outputs": [],
   "source": [
    "X_train, X_test, y_train, y_test = train_test_split(data_clean2.drop(\"reviews\", axis=1),\n",
    "                                                   data_clean2.reviews.astype(int),\n",
    "                                                   test_size=1/3,\n",
    "                                                   random_state=42,\n",
    "                                                   stratify=data_clean2.reviews.astype(int))"
   ]
  },
  {
   "cell_type": "markdown",
   "metadata": {},
   "source": [
    "### Logitsic Regression"
   ]
  },
  {
   "cell_type": "code",
   "execution_count": 133,
   "metadata": {},
   "outputs": [
    {
     "name": "stdout",
     "output_type": "stream",
     "text": [
      "[[  91 1626]\n",
      " [  86 7222]]\n",
      "0.8103047091412743\n",
      "0.8162296564195298\n",
      "0.5206157460138944\n"
     ]
    },
    {
     "name": "stderr",
     "output_type": "stream",
     "text": [
      "C:\\Users\\jeanb\\Anaconda3\\lib\\site-packages\\sklearn\\linear_model\\logistic.py:432: FutureWarning: Default solver will be changed to 'lbfgs' in 0.22. Specify a solver to silence this warning.\n",
      "  FutureWarning)\n"
     ]
    }
   ],
   "source": [
    "lr_2 = LogisticRegression()\n",
    "lr_2.fit(X_train, y_train)\n",
    "\n",
    "pred_lr_2 = lr_2.predict(X_test)\n",
    "\n",
    "cm_lr_2 = confusion_matrix(y_test, pred_lr_2)\n",
    "print(cm_lr_2)\n",
    "acc_lr_2 = accuracy_score(y_test, pred_lr_2)\n",
    "print(acc_lr_2)\n",
    "prec_lr_2 = precision_score(y_test, pred_lr_2)\n",
    "print(prec_lr_2)\n",
    "ras_lr_2 = roc_auc_score(y_test, pred_lr_2)\n",
    "print(ras_lr_2)"
   ]
  },
  {
   "cell_type": "markdown",
   "metadata": {},
   "source": [
    "### NuSVC (Nu Support Vector Machine/Classifier)"
   ]
  },
  {
   "cell_type": "code",
   "execution_count": 134,
   "metadata": {},
   "outputs": [
    {
     "name": "stderr",
     "output_type": "stream",
     "text": [
      "C:\\Users\\jeanb\\Anaconda3\\lib\\site-packages\\sklearn\\svm\\base.py:193: FutureWarning: The default value of gamma will change from 'auto' to 'scale' in version 0.22 to account better for unscaled features. Set gamma explicitly to 'auto' or 'scale' to avoid this warning.\n",
      "  \"avoid this warning.\", FutureWarning)\n"
     ]
    },
    {
     "name": "stdout",
     "output_type": "stream",
     "text": [
      "[[ 584 1133]\n",
      " [1827 5481]]\n",
      "0.6720221606648199\n",
      "0.8286967039612942\n",
      "0.5450640652300525\n"
     ]
    }
   ],
   "source": [
    "nusvm_2 = NuSVC(nu=0.3)\n",
    "nusvm_2.fit(X_train, y_train)\n",
    "\n",
    "pred_nusvm_2 = nusvm_2.predict(X_test)\n",
    "\n",
    "cm_nusvm_2 = confusion_matrix(y_test, pred_nusvm_2)\n",
    "print(cm_nusvm_2)\n",
    "acc_nusvm_2 = accuracy_score(y_test, pred_nusvm_2)\n",
    "print(acc_nusvm_2)\n",
    "prec_nusvm_2 = precision_score(y_test, pred_nusvm_2)\n",
    "print(prec_nusvm_2)\n",
    "ras_nusvm_2 = roc_auc_score(y_test, pred_nusvm_2)\n",
    "print(ras_nusvm_2)"
   ]
  },
  {
   "cell_type": "markdown",
   "metadata": {},
   "source": [
    "### Random Forest"
   ]
  },
  {
   "cell_type": "code",
   "execution_count": 135,
   "metadata": {},
   "outputs": [
    {
     "name": "stderr",
     "output_type": "stream",
     "text": [
      "C:\\Users\\jeanb\\Anaconda3\\lib\\site-packages\\sklearn\\ensemble\\forest.py:245: FutureWarning: The default value of n_estimators will change from 10 in version 0.20 to 100 in 0.22.\n",
      "  \"10 in version 0.20 to 100 in 0.22.\", FutureWarning)\n"
     ]
    },
    {
     "name": "stdout",
     "output_type": "stream",
     "text": [
      "[[ 376 1341]\n",
      " [ 717 6591]]\n",
      "0.7719667590027701\n",
      "0.8309379727685325\n",
      "0.5604374730431606\n"
     ]
    }
   ],
   "source": [
    "rf_2 = RandomForestClassifier()\n",
    "rf_2.fit(X_train, y_train)\n",
    "\n",
    "pred_rf_2 = rf_2.predict(X_test)\n",
    "\n",
    "cm_rf_2 = confusion_matrix(y_test, pred_rf_2)\n",
    "print(cm_rf_2)\n",
    "acc_rf_2 = accuracy_score(y_test, pred_rf_2)\n",
    "print(acc_rf_2)\n",
    "prec_rf_2 = precision_score(y_test, pred_rf_2)\n",
    "print(prec_rf_2)\n",
    "ras_rf_2 = roc_auc_score(y_test, pred_rf_2)\n",
    "print(ras_rf_2)"
   ]
  },
  {
   "cell_type": "markdown",
   "metadata": {},
   "source": [
    "### KNN (KNeighborsClassifier)"
   ]
  },
  {
   "cell_type": "code",
   "execution_count": 136,
   "metadata": {},
   "outputs": [
    {
     "name": "stdout",
     "output_type": "stream",
     "text": [
      "[[ 339 1378]\n",
      " [ 584 6724]]\n",
      "0.7826038781163435\n",
      "0.8299185386324365\n",
      "0.5587624830289462\n"
     ]
    }
   ],
   "source": [
    "knn_2 = KNeighborsClassifier(n_neighbors=19, weights=\"distance\")\n",
    "knn_2.fit(X_train, y_train)\n",
    "\n",
    "pred_knn_2 = knn_2.predict(X_test)\n",
    "\n",
    "cm_knn_2 = confusion_matrix(y_test, pred_knn_2)\n",
    "print(cm_knn_2)\n",
    "acc_knn_2 = accuracy_score(y_test, pred_knn_2)\n",
    "print(acc_knn_2)\n",
    "prec_knn_2 = precision_score(y_test, pred_knn_2)\n",
    "print(prec_knn_2)\n",
    "ras_knn_2 = roc_auc_score(y_test, pred_knn_2)\n",
    "print(ras_knn_2)"
   ]
  },
  {
   "cell_type": "markdown",
   "metadata": {},
   "source": [
    "### Scaling"
   ]
  },
  {
   "cell_type": "code",
   "execution_count": 134,
   "metadata": {},
   "outputs": [],
   "source": [
    "X_to_scale = data_clean2.drop(\"reviews\", axis=1)"
   ]
  },
  {
   "cell_type": "code",
   "execution_count": 135,
   "metadata": {},
   "outputs": [],
   "source": [
    "scaler = StandardScaler()\n",
    "scaler.fit(X_to_scale)\n",
    "data_clean3 = pd.DataFrame(scaler.transform(X_to_scale), columns=X_to_scale.columns)"
   ]
  },
  {
   "cell_type": "code",
   "execution_count": 137,
   "metadata": {},
   "outputs": [],
   "source": [
    "data_clean3[\"reviews\"] = data_clean2.reviews"
   ]
  },
  {
   "cell_type": "code",
   "execution_count": 138,
   "metadata": {},
   "outputs": [
    {
     "data": {
      "text/html": [
       "<div>\n",
       "<style scoped>\n",
       "    .dataframe tbody tr th:only-of-type {\n",
       "        vertical-align: middle;\n",
       "    }\n",
       "\n",
       "    .dataframe tbody tr th {\n",
       "        vertical-align: top;\n",
       "    }\n",
       "\n",
       "    .dataframe thead th {\n",
       "        text-align: right;\n",
       "    }\n",
       "</style>\n",
       "<table border=\"1\" class=\"dataframe\">\n",
       "  <thead>\n",
       "    <tr style=\"text-align: right;\">\n",
       "      <th></th>\n",
       "      <th>english</th>\n",
       "      <th>platforms_linux</th>\n",
       "      <th>platforms_mac</th>\n",
       "      <th>platforms_windows</th>\n",
       "      <th>req_age_3</th>\n",
       "      <th>req_age_12</th>\n",
       "      <th>req_age_16</th>\n",
       "      <th>req_age_18</th>\n",
       "      <th>categ_Controller</th>\n",
       "      <th>categ_In-App Purchases</th>\n",
       "      <th>...</th>\n",
       "      <th>gen_Free to Play</th>\n",
       "      <th>gen_Massively Multiplayer</th>\n",
       "      <th>gen_Racing</th>\n",
       "      <th>gen_Simulation</th>\n",
       "      <th>tot_ratings_log</th>\n",
       "      <th>game_age_log</th>\n",
       "      <th>tot_rat_outliers</th>\n",
       "      <th>price_outliers</th>\n",
       "      <th>est_own_outliers</th>\n",
       "      <th>reviews</th>\n",
       "    </tr>\n",
       "  </thead>\n",
       "  <tbody>\n",
       "    <tr>\n",
       "      <td>0</td>\n",
       "      <td>1</td>\n",
       "      <td>1</td>\n",
       "      <td>1</td>\n",
       "      <td>1</td>\n",
       "      <td>0</td>\n",
       "      <td>0</td>\n",
       "      <td>0</td>\n",
       "      <td>0</td>\n",
       "      <td>0</td>\n",
       "      <td>0</td>\n",
       "      <td>...</td>\n",
       "      <td>0</td>\n",
       "      <td>0</td>\n",
       "      <td>0</td>\n",
       "      <td>0</td>\n",
       "      <td>11.758793</td>\n",
       "      <td>2.944439</td>\n",
       "      <td>1</td>\n",
       "      <td>0</td>\n",
       "      <td>1</td>\n",
       "      <td>1</td>\n",
       "    </tr>\n",
       "    <tr>\n",
       "      <td>1</td>\n",
       "      <td>1</td>\n",
       "      <td>1</td>\n",
       "      <td>1</td>\n",
       "      <td>1</td>\n",
       "      <td>0</td>\n",
       "      <td>0</td>\n",
       "      <td>0</td>\n",
       "      <td>0</td>\n",
       "      <td>0</td>\n",
       "      <td>0</td>\n",
       "      <td>...</td>\n",
       "      <td>0</td>\n",
       "      <td>0</td>\n",
       "      <td>0</td>\n",
       "      <td>0</td>\n",
       "      <td>8.281724</td>\n",
       "      <td>3.044522</td>\n",
       "      <td>0</td>\n",
       "      <td>0</td>\n",
       "      <td>1</td>\n",
       "      <td>1</td>\n",
       "    </tr>\n",
       "    <tr>\n",
       "      <td>2</td>\n",
       "      <td>1</td>\n",
       "      <td>1</td>\n",
       "      <td>1</td>\n",
       "      <td>1</td>\n",
       "      <td>0</td>\n",
       "      <td>0</td>\n",
       "      <td>0</td>\n",
       "      <td>0</td>\n",
       "      <td>0</td>\n",
       "      <td>0</td>\n",
       "      <td>...</td>\n",
       "      <td>0</td>\n",
       "      <td>0</td>\n",
       "      <td>0</td>\n",
       "      <td>0</td>\n",
       "      <td>8.246434</td>\n",
       "      <td>2.833213</td>\n",
       "      <td>0</td>\n",
       "      <td>0</td>\n",
       "      <td>1</td>\n",
       "      <td>1</td>\n",
       "    </tr>\n",
       "    <tr>\n",
       "      <td>3</td>\n",
       "      <td>1</td>\n",
       "      <td>1</td>\n",
       "      <td>1</td>\n",
       "      <td>1</td>\n",
       "      <td>0</td>\n",
       "      <td>0</td>\n",
       "      <td>0</td>\n",
       "      <td>0</td>\n",
       "      <td>0</td>\n",
       "      <td>0</td>\n",
       "      <td>...</td>\n",
       "      <td>0</td>\n",
       "      <td>0</td>\n",
       "      <td>0</td>\n",
       "      <td>0</td>\n",
       "      <td>7.339538</td>\n",
       "      <td>2.890372</td>\n",
       "      <td>0</td>\n",
       "      <td>0</td>\n",
       "      <td>1</td>\n",
       "      <td>1</td>\n",
       "    </tr>\n",
       "    <tr>\n",
       "      <td>4</td>\n",
       "      <td>1</td>\n",
       "      <td>1</td>\n",
       "      <td>1</td>\n",
       "      <td>1</td>\n",
       "      <td>0</td>\n",
       "      <td>0</td>\n",
       "      <td>0</td>\n",
       "      <td>0</td>\n",
       "      <td>0</td>\n",
       "      <td>0</td>\n",
       "      <td>...</td>\n",
       "      <td>0</td>\n",
       "      <td>0</td>\n",
       "      <td>0</td>\n",
       "      <td>0</td>\n",
       "      <td>8.619389</td>\n",
       "      <td>2.995732</td>\n",
       "      <td>0</td>\n",
       "      <td>0</td>\n",
       "      <td>1</td>\n",
       "      <td>1</td>\n",
       "    </tr>\n",
       "  </tbody>\n",
       "</table>\n",
       "<p>5 rows × 23 columns</p>\n",
       "</div>"
      ],
      "text/plain": [
       "   english  platforms_linux  platforms_mac  platforms_windows  req_age_3  \\\n",
       "0        1                1              1                  1          0   \n",
       "1        1                1              1                  1          0   \n",
       "2        1                1              1                  1          0   \n",
       "3        1                1              1                  1          0   \n",
       "4        1                1              1                  1          0   \n",
       "\n",
       "   req_age_12  req_age_16  req_age_18  categ_Controller  \\\n",
       "0           0           0           0                 0   \n",
       "1           0           0           0                 0   \n",
       "2           0           0           0                 0   \n",
       "3           0           0           0                 0   \n",
       "4           0           0           0                 0   \n",
       "\n",
       "   categ_In-App Purchases  ...  gen_Free to Play  gen_Massively Multiplayer  \\\n",
       "0                       0  ...                 0                          0   \n",
       "1                       0  ...                 0                          0   \n",
       "2                       0  ...                 0                          0   \n",
       "3                       0  ...                 0                          0   \n",
       "4                       0  ...                 0                          0   \n",
       "\n",
       "   gen_Racing  gen_Simulation  tot_ratings_log  game_age_log  \\\n",
       "0           0               0        11.758793      2.944439   \n",
       "1           0               0         8.281724      3.044522   \n",
       "2           0               0         8.246434      2.833213   \n",
       "3           0               0         7.339538      2.890372   \n",
       "4           0               0         8.619389      2.995732   \n",
       "\n",
       "   tot_rat_outliers  price_outliers  est_own_outliers  reviews  \n",
       "0                 1               0                 1        1  \n",
       "1                 0               0                 1        1  \n",
       "2                 0               0                 1        1  \n",
       "3                 0               0                 1        1  \n",
       "4                 0               0                 1        1  \n",
       "\n",
       "[5 rows x 23 columns]"
      ]
     },
     "execution_count": 138,
     "metadata": {},
     "output_type": "execute_result"
    }
   ],
   "source": [
    "data_clean2.head()"
   ]
  },
  {
   "cell_type": "code",
   "execution_count": 139,
   "metadata": {},
   "outputs": [
    {
     "data": {
      "text/html": [
       "<div>\n",
       "<style scoped>\n",
       "    .dataframe tbody tr th:only-of-type {\n",
       "        vertical-align: middle;\n",
       "    }\n",
       "\n",
       "    .dataframe tbody tr th {\n",
       "        vertical-align: top;\n",
       "    }\n",
       "\n",
       "    .dataframe thead th {\n",
       "        text-align: right;\n",
       "    }\n",
       "</style>\n",
       "<table border=\"1\" class=\"dataframe\">\n",
       "  <thead>\n",
       "    <tr style=\"text-align: right;\">\n",
       "      <th></th>\n",
       "      <th>english</th>\n",
       "      <th>platforms_linux</th>\n",
       "      <th>platforms_mac</th>\n",
       "      <th>platforms_windows</th>\n",
       "      <th>req_age_3</th>\n",
       "      <th>req_age_12</th>\n",
       "      <th>req_age_16</th>\n",
       "      <th>req_age_18</th>\n",
       "      <th>categ_Controller</th>\n",
       "      <th>categ_In-App Purchases</th>\n",
       "      <th>...</th>\n",
       "      <th>gen_Free to Play</th>\n",
       "      <th>gen_Massively Multiplayer</th>\n",
       "      <th>gen_Racing</th>\n",
       "      <th>gen_Simulation</th>\n",
       "      <th>tot_ratings_log</th>\n",
       "      <th>game_age_log</th>\n",
       "      <th>tot_rat_outliers</th>\n",
       "      <th>price_outliers</th>\n",
       "      <th>est_own_outliers</th>\n",
       "      <th>reviews</th>\n",
       "    </tr>\n",
       "  </thead>\n",
       "  <tbody>\n",
       "    <tr>\n",
       "      <td>0</td>\n",
       "      <td>0.138696</td>\n",
       "      <td>2.042528</td>\n",
       "      <td>1.535149</td>\n",
       "      <td>0.013591</td>\n",
       "      <td>-0.02016</td>\n",
       "      <td>-0.051995</td>\n",
       "      <td>-0.084511</td>\n",
       "      <td>-0.107269</td>\n",
       "      <td>-0.760069</td>\n",
       "      <td>-0.161713</td>\n",
       "      <td>...</td>\n",
       "      <td>-0.259159</td>\n",
       "      <td>-0.165639</td>\n",
       "      <td>-0.198261</td>\n",
       "      <td>-0.487211</td>\n",
       "      <td>3.625781</td>\n",
       "      <td>3.247646</td>\n",
       "      <td>8.348168</td>\n",
       "      <td>-0.064161</td>\n",
       "      <td>3.251993</td>\n",
       "      <td>1</td>\n",
       "    </tr>\n",
       "    <tr>\n",
       "      <td>1</td>\n",
       "      <td>0.138696</td>\n",
       "      <td>2.042528</td>\n",
       "      <td>1.535149</td>\n",
       "      <td>0.013591</td>\n",
       "      <td>-0.02016</td>\n",
       "      <td>-0.051995</td>\n",
       "      <td>-0.084511</td>\n",
       "      <td>-0.107269</td>\n",
       "      <td>-0.760069</td>\n",
       "      <td>-0.161713</td>\n",
       "      <td>...</td>\n",
       "      <td>-0.259159</td>\n",
       "      <td>-0.165639</td>\n",
       "      <td>-0.198261</td>\n",
       "      <td>-0.487211</td>\n",
       "      <td>2.033940</td>\n",
       "      <td>3.401914</td>\n",
       "      <td>-0.119787</td>\n",
       "      <td>-0.064161</td>\n",
       "      <td>3.251993</td>\n",
       "      <td>1</td>\n",
       "    </tr>\n",
       "    <tr>\n",
       "      <td>2</td>\n",
       "      <td>0.138696</td>\n",
       "      <td>2.042528</td>\n",
       "      <td>1.535149</td>\n",
       "      <td>0.013591</td>\n",
       "      <td>-0.02016</td>\n",
       "      <td>-0.051995</td>\n",
       "      <td>-0.084511</td>\n",
       "      <td>-0.107269</td>\n",
       "      <td>-0.760069</td>\n",
       "      <td>-0.161713</td>\n",
       "      <td>...</td>\n",
       "      <td>-0.259159</td>\n",
       "      <td>-0.165639</td>\n",
       "      <td>-0.198261</td>\n",
       "      <td>-0.487211</td>\n",
       "      <td>2.017784</td>\n",
       "      <td>3.076204</td>\n",
       "      <td>-0.119787</td>\n",
       "      <td>-0.064161</td>\n",
       "      <td>3.251993</td>\n",
       "      <td>1</td>\n",
       "    </tr>\n",
       "    <tr>\n",
       "      <td>3</td>\n",
       "      <td>0.138696</td>\n",
       "      <td>2.042528</td>\n",
       "      <td>1.535149</td>\n",
       "      <td>0.013591</td>\n",
       "      <td>-0.02016</td>\n",
       "      <td>-0.051995</td>\n",
       "      <td>-0.084511</td>\n",
       "      <td>-0.107269</td>\n",
       "      <td>-0.760069</td>\n",
       "      <td>-0.161713</td>\n",
       "      <td>...</td>\n",
       "      <td>-0.259159</td>\n",
       "      <td>-0.165639</td>\n",
       "      <td>-0.198261</td>\n",
       "      <td>-0.487211</td>\n",
       "      <td>1.602597</td>\n",
       "      <td>3.164307</td>\n",
       "      <td>-0.119787</td>\n",
       "      <td>-0.064161</td>\n",
       "      <td>3.251993</td>\n",
       "      <td>1</td>\n",
       "    </tr>\n",
       "    <tr>\n",
       "      <td>4</td>\n",
       "      <td>0.138696</td>\n",
       "      <td>2.042528</td>\n",
       "      <td>1.535149</td>\n",
       "      <td>0.013591</td>\n",
       "      <td>-0.02016</td>\n",
       "      <td>-0.051995</td>\n",
       "      <td>-0.084511</td>\n",
       "      <td>-0.107269</td>\n",
       "      <td>-0.760069</td>\n",
       "      <td>-0.161713</td>\n",
       "      <td>...</td>\n",
       "      <td>-0.259159</td>\n",
       "      <td>-0.165639</td>\n",
       "      <td>-0.198261</td>\n",
       "      <td>-0.487211</td>\n",
       "      <td>2.188527</td>\n",
       "      <td>3.326709</td>\n",
       "      <td>-0.119787</td>\n",
       "      <td>-0.064161</td>\n",
       "      <td>3.251993</td>\n",
       "      <td>1</td>\n",
       "    </tr>\n",
       "  </tbody>\n",
       "</table>\n",
       "<p>5 rows × 23 columns</p>\n",
       "</div>"
      ],
      "text/plain": [
       "    english  platforms_linux  platforms_mac  platforms_windows  req_age_3  \\\n",
       "0  0.138696         2.042528       1.535149           0.013591   -0.02016   \n",
       "1  0.138696         2.042528       1.535149           0.013591   -0.02016   \n",
       "2  0.138696         2.042528       1.535149           0.013591   -0.02016   \n",
       "3  0.138696         2.042528       1.535149           0.013591   -0.02016   \n",
       "4  0.138696         2.042528       1.535149           0.013591   -0.02016   \n",
       "\n",
       "   req_age_12  req_age_16  req_age_18  categ_Controller  \\\n",
       "0   -0.051995   -0.084511   -0.107269         -0.760069   \n",
       "1   -0.051995   -0.084511   -0.107269         -0.760069   \n",
       "2   -0.051995   -0.084511   -0.107269         -0.760069   \n",
       "3   -0.051995   -0.084511   -0.107269         -0.760069   \n",
       "4   -0.051995   -0.084511   -0.107269         -0.760069   \n",
       "\n",
       "   categ_In-App Purchases  ...  gen_Free to Play  gen_Massively Multiplayer  \\\n",
       "0               -0.161713  ...         -0.259159                  -0.165639   \n",
       "1               -0.161713  ...         -0.259159                  -0.165639   \n",
       "2               -0.161713  ...         -0.259159                  -0.165639   \n",
       "3               -0.161713  ...         -0.259159                  -0.165639   \n",
       "4               -0.161713  ...         -0.259159                  -0.165639   \n",
       "\n",
       "   gen_Racing  gen_Simulation  tot_ratings_log  game_age_log  \\\n",
       "0   -0.198261       -0.487211         3.625781      3.247646   \n",
       "1   -0.198261       -0.487211         2.033940      3.401914   \n",
       "2   -0.198261       -0.487211         2.017784      3.076204   \n",
       "3   -0.198261       -0.487211         1.602597      3.164307   \n",
       "4   -0.198261       -0.487211         2.188527      3.326709   \n",
       "\n",
       "   tot_rat_outliers  price_outliers  est_own_outliers  reviews  \n",
       "0          8.348168       -0.064161          3.251993        1  \n",
       "1         -0.119787       -0.064161          3.251993        1  \n",
       "2         -0.119787       -0.064161          3.251993        1  \n",
       "3         -0.119787       -0.064161          3.251993        1  \n",
       "4         -0.119787       -0.064161          3.251993        1  \n",
       "\n",
       "[5 rows x 23 columns]"
      ]
     },
     "execution_count": 139,
     "metadata": {},
     "output_type": "execute_result"
    }
   ],
   "source": [
    "data_clean3.head()"
   ]
  },
  {
   "cell_type": "markdown",
   "metadata": {},
   "source": [
    "## MODELS (3rd version with data_clean2, RFE and scaling)"
   ]
  },
  {
   "cell_type": "markdown",
   "metadata": {},
   "source": [
    "### Train, test, split"
   ]
  },
  {
   "cell_type": "code",
   "execution_count": 140,
   "metadata": {},
   "outputs": [],
   "source": [
    "X_train, X_test, y_train, y_test = train_test_split(data_clean3.drop(\"reviews\", axis=1),\n",
    "                                                   data_clean3.reviews.astype(int),\n",
    "                                                   test_size=1/3,\n",
    "                                                   random_state=42,\n",
    "                                                   stratify=data_clean3.reviews.astype(int))"
   ]
  },
  {
   "cell_type": "markdown",
   "metadata": {},
   "source": [
    "### Logitsic Regression"
   ]
  },
  {
   "cell_type": "code",
   "execution_count": 141,
   "metadata": {},
   "outputs": [
    {
     "name": "stderr",
     "output_type": "stream",
     "text": [
      "C:\\Users\\jeanb\\Anaconda3\\lib\\site-packages\\sklearn\\linear_model\\logistic.py:432: FutureWarning: Default solver will be changed to 'lbfgs' in 0.22. Specify a solver to silence this warning.\n",
      "  FutureWarning)\n"
     ]
    },
    {
     "name": "stdout",
     "output_type": "stream",
     "text": [
      "[[  91 1626]\n",
      " [  87 7221]]\n",
      "0.8101939058171745\n",
      "0.8162088843675822\n",
      "0.5205473278420278\n"
     ]
    }
   ],
   "source": [
    "lr_3 = LogisticRegression()\n",
    "lr_3.fit(X_train, y_train)\n",
    "\n",
    "pred_lr_3 = lr_3.predict(X_test)\n",
    "\n",
    "cm_lr_3 = confusion_matrix(y_test, pred_lr_3)\n",
    "print(cm_lr_3)\n",
    "acc_lr_3 = accuracy_score(y_test, pred_lr_3)\n",
    "print(acc_lr_3)\n",
    "prec_lr_3 = precision_score(y_test, pred_lr_3)\n",
    "print(prec_lr_3)\n",
    "ras_lr_3 = roc_auc_score(y_test, pred_lr_3)\n",
    "print(ras_lr_3)"
   ]
  },
  {
   "cell_type": "markdown",
   "metadata": {},
   "source": [
    "### NuSVC (Nu Support Vector Machine/Classifier)"
   ]
  },
  {
   "cell_type": "code",
   "execution_count": 142,
   "metadata": {},
   "outputs": [
    {
     "name": "stderr",
     "output_type": "stream",
     "text": [
      "C:\\Users\\jeanb\\Anaconda3\\lib\\site-packages\\sklearn\\svm\\base.py:193: FutureWarning: The default value of gamma will change from 'auto' to 'scale' in version 0.22 to account better for unscaled features. Set gamma explicitly to 'auto' or 'scale' to avoid this warning.\n",
      "  \"avoid this warning.\", FutureWarning)\n"
     ]
    },
    {
     "name": "stdout",
     "output_type": "stream",
     "text": [
      "[[ 203 1514]\n",
      " [ 506 6802]]\n",
      "0.7761772853185596\n",
      "0.817941317941318\n",
      "0.5244951400384895\n"
     ]
    }
   ],
   "source": [
    "nusvm_3 = NuSVC(nu=0.3)\n",
    "nusvm_3.fit(X_train, y_train)\n",
    "\n",
    "pred_nusvm_3 = nusvm_3.predict(X_test)\n",
    "\n",
    "cm_nusvm_3 = confusion_matrix(y_test, pred_nusvm_3)\n",
    "print(cm_nusvm_3)\n",
    "acc_nusvm_3 = accuracy_score(y_test, pred_nusvm_3)\n",
    "print(acc_nusvm_3)\n",
    "prec_nusvm_3 = precision_score(y_test, pred_nusvm_3)\n",
    "print(prec_nusvm_3)\n",
    "ras_nusvm_3 = roc_auc_score(y_test, pred_nusvm_3)\n",
    "print(ras_nusvm_3)"
   ]
  },
  {
   "cell_type": "markdown",
   "metadata": {},
   "source": [
    "### Random Forest"
   ]
  },
  {
   "cell_type": "code",
   "execution_count": 143,
   "metadata": {},
   "outputs": [
    {
     "name": "stderr",
     "output_type": "stream",
     "text": [
      "C:\\Users\\jeanb\\Anaconda3\\lib\\site-packages\\sklearn\\ensemble\\forest.py:245: FutureWarning: The default value of n_estimators will change from 10 in version 0.20 to 100 in 0.22.\n",
      "  \"10 in version 0.20 to 100 in 0.22.\", FutureWarning)\n"
     ]
    },
    {
     "name": "stdout",
     "output_type": "stream",
     "text": [
      "[[ 374 1343]\n",
      " [ 729 6579]]\n",
      "0.770415512465374\n",
      "0.8304721030042919\n",
      "0.5590340437984684\n"
     ]
    }
   ],
   "source": [
    "rf_3 = RandomForestClassifier()\n",
    "rf_3.fit(X_train, y_train)\n",
    "\n",
    "pred_rf_3 = rf_3.predict(X_test)\n",
    "\n",
    "cm_rf_3 = confusion_matrix(y_test, pred_rf_3)\n",
    "print(cm_rf_3)\n",
    "acc_rf_3 = accuracy_score(y_test, pred_rf_3)\n",
    "print(acc_rf_3)\n",
    "prec_rf_3 = precision_score(y_test, pred_rf_3)\n",
    "print(prec_rf_3)\n",
    "ras_rf_3 = roc_auc_score(y_test, pred_rf_3)\n",
    "print(ras_rf_3)"
   ]
  },
  {
   "cell_type": "markdown",
   "metadata": {},
   "source": [
    "### KNN (KNeighborsClassifier)"
   ]
  },
  {
   "cell_type": "code",
   "execution_count": 144,
   "metadata": {},
   "outputs": [
    {
     "name": "stdout",
     "output_type": "stream",
     "text": [
      "[[ 327 1390]\n",
      " [ 572 6736]]\n",
      "0.7826038781163435\n",
      "0.8289441299532365\n",
      "0.5560890339975754\n"
     ]
    }
   ],
   "source": [
    "knn_3 = KNeighborsClassifier(n_neighbors=19, weights=\"distance\")\n",
    "knn_3.fit(X_train, y_train)\n",
    "\n",
    "pred_knn_3 = knn_3.predict(X_test)\n",
    "\n",
    "cm_knn_3 = confusion_matrix(y_test, pred_knn_3)\n",
    "print(cm_knn_3)\n",
    "acc_knn_3 = accuracy_score(y_test, pred_knn_3)\n",
    "print(acc_knn_3)\n",
    "prec_knn_3 = precision_score(y_test, pred_knn_3)\n",
    "print(prec_knn_3)\n",
    "ras_knn_3 = roc_auc_score(y_test, pred_knn_3)\n",
    "print(ras_knn_3)"
   ]
  },
  {
   "cell_type": "code",
   "execution_count": null,
   "metadata": {},
   "outputs": [],
   "source": []
  }
 ],
 "metadata": {
  "kernelspec": {
   "display_name": "Python 3",
   "language": "python",
   "name": "python3"
  },
  "language_info": {
   "codemirror_mode": {
    "name": "ipython",
    "version": 3
   },
   "file_extension": ".py",
   "mimetype": "text/x-python",
   "name": "python",
   "nbconvert_exporter": "python",
   "pygments_lexer": "ipython3",
   "version": "3.7.4"
  }
 },
 "nbformat": 4,
 "nbformat_minor": 4
}
